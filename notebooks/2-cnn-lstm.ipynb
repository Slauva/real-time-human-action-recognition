{
 "cells": [
  {
   "cell_type": "code",
   "execution_count": null,
   "id": "9e0885f3",
   "metadata": {
    "execution": {
     "iopub.execute_input": "2023-11-19T09:36:26.267024Z",
     "iopub.status.busy": "2023-11-19T09:36:26.266206Z",
     "iopub.status.idle": "2023-11-19T09:37:32.635803Z",
     "shell.execute_reply": "2023-11-19T09:37:32.634133Z"
    },
    "id": "Ft-u2b1iUQpg",
    "outputId": "ed64175e-8a74-4db8-e13c-2e68dd79adcb",
    "papermill": {
     "duration": 66.395205,
     "end_time": "2023-11-19T09:37:32.639038",
     "exception": false,
     "start_time": "2023-11-19T09:36:26.243833",
     "status": "completed"
    },
    "tags": []
   },
   "outputs": [],
   "source": [
    "# Discard the output of this cell.\n",
    "%%capture\n",
    "\n",
    "# Install the required libraries.\n",
    "!pip install tensorflow opencv-contrib-python pydot\n",
    "!pip install git+https://github.com/mps-youtube/pafy.git#egg=pafy"
   ]
  },
  {
   "cell_type": "code",
   "execution_count": 2,
   "id": "24ded726",
   "metadata": {
    "execution": {
     "iopub.execute_input": "2023-11-19T09:37:32.699362Z",
     "iopub.status.busy": "2023-11-19T09:37:32.698885Z",
     "iopub.status.idle": "2023-11-19T09:37:44.267572Z",
     "shell.execute_reply": "2023-11-19T09:37:44.266045Z"
    },
    "id": "X3AdbpZFCRR0",
    "outputId": "66f12adf-7944-4c89-854b-1af2e556fc46",
    "papermill": {
     "duration": 11.603133,
     "end_time": "2023-11-19T09:37:44.271052",
     "exception": false,
     "start_time": "2023-11-19T09:37:32.667919",
     "status": "completed"
    },
    "tags": []
   },
   "outputs": [],
   "source": [
    "# Import the required libraries.\n",
    "import numpy as np\n",
    "import random\n",
    "import cv2\n",
    "import os\n",
    "import tensorflow as tf\n",
    "import matplotlib.pyplot as plt\n",
    "%matplotlib inline\n",
    "\n",
    "from sklearn.model_selection import train_test_split\n",
    "\n",
    "from tensorflow.keras.layers import *\n",
    "from tensorflow.keras.models import Sequential\n",
    "from tensorflow.keras.utils import to_categorical\n",
    "from tensorflow.keras.callbacks import EarlyStopping"
   ]
  },
  {
   "cell_type": "code",
   "execution_count": 3,
   "id": "25799bce",
   "metadata": {
    "execution": {
     "iopub.execute_input": "2023-11-19T09:37:44.388829Z",
     "iopub.status.busy": "2023-11-19T09:37:44.387639Z",
     "iopub.status.idle": "2023-11-19T09:37:44.395189Z",
     "shell.execute_reply": "2023-11-19T09:37:44.394054Z"
    },
    "id": "9AFIAq0Q0VwG",
    "papermill": {
     "duration": 0.040755,
     "end_time": "2023-11-19T09:37:44.397857",
     "exception": false,
     "start_time": "2023-11-19T09:37:44.357102",
     "status": "completed"
    },
    "tags": []
   },
   "outputs": [],
   "source": [
    "seed_constant = 27\n",
    "np.random.seed(seed_constant)\n",
    "random.seed(seed_constant)\n",
    "tf.random.set_seed(seed_constant)"
   ]
  },
  {
   "cell_type": "markdown",
   "id": "fdbbb0d6",
   "metadata": {
    "id": "_FM1bpIeC29Z",
    "papermill": {
     "duration": 0.028024,
     "end_time": "2023-11-19T09:37:44.456307",
     "exception": false,
     "start_time": "2023-11-19T09:37:44.428283",
     "status": "completed"
    },
    "tags": []
   },
   "source": [
    "## Dataset"
   ]
  },
  {
   "cell_type": "code",
   "execution_count": 5,
   "id": "fff95529",
   "metadata": {
    "execution": {
     "iopub.execute_input": "2023-11-19T09:37:45.925434Z",
     "iopub.status.busy": "2023-11-19T09:37:45.924113Z",
     "iopub.status.idle": "2023-11-19T09:37:45.937233Z",
     "shell.execute_reply": "2023-11-19T09:37:45.936359Z"
    },
    "id": "gb4Fv7Ag-kwb",
    "papermill": {
     "duration": 0.055238,
     "end_time": "2023-11-19T09:37:45.940063",
     "exception": false,
     "start_time": "2023-11-19T09:37:45.884825",
     "status": "completed"
    },
    "tags": []
   },
   "outputs": [],
   "source": [
    "# Specify the height and width to which each video frame will be resized in our dataset.\n",
    "IMAGE_HEIGHT , IMAGE_WIDTH = 64, 64\n",
    "\n",
    "# Specify the number of frames of a video that will be fed to the model as one sequence.\n",
    "SEQUENCE_LENGTH = 20\n",
    "\n",
    "# Specify the directory containing the UCF50 dataset. \n",
    "DATASET_DIR = \"/kaggle/input/ucf50-action-recognition-dataset/UCF50/\"\n",
    "\n",
    "# Specify the list containing the names of the classes used for training. Feel free to choose any set of classes.\n",
    "CLASSES_LIST = os.listdir('/kaggle/input/ucf50-action-recognition-dataset/UCF50/')"
   ]
  },
  {
   "cell_type": "markdown",
   "metadata": {},
   "source": [
    "Extract frames"
   ]
  },
  {
   "cell_type": "code",
   "execution_count": 6,
   "id": "fc092d68",
   "metadata": {
    "execution": {
     "iopub.execute_input": "2023-11-19T09:37:46.090960Z",
     "iopub.status.busy": "2023-11-19T09:37:46.090529Z",
     "iopub.status.idle": "2023-11-19T09:37:46.101003Z",
     "shell.execute_reply": "2023-11-19T09:37:46.100090Z"
    },
    "id": "zBu224OG-szz",
    "papermill": {
     "duration": 0.051964,
     "end_time": "2023-11-19T09:37:46.103554",
     "exception": false,
     "start_time": "2023-11-19T09:37:46.051590",
     "status": "completed"
    },
    "tags": []
   },
   "outputs": [],
   "source": [
    "def frames_extraction(video_path):\n",
    "    # Declare a list to store video frames.\n",
    "    frames_list = []\n",
    "    \n",
    "    # Read the Video File using the VideoCapture object.\n",
    "    video_reader = cv2.VideoCapture(video_path)\n",
    "\n",
    "    # Get the total number of frames in the video.\n",
    "    video_frames_count = int(video_reader.get(cv2.CAP_PROP_FRAME_COUNT))\n",
    "\n",
    "    # Calculate the the interval after which frames will be added to the list.\n",
    "    skip_frames_window = max(int(video_frames_count/SEQUENCE_LENGTH), 1)\n",
    "\n",
    "    # Iterate through the Video Frames.\n",
    "    for frame_counter in range(SEQUENCE_LENGTH):\n",
    "\n",
    "        # Set the current frame position of the video.\n",
    "        video_reader.set(cv2.CAP_PROP_POS_FRAMES, frame_counter * skip_frames_window)\n",
    "\n",
    "        # Reading the frame from the video. \n",
    "        success, frame = video_reader.read() \n",
    "\n",
    "        # Check if Video frame is not successfully read then break the loop\n",
    "        if not success:\n",
    "            break\n",
    "\n",
    "        # Resize the Frame to fixed height and width.\n",
    "        resized_frame = cv2.resize(frame, (IMAGE_HEIGHT, IMAGE_WIDTH))\n",
    "        \n",
    "        # Normalize the resized frame by dividing it with 255 so that each pixel value then lies between 0 and 1\n",
    "        normalized_frame = resized_frame / 255\n",
    "        \n",
    "        # Append the normalized frame into the frames list\n",
    "        frames_list.append(normalized_frame)\n",
    "    \n",
    "    # Release the VideoCapture object. \n",
    "    video_reader.release()\n",
    "\n",
    "    # Return the frames list.\n",
    "    return frames_list"
   ]
  },
  {
   "cell_type": "markdown",
   "metadata": {},
   "source": [
    "Create dataset"
   ]
  },
  {
   "cell_type": "code",
   "execution_count": 7,
   "id": "bb679b76",
   "metadata": {
    "execution": {
     "iopub.execute_input": "2023-11-19T09:37:46.257159Z",
     "iopub.status.busy": "2023-11-19T09:37:46.256388Z",
     "iopub.status.idle": "2023-11-19T09:37:46.268142Z",
     "shell.execute_reply": "2023-11-19T09:37:46.266661Z"
    },
    "id": "j6MLp9PpDJ4-",
    "papermill": {
     "duration": 0.055652,
     "end_time": "2023-11-19T09:37:46.271035",
     "exception": false,
     "start_time": "2023-11-19T09:37:46.215383",
     "status": "completed"
    },
    "tags": []
   },
   "outputs": [],
   "source": [
    "def create_dataset():\n",
    "    # Declared Empty Lists to store the features, labels and video file path values.\n",
    "    features = []\n",
    "    labels = []\n",
    "    video_files_paths = []\n",
    "    \n",
    "    # Iterating through all the classes mentioned in the classes list\n",
    "    for class_index, class_name in enumerate(CLASSES_LIST):\n",
    "        \n",
    "        # Display the name of the class whose data is being extracted.\n",
    "        print(f'Extracting Data of Class: {class_name}')\n",
    "        \n",
    "        # Get the list of video files present in the specific class name directory.\n",
    "        files_list = os.listdir(os.path.join(DATASET_DIR, class_name))\n",
    "        \n",
    "        # Iterate through all the files present in the files list.\n",
    "        for file_name in files_list[:100]:\n",
    "            \n",
    "            # Get the complete video path.\n",
    "            video_file_path = os.path.join(DATASET_DIR, class_name, file_name)\n",
    "\n",
    "            # Extract the frames of the video file.\n",
    "            frames = frames_extraction(video_file_path)\n",
    "\n",
    "            # Check if the extracted frames are equal to the SEQUENCE_LENGTH specified above.\n",
    "            # So ignore the vides having frames less than the SEQUENCE_LENGTH.\n",
    "            if len(frames) == SEQUENCE_LENGTH:\n",
    "\n",
    "                # Append the data to their repective lists.\n",
    "                features.append(frames)\n",
    "                labels.append(class_index)\n",
    "                video_files_paths.append(video_file_path)\n",
    "\n",
    "    # Converting the list to numpy arrays\n",
    "    features = np.asarray(features)\n",
    "    labels = np.array(labels)  \n",
    "    \n",
    "    # Return the frames, class index, and video file path.\n",
    "    return features, labels, video_files_paths"
   ]
  },
  {
   "cell_type": "code",
   "execution_count": null,
   "id": "dcd1296e",
   "metadata": {
    "execution": {
     "iopub.execute_input": "2023-11-19T09:37:46.422897Z",
     "iopub.status.busy": "2023-11-19T09:37:46.422470Z",
     "iopub.status.idle": "2023-11-19T09:47:17.074462Z",
     "shell.execute_reply": "2023-11-19T09:47:17.072926Z"
    },
    "id": "ckAYgSriJN_R",
    "outputId": "acc4a933-d3f3-4aea-864c-15333f69cdd4",
    "papermill": {
     "duration": 570.695615,
     "end_time": "2023-11-19T09:47:17.078317",
     "exception": false,
     "start_time": "2023-11-19T09:37:46.382702",
     "status": "completed"
    },
    "tags": []
   },
   "outputs": [],
   "source": [
    "# Create the dataset.\n",
    "features, labels, video_files_paths = create_dataset()"
   ]
  },
  {
   "cell_type": "code",
   "execution_count": 9,
   "id": "4bb7d1e9",
   "metadata": {
    "execution": {
     "iopub.execute_input": "2023-11-19T09:47:17.276586Z",
     "iopub.status.busy": "2023-11-19T09:47:17.275652Z",
     "iopub.status.idle": "2023-11-19T09:47:17.281124Z",
     "shell.execute_reply": "2023-11-19T09:47:17.280175Z"
    },
    "id": "KfcpuV6_Bd_T",
    "papermill": {
     "duration": 0.058017,
     "end_time": "2023-11-19T09:47:17.283961",
     "exception": false,
     "start_time": "2023-11-19T09:47:17.225944",
     "status": "completed"
    },
    "tags": []
   },
   "outputs": [],
   "source": [
    "# Using Keras's to_categorical method to convert labels into one-hot-encoded vectors\n",
    "one_hot_encoded_labels = to_categorical(labels)"
   ]
  },
  {
   "cell_type": "markdown",
   "metadata": {},
   "source": [
    "Train and test split"
   ]
  },
  {
   "cell_type": "code",
   "execution_count": 10,
   "id": "e8bc1517",
   "metadata": {
    "execution": {
     "iopub.execute_input": "2023-11-19T09:47:17.480563Z",
     "iopub.status.busy": "2023-11-19T09:47:17.479787Z",
     "iopub.status.idle": "2023-11-19T09:47:20.442412Z",
     "shell.execute_reply": "2023-11-19T09:47:20.440759Z"
    },
    "id": "UhkQjq1JJSO2",
    "papermill": {
     "duration": 3.017289,
     "end_time": "2023-11-19T09:47:20.446126",
     "exception": false,
     "start_time": "2023-11-19T09:47:17.428837",
     "status": "completed"
    },
    "tags": []
   },
   "outputs": [],
   "source": [
    "# Split the Data into Train ( 80% ) and Test Set ( 20% ).\n",
    "features_train, features_test, labels_train, labels_test = train_test_split(features, one_hot_encoded_labels,\n",
    "                                                                            test_size = 0.2, shuffle = True,\n",
    "                                                                            random_state = seed_constant)"
   ]
  },
  {
   "cell_type": "markdown",
   "id": "5890bc86",
   "metadata": {
    "id": "x8Ui5hLP1P9Q",
    "papermill": {
     "duration": 0.044124,
     "end_time": "2023-11-19T09:47:20.685583",
     "exception": false,
     "start_time": "2023-11-19T09:47:20.641459",
     "status": "completed"
    },
    "tags": []
   },
   "source": [
    "## ConvLSTM Model\n",
    "\n",
    "<center>\n",
    "<img src=\"https://drive.google.com/uc?export=view&id=1KHN_JFWJoJi1xQj_bRdxy2QgevGOH1qP\" width= 500px>\n",
    "</center>\n"
   ]
  },
  {
   "cell_type": "markdown",
   "metadata": {},
   "source": [
    "### Construct the Model"
   ]
  },
  {
   "cell_type": "code",
   "execution_count": 12,
   "id": "435e921d",
   "metadata": {
    "execution": {
     "iopub.execute_input": "2023-11-19T09:47:20.867585Z",
     "iopub.status.busy": "2023-11-19T09:47:20.866749Z",
     "iopub.status.idle": "2023-11-19T09:47:20.887606Z",
     "shell.execute_reply": "2023-11-19T09:47:20.885586Z"
    },
    "id": "h8cDSpfXJXwx",
    "papermill": {
     "duration": 0.076514,
     "end_time": "2023-11-19T09:47:20.890578",
     "exception": false,
     "start_time": "2023-11-19T09:47:20.814064",
     "status": "completed"
    },
    "tags": []
   },
   "outputs": [],
   "source": [
    "def create_convlstm_model():\n",
    "    # We will use a Sequential model for model construction\n",
    "    model = Sequential()\n",
    "\n",
    "    # Define the Model Architecture.\n",
    "    ########################################################################################################################\n",
    "    \n",
    "    model.add(ConvLSTM2D(filters = 4, kernel_size = (3, 3), activation = 'tanh',data_format = \"channels_last\",\n",
    "                         recurrent_dropout=0.2, return_sequences=True, input_shape = (SEQUENCE_LENGTH,\n",
    "                                                                                      IMAGE_HEIGHT, IMAGE_WIDTH, 3)))\n",
    "    model.add(MaxPooling3D(pool_size=(1, 2, 2), padding='same', data_format='channels_last'))\n",
    "    model.add(TimeDistributed(Dropout(0.2)))\n",
    "    \n",
    "    model.add(ConvLSTM2D(filters = 8, kernel_size = (3, 3), activation = 'tanh', data_format = \"channels_last\",\n",
    "                         recurrent_dropout=0.2, return_sequences=True))\n",
    "    model.add(MaxPooling3D(pool_size=(1, 2, 2), padding='same', data_format='channels_last'))\n",
    "    model.add(TimeDistributed(Dropout(0.2)))\n",
    "    \n",
    "    model.add(ConvLSTM2D(filters = 14, kernel_size = (3, 3), activation = 'tanh', data_format = \"channels_last\",\n",
    "                         recurrent_dropout=0.2, return_sequences=True))\n",
    "    model.add(MaxPooling3D(pool_size=(1, 2, 2), padding='same', data_format='channels_last'))\n",
    "    model.add(TimeDistributed(Dropout(0.2)))\n",
    "\n",
    "    model.add(ConvLSTM2D(filters = 16, kernel_size = (3, 3), activation = 'tanh', data_format = \"channels_last\",\n",
    "                         recurrent_dropout=0.2, return_sequences=True))\n",
    "    model.add(MaxPooling3D(pool_size=(1, 2, 2), padding='same', data_format='channels_last'))\n",
    "    \n",
    "    model.add(Flatten()) \n",
    "    model.add(Dense(len(CLASSES_LIST), activation = \"softmax\"))\n",
    "    ########################################################################################################################\n",
    "     \n",
    "    # Display the models summary.\n",
    "    model.summary()\n",
    "    \n",
    "    # Return the constructed convlstm model.\n",
    "    return model"
   ]
  },
  {
   "cell_type": "code",
   "execution_count": 13,
   "id": "6634cbcd",
   "metadata": {
    "execution": {
     "iopub.execute_input": "2023-11-19T09:47:21.091392Z",
     "iopub.status.busy": "2023-11-19T09:47:21.090637Z",
     "iopub.status.idle": "2023-11-19T09:47:21.811765Z",
     "shell.execute_reply": "2023-11-19T09:47:21.810782Z"
    },
    "id": "2D1CS2Z6Jkp5",
    "outputId": "4ca6e36b-5bda-4c45-d1c0-9db31d33f369",
    "papermill": {
     "duration": 0.78742,
     "end_time": "2023-11-19T09:47:21.814476",
     "exception": false,
     "start_time": "2023-11-19T09:47:21.027056",
     "status": "completed"
    },
    "tags": []
   },
   "outputs": [
    {
     "name": "stdout",
     "output_type": "stream",
     "text": [
      "Model: \"sequential\"\n",
      "_________________________________________________________________\n",
      "Layer (type)                 Output Shape              Param #   \n",
      "=================================================================\n",
      "conv_lst_m2d (ConvLSTM2D)    (None, 20, 62, 62, 4)     1024      \n",
      "_________________________________________________________________\n",
      "max_pooling3d (MaxPooling3D) (None, 20, 31, 31, 4)     0         \n",
      "_________________________________________________________________\n",
      "time_distributed (TimeDistri (None, 20, 31, 31, 4)     0         \n",
      "_________________________________________________________________\n",
      "conv_lst_m2d_1 (ConvLSTM2D)  (None, 20, 29, 29, 8)     3488      \n",
      "_________________________________________________________________\n",
      "max_pooling3d_1 (MaxPooling3 (None, 20, 15, 15, 8)     0         \n",
      "_________________________________________________________________\n",
      "time_distributed_1 (TimeDist (None, 20, 15, 15, 8)     0         \n",
      "_________________________________________________________________\n",
      "conv_lst_m2d_2 (ConvLSTM2D)  (None, 20, 13, 13, 14)    11144     \n",
      "_________________________________________________________________\n",
      "max_pooling3d_2 (MaxPooling3 (None, 20, 7, 7, 14)      0         \n",
      "_________________________________________________________________\n",
      "time_distributed_2 (TimeDist (None, 20, 7, 7, 14)      0         \n",
      "_________________________________________________________________\n",
      "conv_lst_m2d_3 (ConvLSTM2D)  (None, 20, 5, 5, 16)      17344     \n",
      "_________________________________________________________________\n",
      "max_pooling3d_3 (MaxPooling3 (None, 20, 3, 3, 16)      0         \n",
      "_________________________________________________________________\n",
      "flatten (Flatten)            (None, 2880)              0         \n",
      "_________________________________________________________________\n",
      "dense (Dense)                (None, 50)                144050    \n",
      "=================================================================\n",
      "Total params: 177,050\n",
      "Trainable params: 177,050\n",
      "Non-trainable params: 0\n",
      "_________________________________________________________________\n",
      "Model Created Successfully!\n"
     ]
    }
   ],
   "source": [
    "# Construct the required convlstm model.\n",
    "convlstm_model = create_convlstm_model()\n",
    "\n",
    "# Display the success message. \n",
    "print(\"Model Created Successfully!\")"
   ]
  },
  {
   "cell_type": "markdown",
   "id": "29e29991",
   "metadata": {
    "id": "ZHKkZvkCOnMU",
    "papermill": {
     "duration": 0.041875,
     "end_time": "2023-11-19T09:47:22.077129",
     "exception": false,
     "start_time": "2023-11-19T09:47:22.035254",
     "status": "completed"
    },
    "tags": []
   },
   "source": [
    "### Compile & Train the Model"
   ]
  },
  {
   "cell_type": "code",
   "execution_count": 15,
   "id": "4d80ddc3",
   "metadata": {
    "execution": {
     "iopub.execute_input": "2023-11-19T09:47:22.166758Z",
     "iopub.status.busy": "2023-11-19T09:47:22.165603Z",
     "iopub.status.idle": "2023-11-19T11:03:03.085315Z",
     "shell.execute_reply": "2023-11-19T11:03:03.080729Z"
    },
    "id": "Yxx_adaPr8Vf",
    "outputId": "b2b056fe-f10c-4c7e-a652-2fc2736e0c20",
    "papermill": {
     "duration": 4540.969884,
     "end_time": "2023-11-19T11:03:03.089276",
     "exception": false,
     "start_time": "2023-11-19T09:47:22.119392",
     "status": "completed"
    },
    "tags": []
   },
   "outputs": [
    {
     "name": "stdout",
     "output_type": "stream",
     "text": [
      "Epoch 1/15\n",
      "200/200 [==============================] - 314s 2s/step - loss: 3.5669 - accuracy: 0.0988 - val_loss: 3.1330 - val_accuracy: 0.1863\n",
      "Epoch 2/15\n",
      "200/200 [==============================] - 300s 2s/step - loss: 2.8008 - accuracy: 0.2522 - val_loss: 2.6659 - val_accuracy: 0.2763\n",
      "Epoch 3/15\n",
      "200/200 [==============================] - 300s 1s/step - loss: 2.2928 - accuracy: 0.3766 - val_loss: 2.5342 - val_accuracy: 0.3088\n",
      "Epoch 4/15\n",
      "200/200 [==============================] - 301s 2s/step - loss: 1.8691 - accuracy: 0.4825 - val_loss: 2.1803 - val_accuracy: 0.4187\n",
      "Epoch 5/15\n",
      "200/200 [==============================] - 300s 2s/step - loss: 1.5429 - accuracy: 0.5744 - val_loss: 2.1333 - val_accuracy: 0.4238\n",
      "Epoch 6/15\n",
      "200/200 [==============================] - 299s 1s/step - loss: 1.2831 - accuracy: 0.6450 - val_loss: 1.9065 - val_accuracy: 0.5038\n",
      "Epoch 7/15\n",
      "200/200 [==============================] - 300s 1s/step - loss: 1.0383 - accuracy: 0.7022 - val_loss: 1.9792 - val_accuracy: 0.4787\n",
      "Epoch 8/15\n",
      "200/200 [==============================] - 300s 2s/step - loss: 0.8407 - accuracy: 0.7556 - val_loss: 2.0179 - val_accuracy: 0.4950\n",
      "Epoch 9/15\n",
      "200/200 [==============================] - 303s 2s/step - loss: 0.6919 - accuracy: 0.7956 - val_loss: 1.8794 - val_accuracy: 0.5425\n",
      "Epoch 10/15\n",
      "200/200 [==============================] - 302s 2s/step - loss: 0.5746 - accuracy: 0.8356 - val_loss: 1.9032 - val_accuracy: 0.5450\n",
      "Epoch 11/15\n",
      "200/200 [==============================] - 301s 2s/step - loss: 0.4601 - accuracy: 0.8631 - val_loss: 1.8683 - val_accuracy: 0.5713\n",
      "Epoch 12/15\n",
      "200/200 [==============================] - 300s 2s/step - loss: 0.3756 - accuracy: 0.8903 - val_loss: 1.9744 - val_accuracy: 0.5550\n",
      "Epoch 13/15\n",
      "200/200 [==============================] - 300s 2s/step - loss: 0.3145 - accuracy: 0.9106 - val_loss: 1.9386 - val_accuracy: 0.5863\n",
      "Epoch 14/15\n",
      "200/200 [==============================] - 298s 1s/step - loss: 0.3011 - accuracy: 0.9025 - val_loss: 2.1556 - val_accuracy: 0.5400\n",
      "Epoch 15/15\n",
      "200/200 [==============================] - 301s 2s/step - loss: 0.2382 - accuracy: 0.9322 - val_loss: 2.0031 - val_accuracy: 0.5800\n"
     ]
    }
   ],
   "source": [
    "# Create an Instance of Early Stopping Callback\n",
    "early_stopping_callback = EarlyStopping(monitor = 'val_loss', patience = 10, mode = 'min', restore_best_weights = True)\n",
    "\n",
    "# Compile the model and specify loss function, optimizer and metrics values to the model\n",
    "convlstm_model.compile(loss = 'categorical_crossentropy', optimizer = 'Adam', metrics = [\"accuracy\"])\n",
    "\n",
    "# Start training the model.\n",
    "convlstm_model_training_history = convlstm_model.fit(x = features_train, y = labels_train, epochs = 15, batch_size = 16,\n",
    "                                                     shuffle = True, validation_split = 0.2, \n",
    "                                                     callbacks = [early_stopping_callback])"
   ]
  },
  {
   "cell_type": "markdown",
   "id": "8d26e56c",
   "metadata": {
    "id": "z1KR_kfz2oFl",
    "papermill": {
     "duration": 0.30949,
     "end_time": "2023-11-19T11:03:03.717032",
     "exception": false,
     "start_time": "2023-11-19T11:03:03.407542",
     "status": "completed"
    },
    "tags": []
   },
   "source": [
    "### Evaluate the Model"
   ]
  },
  {
   "cell_type": "code",
   "execution_count": 16,
   "id": "13402a11",
   "metadata": {
    "execution": {
     "iopub.execute_input": "2023-11-19T11:03:04.345217Z",
     "iopub.status.busy": "2023-11-19T11:03:04.342961Z",
     "iopub.status.idle": "2023-11-19T11:03:25.661447Z",
     "shell.execute_reply": "2023-11-19T11:03:25.660263Z"
    },
    "id": "74tGjokkmSHR",
    "outputId": "4b1fbfb9-e8e6-4107-9b7a-291e3d092bef",
    "papermill": {
     "duration": 21.636192,
     "end_time": "2023-11-19T11:03:25.664229",
     "exception": false,
     "start_time": "2023-11-19T11:03:04.028037",
     "status": "completed"
    },
    "tags": []
   },
   "outputs": [
    {
     "name": "stdout",
     "output_type": "stream",
     "text": [
      "32/32 [==============================] - 18s 488ms/step - loss: 2.0311 - accuracy: 0.5670\n"
     ]
    }
   ],
   "source": [
    "# Evaluate the trained model.\n",
    "model_evaluation_history = convlstm_model.evaluate(features_test, labels_test)"
   ]
  },
  {
   "cell_type": "markdown",
   "id": "21a92d1f",
   "metadata": {
    "id": "TGglb-k867iK",
    "papermill": {
     "duration": 0.313901,
     "end_time": "2023-11-19T11:03:26.296640",
     "exception": false,
     "start_time": "2023-11-19T11:03:25.982739",
     "status": "completed"
    },
    "tags": []
   },
   "source": [
    "### Save the Model"
   ]
  },
  {
   "cell_type": "code",
   "execution_count": 17,
   "id": "86ce5e2a",
   "metadata": {
    "execution": {
     "iopub.execute_input": "2023-11-19T11:03:26.929688Z",
     "iopub.status.busy": "2023-11-19T11:03:26.928850Z",
     "iopub.status.idle": "2023-11-19T11:03:27.024475Z",
     "shell.execute_reply": "2023-11-19T11:03:27.023467Z"
    },
    "id": "GLfnP_czYudN",
    "papermill": {
     "duration": 0.415557,
     "end_time": "2023-11-19T11:03:27.027313",
     "exception": false,
     "start_time": "2023-11-19T11:03:26.611756",
     "status": "completed"
    },
    "tags": []
   },
   "outputs": [],
   "source": [
    "# Get the loss and accuracy from model_evaluation_history.\n",
    "model_evaluation_loss, model_evaluation_accuracy = model_evaluation_history\n",
    "\n",
    "# Define a useful name for our model to make it easy for us while navigating through multiple saved models.\n",
    "model_file_name = f'convlstm_model.h5'\n",
    "\n",
    "# Save your Model.\n",
    "convlstm_model.save(model_file_name)"
   ]
  },
  {
   "cell_type": "markdown",
   "id": "16d505e0",
   "metadata": {
    "id": "BSeAfu6uZdai",
    "papermill": {
     "duration": 0.311238,
     "end_time": "2023-11-19T11:03:27.651749",
     "exception": false,
     "start_time": "2023-11-19T11:03:27.340511",
     "status": "completed"
    },
    "tags": []
   },
   "source": [
    "### Plot Model’s Loss & Accuracy Curves"
   ]
  },
  {
   "cell_type": "code",
   "execution_count": 18,
   "id": "b921ca8c",
   "metadata": {
    "execution": {
     "iopub.execute_input": "2023-11-19T11:03:28.355998Z",
     "iopub.status.busy": "2023-11-19T11:03:28.354975Z",
     "iopub.status.idle": "2023-11-19T11:03:28.364111Z",
     "shell.execute_reply": "2023-11-19T11:03:28.363248Z"
    },
    "id": "qrQnmVF7aZjQ",
    "papermill": {
     "duration": 0.326878,
     "end_time": "2023-11-19T11:03:28.366632",
     "exception": false,
     "start_time": "2023-11-19T11:03:28.039754",
     "status": "completed"
    },
    "tags": []
   },
   "outputs": [],
   "source": [
    "def plot_metric(model_training_history, metric_name_1, metric_name_2, plot_name):\n",
    "    # Get metric values using metric names as identifiers.\n",
    "    metric_value_1 = model_training_history.history[metric_name_1]\n",
    "    metric_value_2 = model_training_history.history[metric_name_2]\n",
    "    \n",
    "    # Construct a range object which will be used as x-axis (horizontal plane) of the graph.\n",
    "    epochs = range(len(metric_value_1))\n",
    "\n",
    "    # Plot the Graph.\n",
    "    plt.plot(epochs, metric_value_1, 'blue', label = metric_name_1)\n",
    "    plt.plot(epochs, metric_value_2, 'red', label = metric_name_2)\n",
    "\n",
    "    # Add title to the plot.\n",
    "    plt.title(str(plot_name))\n",
    "\n",
    "    # Add legend to the plot.\n",
    "    plt.legend()"
   ]
  },
  {
   "cell_type": "code",
   "execution_count": 19,
   "id": "e2fb57e7",
   "metadata": {
    "execution": {
     "iopub.execute_input": "2023-11-19T11:03:29.627112Z",
     "iopub.status.busy": "2023-11-19T11:03:29.626343Z",
     "iopub.status.idle": "2023-11-19T11:03:30.848479Z",
     "shell.execute_reply": "2023-11-19T11:03:30.846580Z"
    },
    "id": "tKABbscJblP_",
    "outputId": "fce8077a-2305-4efe-ec9d-4b85f5fd7a3b",
    "papermill": {
     "duration": 1.539769,
     "end_time": "2023-11-19T11:03:30.852548",
     "exception": false,
     "start_time": "2023-11-19T11:03:29.312779",
     "status": "completed"
    },
    "tags": []
   },
   "outputs": [
    {
     "data": {
      "image/png": "[encoded data removed]",
      "text/plain": [
       "<Figure size 432x288 with 1 Axes>"
      ]
     },
     "metadata": {
      "needs_background": "light"
     },
     "output_type": "display_data"
    }
   ],
   "source": [
    "# Visualize the training and validation loss metrices.\n",
    "plot_metric(convlstm_model_training_history, 'loss', 'val_loss', 'Total Loss vs Total Validation Loss')"
   ]
  },
  {
   "cell_type": "code",
   "execution_count": 20,
   "id": "0090d1b9",
   "metadata": {
    "execution": {
     "iopub.execute_input": "2023-11-19T11:03:31.506773Z",
     "iopub.status.busy": "2023-11-19T11:03:31.506285Z",
     "iopub.status.idle": "2023-11-19T11:03:31.739301Z",
     "shell.execute_reply": "2023-11-19T11:03:31.738263Z"
    },
    "id": "cTSpJP-bb7WV",
    "outputId": "2f579841-e971-475f-e347-1505597d56cc",
    "papermill": {
     "duration": 0.55134,
     "end_time": "2023-11-19T11:03:31.741767",
     "exception": false,
     "start_time": "2023-11-19T11:03:31.190427",
     "status": "completed"
    },
    "tags": []
   },
   "outputs": [
    {
     "data": {
      "image/png": "[encoded data removed]",
      "text/plain": [
       "<Figure size 432x288 with 1 Axes>"
      ]
     },
     "metadata": {
      "needs_background": "light"
     },
     "output_type": "display_data"
    }
   ],
   "source": [
    "# Visualize the training and validation accuracy metrices.\n",
    "plot_metric(convlstm_model_training_history, 'accuracy', 'val_accuracy', 'Total Accuracy vs Total Validation Accuracy') "
   ]
  },
  {
   "cell_type": "markdown",
   "id": "9d703a35",
   "metadata": {
    "id": "clp7BFVDBNxp",
    "papermill": {
     "duration": 0.311325,
     "end_time": "2023-11-19T11:03:32.365693",
     "exception": false,
     "start_time": "2023-11-19T11:03:32.054368",
     "status": "completed"
    },
    "tags": []
   },
   "source": [
    "## LRCN Model\n",
    "\n",
    "<center>\n",
    "<img src='https://drive.google.com/uc?export=download&id=1I-q5yLsIoNh2chfzT7JYvra17FsXvdme'>\n",
    "</center>\n",
    "\n",
    "<!-- <center>\n",
    "<img src='https://drive.google.com/uc?export=download&id=1CbauSm5XTY7ypHYBHH7rDSnJ5LO9CUWX' width=400>\n",
    "</center> -->"
   ]
  },
  {
   "cell_type": "markdown",
   "id": "b3cda472",
   "metadata": {
    "id": "pyKaiYrQ4iM6",
    "papermill": {
     "duration": 0.31522,
     "end_time": "2023-11-19T11:03:32.990191",
     "exception": false,
     "start_time": "2023-11-19T11:03:32.674971",
     "status": "completed"
    },
    "tags": []
   },
   "source": [
    "### Construct the Model"
   ]
  },
  {
   "cell_type": "code",
   "execution_count": 21,
   "id": "8a603314",
   "metadata": {
    "execution": {
     "iopub.execute_input": "2023-11-19T11:03:33.682102Z",
     "iopub.status.busy": "2023-11-19T11:03:33.681355Z",
     "iopub.status.idle": "2023-11-19T11:03:33.695370Z",
     "shell.execute_reply": "2023-11-19T11:03:33.694402Z"
    },
    "id": "HKM766mB1fIv",
    "papermill": {
     "duration": 0.329487,
     "end_time": "2023-11-19T11:03:33.698074",
     "exception": false,
     "start_time": "2023-11-19T11:03:33.368587",
     "status": "completed"
    },
    "tags": []
   },
   "outputs": [],
   "source": [
    "def create_LRCN_model():\n",
    "# We will use a Sequential model for model construction.\n",
    "    model = Sequential()\n",
    "    \n",
    "    # Define the Model Architecture.\n",
    "    ########################################################################################################################\n",
    "    \n",
    "    model.add(TimeDistributed(Conv2D(16, (3, 3), padding='same',activation = 'relu'),\n",
    "                              input_shape = (SEQUENCE_LENGTH, IMAGE_HEIGHT, IMAGE_WIDTH, 3)))\n",
    "    \n",
    "    model.add(TimeDistributed(MaxPooling2D((4, 4)))) \n",
    "    model.add(TimeDistributed(Dropout(0.25)))\n",
    "    \n",
    "    model.add(TimeDistributed(Conv2D(32, (3, 3), padding='same',activation = 'relu')))\n",
    "    model.add(TimeDistributed(MaxPooling2D((4, 4))))\n",
    "    model.add(TimeDistributed(Dropout(0.25)))\n",
    "    \n",
    "    model.add(TimeDistributed(Conv2D(64, (3, 3), padding='same',activation = 'relu')))\n",
    "    model.add(TimeDistributed(MaxPooling2D((2, 2))))\n",
    "    model.add(TimeDistributed(Dropout(0.25)))\n",
    "    \n",
    "    model.add(TimeDistributed(Conv2D(64, (3, 3), padding='same',activation = 'relu')))\n",
    "    model.add(TimeDistributed(MaxPooling2D((2, 2))))\n",
    "                                      \n",
    "    model.add(TimeDistributed(Flatten()))\n",
    "                                      \n",
    "    model.add(LSTM(32))\n",
    "                                      \n",
    "    model.add(Dense(len(CLASSES_LIST), activation = 'softmax'))\n",
    "\n",
    "    ########################################################################################################################\n",
    "\n",
    "    # Display the models summary.\n",
    "    model.summary()\n",
    "    \n",
    "    # Return the constructed LRCN model.\n",
    "    return model"
   ]
  },
  {
   "cell_type": "code",
   "execution_count": 22,
   "id": "95be153f",
   "metadata": {
    "execution": {
     "iopub.execute_input": "2023-11-19T11:03:34.963977Z",
     "iopub.status.busy": "2023-11-19T11:03:34.963235Z",
     "iopub.status.idle": "2023-11-19T11:03:35.459118Z",
     "shell.execute_reply": "2023-11-19T11:03:35.458211Z"
    },
    "id": "ZJjC2VA2JkqD",
    "outputId": "a627c9e5-dbd6-4e3f-99dd-0de1213da7bf",
    "papermill": {
     "duration": 0.816874,
     "end_time": "2023-11-19T11:03:35.462013",
     "exception": false,
     "start_time": "2023-11-19T11:03:34.645139",
     "status": "completed"
    },
    "tags": []
   },
   "outputs": [
    {
     "name": "stdout",
     "output_type": "stream",
     "text": [
      "Model: \"sequential_1\"\n",
      "_________________________________________________________________\n",
      "Layer (type)                 Output Shape              Param #   \n",
      "=================================================================\n",
      "time_distributed_3 (TimeDist (None, 20, 64, 64, 16)    448       \n",
      "_________________________________________________________________\n",
      "time_distributed_4 (TimeDist (None, 20, 16, 16, 16)    0         \n",
      "_________________________________________________________________\n",
      "time_distributed_5 (TimeDist (None, 20, 16, 16, 16)    0         \n",
      "_________________________________________________________________\n",
      "time_distributed_6 (TimeDist (None, 20, 16, 16, 32)    4640      \n",
      "_________________________________________________________________\n",
      "time_distributed_7 (TimeDist (None, 20, 4, 4, 32)      0         \n",
      "_________________________________________________________________\n",
      "time_distributed_8 (TimeDist (None, 20, 4, 4, 32)      0         \n",
      "_________________________________________________________________\n",
      "time_distributed_9 (TimeDist (None, 20, 4, 4, 64)      18496     \n",
      "_________________________________________________________________\n",
      "time_distributed_10 (TimeDis (None, 20, 2, 2, 64)      0         \n",
      "_________________________________________________________________\n",
      "time_distributed_11 (TimeDis (None, 20, 2, 2, 64)      0         \n",
      "_________________________________________________________________\n",
      "time_distributed_12 (TimeDis (None, 20, 2, 2, 64)      36928     \n",
      "_________________________________________________________________\n",
      "time_distributed_13 (TimeDis (None, 20, 1, 1, 64)      0         \n",
      "_________________________________________________________________\n",
      "time_distributed_14 (TimeDis (None, 20, 64)            0         \n",
      "_________________________________________________________________\n",
      "lstm (LSTM)                  (None, 32)                12416     \n",
      "_________________________________________________________________\n",
      "dense_1 (Dense)              (None, 50)                1650      \n",
      "=================================================================\n",
      "Total params: 74,578\n",
      "Trainable params: 74,578\n",
      "Non-trainable params: 0\n",
      "_________________________________________________________________\n",
      "Model Created Successfully!\n"
     ]
    }
   ],
   "source": [
    "# Construct the required LRCN model.\n",
    "LRCN_model = create_LRCN_model()\n",
    "\n",
    "# Display the success message.\n",
    "print(\"Model Created Successfully!\")"
   ]
  },
  {
   "cell_type": "markdown",
   "id": "22e0373b",
   "metadata": {
    "id": "wsDrzxCDA5lX",
    "papermill": {
     "duration": 0.312906,
     "end_time": "2023-11-19T11:03:37.362352",
     "exception": false,
     "start_time": "2023-11-19T11:03:37.049446",
     "status": "completed"
    },
    "tags": []
   },
   "source": [
    "### Compile & Train the Model"
   ]
  },
  {
   "cell_type": "code",
   "execution_count": 24,
   "id": "3b62c402",
   "metadata": {
    "execution": {
     "iopub.execute_input": "2023-11-19T11:03:38.066208Z",
     "iopub.status.busy": "2023-11-19T11:03:38.065385Z",
     "iopub.status.idle": "2023-11-19T11:27:14.449222Z",
     "shell.execute_reply": "2023-11-19T11:27:14.448085Z"
    },
    "id": "mtrQGXc8A5lY",
    "papermill": {
     "duration": 1416.704706,
     "end_time": "2023-11-19T11:27:14.452295",
     "exception": false,
     "start_time": "2023-11-19T11:03:37.747589",
     "status": "completed"
    },
    "tags": []
   },
   "outputs": [
    {
     "name": "stdout",
     "output_type": "stream",
     "text": [
      "Epoch 1/40\n",
      "800/800 [==============================] - 45s 53ms/step - loss: 3.8558 - accuracy: 0.0350 - val_loss: 3.6717 - val_accuracy: 0.0512\n",
      "Epoch 2/40\n",
      "800/800 [==============================] - 34s 43ms/step - loss: 3.5792 - accuracy: 0.0825 - val_loss: 3.6435 - val_accuracy: 0.0763\n",
      "Epoch 3/40\n",
      "800/800 [==============================] - 34s 43ms/step - loss: 3.3573 - accuracy: 0.1128 - val_loss: 3.3236 - val_accuracy: 0.1225\n",
      "Epoch 4/40\n",
      "800/800 [==============================] - 34s 43ms/step - loss: 3.1969 - accuracy: 0.1484 - val_loss: 3.1615 - val_accuracy: 0.1400\n",
      "Epoch 5/40\n",
      "800/800 [==============================] - 34s 43ms/step - loss: 3.0456 - accuracy: 0.1828 - val_loss: 3.0850 - val_accuracy: 0.1725\n",
      "Epoch 6/40\n",
      "800/800 [==============================] - 34s 43ms/step - loss: 2.9237 - accuracy: 0.2059 - val_loss: 2.8793 - val_accuracy: 0.2050\n",
      "Epoch 7/40\n",
      "800/800 [==============================] - 34s 43ms/step - loss: 2.8048 - accuracy: 0.2325 - val_loss: 2.9541 - val_accuracy: 0.1887\n",
      "Epoch 8/40\n",
      "800/800 [==============================] - 35s 44ms/step - loss: 2.6416 - accuracy: 0.2756 - val_loss: 2.6968 - val_accuracy: 0.2713\n",
      "Epoch 9/40\n",
      "800/800 [==============================] - 35s 44ms/step - loss: 2.5164 - accuracy: 0.3159 - val_loss: 2.7856 - val_accuracy: 0.2350\n",
      "Epoch 10/40\n",
      "800/800 [==============================] - 35s 43ms/step - loss: 2.4275 - accuracy: 0.3203 - val_loss: 2.4866 - val_accuracy: 0.3075\n",
      "Epoch 11/40\n",
      "800/800 [==============================] - 35s 43ms/step - loss: 2.2973 - accuracy: 0.3725 - val_loss: 2.4493 - val_accuracy: 0.3187\n",
      "Epoch 12/40\n",
      "800/800 [==============================] - 35s 43ms/step - loss: 2.1516 - accuracy: 0.4028 - val_loss: 2.4179 - val_accuracy: 0.3388\n",
      "Epoch 13/40\n",
      "800/800 [==============================] - 35s 44ms/step - loss: 2.0818 - accuracy: 0.4231 - val_loss: 2.3203 - val_accuracy: 0.3688\n",
      "Epoch 14/40\n",
      "800/800 [==============================] - 35s 44ms/step - loss: 1.9132 - accuracy: 0.4816 - val_loss: 2.3275 - val_accuracy: 0.3675\n",
      "Epoch 15/40\n",
      "800/800 [==============================] - 35s 44ms/step - loss: 1.8501 - accuracy: 0.4897 - val_loss: 2.1244 - val_accuracy: 0.4325\n",
      "Epoch 16/40\n",
      "800/800 [==============================] - 35s 44ms/step - loss: 1.7153 - accuracy: 0.5325 - val_loss: 2.1780 - val_accuracy: 0.4150\n",
      "Epoch 17/40\n",
      "800/800 [==============================] - 36s 45ms/step - loss: 1.6405 - accuracy: 0.5497 - val_loss: 2.0467 - val_accuracy: 0.4525\n",
      "Epoch 18/40\n",
      "800/800 [==============================] - 35s 44ms/step - loss: 1.5277 - accuracy: 0.5663 - val_loss: 2.0097 - val_accuracy: 0.4675\n",
      "Epoch 19/40\n",
      "800/800 [==============================] - 35s 44ms/step - loss: 1.4422 - accuracy: 0.5975 - val_loss: 2.0234 - val_accuracy: 0.4600\n",
      "Epoch 20/40\n",
      "800/800 [==============================] - 37s 46ms/step - loss: 1.3781 - accuracy: 0.6128 - val_loss: 2.0213 - val_accuracy: 0.4775\n",
      "Epoch 21/40\n",
      "800/800 [==============================] - 35s 44ms/step - loss: 1.3089 - accuracy: 0.6419 - val_loss: 1.9816 - val_accuracy: 0.4650\n",
      "Epoch 22/40\n",
      "800/800 [==============================] - 35s 43ms/step - loss: 1.2672 - accuracy: 0.6484 - val_loss: 1.9143 - val_accuracy: 0.5013\n",
      "Epoch 23/40\n",
      "800/800 [==============================] - 35s 44ms/step - loss: 1.1299 - accuracy: 0.6806 - val_loss: 1.9895 - val_accuracy: 0.4850\n",
      "Epoch 24/40\n",
      "800/800 [==============================] - 35s 43ms/step - loss: 1.0825 - accuracy: 0.7028 - val_loss: 1.8348 - val_accuracy: 0.5325\n",
      "Epoch 25/40\n",
      "800/800 [==============================] - 35s 44ms/step - loss: 0.9997 - accuracy: 0.7266 - val_loss: 1.8905 - val_accuracy: 0.5325\n",
      "Epoch 26/40\n",
      "800/800 [==============================] - 36s 45ms/step - loss: 0.9937 - accuracy: 0.7200 - val_loss: 1.7189 - val_accuracy: 0.5738\n",
      "Epoch 27/40\n",
      "800/800 [==============================] - 36s 44ms/step - loss: 0.9122 - accuracy: 0.7400 - val_loss: 1.6982 - val_accuracy: 0.5562\n",
      "Epoch 28/40\n",
      "800/800 [==============================] - 35s 44ms/step - loss: 0.8598 - accuracy: 0.7575 - val_loss: 1.6714 - val_accuracy: 0.5950\n",
      "Epoch 29/40\n",
      "800/800 [==============================] - 35s 44ms/step - loss: 0.8178 - accuracy: 0.7697 - val_loss: 1.7928 - val_accuracy: 0.5763\n",
      "Epoch 30/40\n",
      "800/800 [==============================] - 35s 44ms/step - loss: 0.7840 - accuracy: 0.7681 - val_loss: 1.6310 - val_accuracy: 0.5900\n",
      "Epoch 31/40\n",
      "800/800 [==============================] - 35s 44ms/step - loss: 0.7266 - accuracy: 0.7956 - val_loss: 1.6518 - val_accuracy: 0.6050\n",
      "Epoch 32/40\n",
      "800/800 [==============================] - 35s 44ms/step - loss: 0.7107 - accuracy: 0.7937 - val_loss: 1.5519 - val_accuracy: 0.6087\n",
      "Epoch 33/40\n",
      "800/800 [==============================] - 35s 44ms/step - loss: 0.6888 - accuracy: 0.8009 - val_loss: 1.7191 - val_accuracy: 0.5838\n",
      "Epoch 34/40\n",
      "800/800 [==============================] - 38s 47ms/step - loss: 0.6272 - accuracy: 0.8206 - val_loss: 1.6189 - val_accuracy: 0.6375\n",
      "Epoch 35/40\n",
      "800/800 [==============================] - 35s 44ms/step - loss: 0.6416 - accuracy: 0.8119 - val_loss: 1.6319 - val_accuracy: 0.6187\n",
      "Epoch 36/40\n",
      "800/800 [==============================] - 35s 44ms/step - loss: 0.5941 - accuracy: 0.8269 - val_loss: 1.5876 - val_accuracy: 0.6475\n",
      "Epoch 37/40\n",
      "800/800 [==============================] - 35s 44ms/step - loss: 0.5744 - accuracy: 0.8266 - val_loss: 1.6494 - val_accuracy: 0.6050\n",
      "Epoch 38/40\n",
      "800/800 [==============================] - 35s 44ms/step - loss: 0.5176 - accuracy: 0.8512 - val_loss: 1.6135 - val_accuracy: 0.6062\n",
      "Epoch 39/40\n",
      "800/800 [==============================] - 35s 44ms/step - loss: 0.5637 - accuracy: 0.8294 - val_loss: 1.6717 - val_accuracy: 0.6112\n",
      "Epoch 40/40\n",
      "800/800 [==============================] - 35s 44ms/step - loss: 0.5256 - accuracy: 0.8509 - val_loss: 1.5789 - val_accuracy: 0.6363\n"
     ]
    }
   ],
   "source": [
    "# Create an Instance of Early Stopping Callback.\n",
    "early_stopping_callback = EarlyStopping(monitor = 'val_loss', patience = 15, mode = 'min', restore_best_weights = True)\n",
    " \n",
    "# Compile the model and specify loss function, optimizer and metrics to the model.\n",
    "LRCN_model.compile(loss = 'categorical_crossentropy', optimizer = 'Adam', metrics = [\"accuracy\"])\n",
    "\n",
    "# Start training the model.\n",
    "LRCN_model_training_history = LRCN_model.fit(x = features_train, y = labels_train, epochs = 40, batch_size = 4 ,\n",
    "                                             shuffle = True, validation_split = 0.2, callbacks = [early_stopping_callback])"
   ]
  },
  {
   "cell_type": "markdown",
   "id": "a9a5f25a",
   "metadata": {
    "id": "tMepQus5A5la",
    "papermill": {
     "duration": 1.910203,
     "end_time": "2023-11-19T11:27:18.183550",
     "exception": false,
     "start_time": "2023-11-19T11:27:16.273347",
     "status": "completed"
    },
    "tags": []
   },
   "source": [
    "### Evaluate the Model"
   ]
  },
  {
   "cell_type": "code",
   "execution_count": 25,
   "id": "c2e2bd19",
   "metadata": {
    "execution": {
     "iopub.execute_input": "2023-11-19T11:27:22.050211Z",
     "iopub.status.busy": "2023-11-19T11:27:22.049743Z",
     "iopub.status.idle": "2023-11-19T11:27:27.800843Z",
     "shell.execute_reply": "2023-11-19T11:27:27.797648Z"
    },
    "id": "ZwSYdhEFA5lb",
    "papermill": {
     "duration": 7.683286,
     "end_time": "2023-11-19T11:27:27.809200",
     "exception": false,
     "start_time": "2023-11-19T11:27:20.125914",
     "status": "completed"
    },
    "tags": []
   },
   "outputs": [
    {
     "name": "stdout",
     "output_type": "stream",
     "text": [
      "32/32 [==============================] - 3s 74ms/step - loss: 1.4021 - accuracy: 0.6690\n"
     ]
    }
   ],
   "source": [
    "# Evaluate the trained model.\n",
    "model_evaluation_history = LRCN_model.evaluate(features_test, labels_test)"
   ]
  },
  {
   "cell_type": "markdown",
   "id": "13aac61a",
   "metadata": {
    "id": "_SNLhkFNA5lb",
    "papermill": {
     "duration": 2.320878,
     "end_time": "2023-11-19T11:27:32.553894",
     "exception": false,
     "start_time": "2023-11-19T11:27:30.233016",
     "status": "completed"
    },
    "tags": []
   },
   "source": [
    "### Save the Model"
   ]
  },
  {
   "cell_type": "code",
   "execution_count": 26,
   "id": "4b4bc05e",
   "metadata": {
    "execution": {
     "iopub.execute_input": "2023-11-19T11:27:38.771808Z",
     "iopub.status.busy": "2023-11-19T11:27:38.771146Z",
     "iopub.status.idle": "2023-11-19T11:27:38.978809Z",
     "shell.execute_reply": "2023-11-19T11:27:38.973571Z"
    },
    "id": "R6nD8oMqA5lc",
    "papermill": {
     "duration": 2.643898,
     "end_time": "2023-11-19T11:27:38.981894",
     "exception": false,
     "start_time": "2023-11-19T11:27:36.337996",
     "status": "completed"
    },
    "tags": []
   },
   "outputs": [],
   "source": [
    "# Get the loss and accuracy from model_evaluation_history.\n",
    "model_evaluation_loss, model_evaluation_accuracy = model_evaluation_history\n",
    "    \n",
    "# Define a useful name for our model to make it easy for us while navigating through multiple saved models.\n",
    "model_file_name = f'LRCN_model.h5'\n",
    "\n",
    "# Save the Model.\n",
    "LRCN_model.save(model_file_name)"
   ]
  },
  {
   "cell_type": "markdown",
   "id": "cd31eba5",
   "metadata": {
    "id": "bDs61KA-A5lc",
    "papermill": {
     "duration": 1.931165,
     "end_time": "2023-11-19T11:27:42.817537",
     "exception": false,
     "start_time": "2023-11-19T11:27:40.886372",
     "status": "completed"
    },
    "tags": []
   },
   "source": [
    "### Plot Model’s Loss & Accuracy Curves"
   ]
  },
  {
   "cell_type": "code",
   "execution_count": 27,
   "id": "96e3f5ee",
   "metadata": {
    "execution": {
     "iopub.execute_input": "2023-11-19T11:27:46.519292Z",
     "iopub.status.busy": "2023-11-19T11:27:46.518814Z",
     "iopub.status.idle": "2023-11-19T11:27:46.804866Z",
     "shell.execute_reply": "2023-11-19T11:27:46.803812Z"
    },
    "id": "nvAgcD_FA5ld",
    "outputId": "642f18de-5654-493d-da0b-3a1e9f9e6036",
    "papermill": {
     "duration": 2.181386,
     "end_time": "2023-11-19T11:27:46.807631",
     "exception": false,
     "start_time": "2023-11-19T11:27:44.626245",
     "status": "completed"
    },
    "tags": []
   },
   "outputs": [
    {
     "data": {
      "image/png": "[encoded data removed]",
      "text/plain": [
       "<Figure size 432x288 with 1 Axes>"
      ]
     },
     "metadata": {
      "needs_background": "light"
     },
     "output_type": "display_data"
    }
   ],
   "source": [
    "# Visualize the training and validation loss metrices.\n",
    "plot_metric(LRCN_model_training_history, 'loss', 'val_loss', 'Total Loss vs Total Validation Loss')"
   ]
  },
  {
   "cell_type": "code",
   "execution_count": 28,
   "id": "5d6bdfa1",
   "metadata": {
    "execution": {
     "iopub.execute_input": "2023-11-19T11:27:50.533756Z",
     "iopub.status.busy": "2023-11-19T11:27:50.532917Z",
     "iopub.status.idle": "2023-11-19T11:27:50.796650Z",
     "shell.execute_reply": "2023-11-19T11:27:50.794260Z"
    },
    "id": "YZHXzXJZA5le",
    "outputId": "16d4213b-cd3a-48a7-8d16-6aff2cd0094c",
    "papermill": {
     "duration": 2.082441,
     "end_time": "2023-11-19T11:27:50.800089",
     "exception": false,
     "start_time": "2023-11-19T11:27:48.717648",
     "status": "completed"
    },
    "tags": []
   },
   "outputs": [
    {
     "data": {
      "image/png": "[encoded data removed]",
      "text/plain": [
       "<Figure size 432x288 with 1 Axes>"
      ]
     },
     "metadata": {
      "needs_background": "light"
     },
     "output_type": "display_data"
    }
   ],
   "source": [
    "# Visualize the training and validation accuracy metrices.\n",
    "plot_metric(LRCN_model_training_history, 'accuracy', 'val_accuracy', 'Total Accuracy vs Total Validation Accuracy')"
   ]
  }
 ],
 "metadata": {
  "kaggle": {
   "accelerator": "none",
   "dataSources": [
    {
     "datasetId": 2048320,
     "sourceId": 3397795,
     "sourceType": "datasetVersion"
    }
   ],
   "dockerImageVersionId": 30209,
   "isGpuEnabled": false,
   "isInternetEnabled": true,
   "language": "python",
   "sourceType": "notebook"
  },
  "kernelspec": {
   "display_name": "Python 3",
   "language": "python",
   "name": "python3"
  },
  "language_info": {
   "codemirror_mode": {
    "name": "ipython",
    "version": 3
   },
   "file_extension": ".py",
   "mimetype": "text/x-python",
   "name": "python",
   "nbconvert_exporter": "python",
   "pygments_lexer": "ipython3",
   "version": "3.7.12"
  },
  "papermill": {
   "default_parameters": {},
   "duration": 6724.169436,
   "end_time": "2023-11-19T11:28:18.687028",
   "environment_variables": {},
   "exception": true,
   "input_path": "__notebook__.ipynb",
   "output_path": "__notebook__.ipynb",
   "parameters": {},
   "start_time": "2023-11-19T09:36:14.517592",
   "version": "2.3.4"
  }
 },
 "nbformat": 4,
 "nbformat_minor": 5
}
