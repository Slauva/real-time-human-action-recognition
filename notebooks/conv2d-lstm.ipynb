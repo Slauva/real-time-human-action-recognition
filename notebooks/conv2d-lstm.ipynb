{
 "cells": [
  {
   "cell_type": "code",
   "execution_count": null,
   "id": "2e995ba4",
   "metadata": {
    "_cell_guid": "b1076dfc-b9ad-4769-8c92-a6c4dae69d19",
    "_uuid": "8f2839f25d086af736a60e9eeb907d3b93b6e0e5",
    "execution": {
     "iopub.execute_input": "2023-10-31T05:07:23.759466Z",
     "iopub.status.busy": "2023-10-31T05:07:23.759097Z",
     "iopub.status.idle": "2023-10-31T05:07:36.719788Z",
     "shell.execute_reply": "2023-10-31T05:07:36.718490Z"
    },
    "papermill": {
     "duration": 12.97411,
     "end_time": "2023-10-31T05:07:36.722476",
     "exception": false,
     "start_time": "2023-10-31T05:07:23.748366",
     "status": "completed"
    },
    "tags": []
   },
   "outputs": [],
   "source": [
    "# Discard the output of this cell.\n",
    "%%capture\n",
    "\n",
    "!pip install timm"
   ]
  },
  {
   "cell_type": "code",
   "execution_count": null,
   "id": "9220e889",
   "metadata": {
    "execution": {
     "iopub.execute_input": "2023-10-31T05:07:36.744041Z",
     "iopub.status.busy": "2023-10-31T05:07:36.743262Z",
     "iopub.status.idle": "2023-10-31T05:09:11.068976Z",
     "shell.execute_reply": "2023-10-31T05:09:11.067567Z"
    },
    "papermill": {
     "duration": 94.339514,
     "end_time": "2023-10-31T05:09:11.071716",
     "exception": false,
     "start_time": "2023-10-31T05:07:36.732202",
     "status": "completed"
    },
    "tags": []
   },
   "outputs": [],
   "source": [
    "# Discard the output of this cell.\n",
    "%%capture\n",
    "\n",
    "!apt-get install unrar\n",
    "!wget --no-check-certificate https://www.crcv.ucf.edu/data/UCF50.rar\n",
    "!unrar x UCF50.rar\n",
    "!rm -fr UCF50.rar"
   ]
  },
  {
   "cell_type": "code",
   "execution_count": 3,
   "id": "04cdac1e",
   "metadata": {
    "execution": {
     "iopub.execute_input": "2023-10-31T05:09:11.286955Z",
     "iopub.status.busy": "2023-10-31T05:09:11.286511Z",
     "iopub.status.idle": "2023-10-31T05:09:16.876759Z",
     "shell.execute_reply": "2023-10-31T05:09:16.875888Z"
    },
    "papermill": {
     "duration": 5.700094,
     "end_time": "2023-10-31T05:09:16.879037",
     "exception": false,
     "start_time": "2023-10-31T05:09:11.178943",
     "status": "completed"
    },
    "tags": []
   },
   "outputs": [],
   "source": [
    "import matplotlib.pyplot as plt\n",
    "import os\n",
    "import torch\n",
    "import timm\n",
    "import numpy as np\n",
    "from torch import nn\n",
    "from tqdm import tqdm\n",
    "from glob import glob"
   ]
  },
  {
   "cell_type": "markdown",
   "metadata": {},
   "source": [
    "Reproducibility"
   ]
  },
  {
   "cell_type": "code",
   "execution_count": null,
   "metadata": {},
   "outputs": [],
   "source": [
    "torch.manual_seed(42)\n",
    "np.random.seed(42)"
   ]
  },
  {
   "cell_type": "markdown",
   "id": "b4932074",
   "metadata": {
    "papermill": {
     "duration": 0.105409,
     "end_time": "2023-10-31T05:09:17.084111",
     "exception": false,
     "start_time": "2023-10-31T05:09:16.978702",
     "status": "completed"
    },
    "tags": []
   },
   "source": [
    "## Dataset"
   ]
  },
  {
   "cell_type": "code",
   "execution_count": 4,
   "id": "b6f72c1b",
   "metadata": {
    "execution": {
     "iopub.execute_input": "2023-10-31T05:09:17.297775Z",
     "iopub.status.busy": "2023-10-31T05:09:17.297414Z",
     "iopub.status.idle": "2023-10-31T05:09:17.332860Z",
     "shell.execute_reply": "2023-10-31T05:09:17.331872Z"
    },
    "papermill": {
     "duration": 0.143223,
     "end_time": "2023-10-31T05:09:17.335277",
     "exception": false,
     "start_time": "2023-10-31T05:09:17.192054",
     "status": "completed"
    },
    "tags": []
   },
   "outputs": [],
   "source": [
    "PATH_DATASET_DIR = \"/kaggle/working/UCF50\"\n",
    "HEIGHT, WIDTH = 240, 320\n",
    "SEQUENCE_LENGTH = 20\n",
    "\n",
    "videos = glob(f\"{PATH_DATASET_DIR}/**/*.avi\")\n",
    "labels = [path.replace(f\"{PATH_DATASET_DIR}/\", \"\") for path in glob(f\"{PATH_DATASET_DIR}/**\")]"
   ]
  },
  {
   "cell_type": "code",
   "execution_count": 5,
   "id": "626d4009",
   "metadata": {
    "execution": {
     "iopub.execute_input": "2023-10-31T05:09:17.544640Z",
     "iopub.status.busy": "2023-10-31T05:09:17.543855Z",
     "iopub.status.idle": "2023-10-31T05:09:17.550142Z",
     "shell.execute_reply": "2023-10-31T05:09:17.549259Z"
    },
    "papermill": {
     "duration": 0.111923,
     "end_time": "2023-10-31T05:09:17.552048",
     "exception": false,
     "start_time": "2023-10-31T05:09:17.440125",
     "status": "completed"
    },
    "tags": []
   },
   "outputs": [],
   "source": [
    "from torchvision import transforms\n",
    "\n",
    "transform = transforms.Compose([\n",
    "    transforms.ToPILImage(),\n",
    "    transforms.Resize((240, 240)),\n",
    "    transforms.ToTensor(),\n",
    "    transforms.Normalize(mean=[0.485, 0.456, 0.406], std=[0.229, 0.224, 0.225]),\n",
    "])"
   ]
  },
  {
   "cell_type": "code",
   "execution_count": 6,
   "id": "a6e9add6",
   "metadata": {
    "execution": {
     "iopub.execute_input": "2023-10-31T05:09:17.766605Z",
     "iopub.status.busy": "2023-10-31T05:09:17.765670Z",
     "iopub.status.idle": "2023-10-31T05:09:17.780160Z",
     "shell.execute_reply": "2023-10-31T05:09:17.778912Z"
    },
    "papermill": {
     "duration": 0.125699,
     "end_time": "2023-10-31T05:09:17.782343",
     "exception": false,
     "start_time": "2023-10-31T05:09:17.656644",
     "status": "completed"
    },
    "tags": []
   },
   "outputs": [],
   "source": [
    "from torch.utils.data import Dataset\n",
    "import cv2\n",
    "\n",
    "class VideoDataset(Dataset):\n",
    "    \n",
    "    def __init__(self, video_paths, transform=None, num_videos=None, num_frames=None):\n",
    "        self.video_paths = video_paths\n",
    "        self.transform = transform\n",
    "        self.lab2idx = {}\n",
    "        \n",
    "        if num_videos is not None:\n",
    "            labels = set([path.split(\"/\")[-2] for path in video_paths])\n",
    "            self.lab2idx = { w : i for i, w in enumerate(labels) } \n",
    "            buffer = []\n",
    "            for label in labels:\n",
    "                videos = []\n",
    "                for path in video_paths:\n",
    "                    if label in path:\n",
    "                        videos.append(path)\n",
    "                videos = np.random.choice(videos, num_videos)\n",
    "                buffer.extend(videos)\n",
    "            self.paths = buffer\n",
    "    \n",
    "    def __len__(self):\n",
    "        return len(self.paths)\n",
    "    \n",
    "    def __getitem__(self, idx):\n",
    "        video_path = self.paths[idx]\n",
    "        label = video_path.split(\"/\")[-2]\n",
    "        frames = self.read_video(video_path)\n",
    "        if self.transform:\n",
    "            frames = torch.stack([self.transform(frame) for frame in frames])\n",
    "        else:\n",
    "            frames = torch.stack(frames)\n",
    "        return frames, self.lab2idx[label]\n",
    "    \n",
    "    def read_video(self, video_path):\n",
    "        \n",
    "        cap = cv2.VideoCapture(video_path)\n",
    "        frames = []\n",
    "        frames_count = int(cap.get(cv2.CAP_PROP_FRAME_COUNT))\n",
    "        window = max(int(frames_count/SEQUENCE_LENGTH), 1)\n",
    "        \n",
    "        for i in range(SEQUENCE_LENGTH):\n",
    "            cap.set(cv2.CAP_PROP_POS_FRAMES, i * window)\n",
    "            ret, frame = cap.read()\n",
    "            if not ret:\n",
    "                break\n",
    "            fixed_frame = cv2.cvtColor(frame, cv2.COLOR_BGR2RGB)\n",
    "            frames.append(frame)\n",
    "            \n",
    "        cap.release()\n",
    "        return np.array(frames)"
   ]
  },
  {
   "cell_type": "code",
   "execution_count": 7,
   "id": "6168e6db",
   "metadata": {
    "execution": {
     "iopub.execute_input": "2023-10-31T05:09:17.994682Z",
     "iopub.status.busy": "2023-10-31T05:09:17.994295Z",
     "iopub.status.idle": "2023-10-31T05:09:18.041297Z",
     "shell.execute_reply": "2023-10-31T05:09:18.040445Z"
    },
    "papermill": {
     "duration": 0.157002,
     "end_time": "2023-10-31T05:09:18.043548",
     "exception": false,
     "start_time": "2023-10-31T05:09:17.886546",
     "status": "completed"
    },
    "tags": []
   },
   "outputs": [],
   "source": [
    "dataset = VideoDataset(videos, transform, 100)"
   ]
  },
  {
   "cell_type": "code",
   "execution_count": 8,
   "id": "8e5844c4",
   "metadata": {
    "execution": {
     "iopub.execute_input": "2023-10-31T05:09:18.261623Z",
     "iopub.status.busy": "2023-10-31T05:09:18.260683Z",
     "iopub.status.idle": "2023-10-31T05:09:18.290080Z",
     "shell.execute_reply": "2023-10-31T05:09:18.289088Z"
    },
    "papermill": {
     "duration": 0.13902,
     "end_time": "2023-10-31T05:09:18.292581",
     "exception": false,
     "start_time": "2023-10-31T05:09:18.153561",
     "status": "completed"
    },
    "tags": []
   },
   "outputs": [],
   "source": [
    "train_size = int(0.7 * len(dataset))\n",
    "val_size = int(0.2 * len(dataset))\n",
    "test_size = len(dataset) - train_size - val_size\n",
    "\n",
    "train_dataset, val_dataset, test_dataset = torch.utils.data.random_split(dataset, [train_size, val_size, test_size])"
   ]
  },
  {
   "cell_type": "markdown",
   "metadata": {},
   "source": [
    "### Train and test split"
   ]
  },
  {
   "cell_type": "code",
   "execution_count": null,
   "metadata": {},
   "outputs": [],
   "source": [
    "train_size = int(0.7 * len(dataset))\n",
    "val_size = int(0.2 * len(dataset))\n",
    "test_size = len(dataset) - train_size - val_size\n",
    "\n",
    "train_dataset, val_dataset, test_dataset = torch.utils.data.random_split(dataset, [train_size, val_size, test_size])"
   ]
  },
  {
   "cell_type": "markdown",
   "metadata": {},
   "source": [
    "### Transform and train dataloader"
   ]
  },
  {
   "cell_type": "code",
   "execution_count": null,
   "metadata": {},
   "outputs": [],
   "source": [
    "batch_size = 4\n",
    "num_workers = os.cpu_count()\n",
    "train_dataloader = torch.utils.data.DataLoader(train_dataset, shuffle = True, batch_size = batch_size, drop_last = True, num_workers = num_workers)\n",
    "val_dataloader = torch.utils.data.DataLoader(val_dataset, shuffle = True, batch_size = batch_size, drop_last = True, num_workers = num_workers)"
   ]
  },
  {
   "cell_type": "markdown",
   "metadata": {},
   "source": [
    "### Transform and test data loader"
   ]
  },
  {
   "cell_type": "code",
   "execution_count": null,
   "metadata": {},
   "outputs": [],
   "source": [
    "test_dataloader = torch.utils.data.DataLoader(test_dataset, batch_size = batch_size, drop_last = True, num_workers = num_workers)"
   ]
  },
  {
   "cell_type": "markdown",
   "metadata": {},
   "source": [
    "## Necessary functions"
   ]
  },
  {
   "cell_type": "markdown",
   "metadata": {},
   "source": [
    "### Evaluate function"
   ]
  },
  {
   "cell_type": "code",
   "execution_count": null,
   "metadata": {},
   "outputs": [],
   "source": [
    "def evaluate(model, val_data, loss_fn, weights = None, device = 'cpu', verbose = 0):\n",
    "    \n",
    "    if (device == 'gpu' or device == 'cuda') and torch.cuda.is_available():\n",
    "        device = torch.device('cuda')\n",
    "    elif isinstance(device, torch.device): \n",
    "        device = device\n",
    "    else: \n",
    "        device = torch.device('cpu')\n",
    "    \n",
    "    model = model.to(device)\n",
    "\n",
    "    if weights:\n",
    "        model.load_state_dict(torch.load(weights))\n",
    "    \n",
    "    with torch.no_grad():\n",
    "        model.eval()\n",
    "        val_correct = 0\n",
    "        val_total = len(val_data)*val_data.batch_size\n",
    "        running_loss = 0.\n",
    "        if verbose == 1:\n",
    "            val_data = tqdm(val_data, desc = 'Evaluate: ', ncols = 100)\n",
    "        for data_batch, label_batch in val_data:\n",
    "            \n",
    "            data_batch, label_batch = data_batch.to(device), label_batch.to(device)\n",
    "            output_batch = model(data_batch.reshape([-1, 3, 20, 240, 240]))\n",
    "            loss = loss_fn(output_batch, label_batch.long())\n",
    "            running_loss += loss.item()\n",
    "\n",
    "            _, predicted_labels = torch.max(output_batch.data, dim = 1)\n",
    "\n",
    "            val_correct += (label_batch == predicted_labels).sum().item()\n",
    "        val_loss = running_loss/len(val_data)\n",
    "        val_acc = val_correct/val_total\n",
    "        return val_loss, val_acc\n"
   ]
  },
  {
   "cell_type": "markdown",
   "metadata": {},
   "source": [
    "### Train function"
   ]
  },
  {
   "cell_type": "code",
   "execution_count": null,
   "metadata": {},
   "outputs": [],
   "source": [
    "def train(model, train_data, val_data, loss_fn, optimizer, epochs, save_last_weights_path = None,\n",
    "          save_best_weights_path = None, freeze = False, steps_per_epoch = None,\n",
    "          device = 'cpu', scheduler = None):\n",
    "\n",
    "    if (device == 'gpu' or device == 'cuda') and torch.cuda.is_available():\n",
    "        device = torch.device('cuda')\n",
    "    elif isinstance(device, torch.device): \n",
    "        device = device\n",
    "    else: \n",
    "        device = torch.device('cpu')        \n",
    "\n",
    "    if save_best_weights_path: \n",
    "        best_loss, _ = evaluate(model, val_data, device = device, loss_fn = loss_fn, verbose = 1)  \n",
    "\n",
    "    if steps_per_epoch is None: \n",
    "        steps_per_epoch = len(train_data)\n",
    "\n",
    "    num_steps = len(train_data)\n",
    "    iterator = iter(train_data)\n",
    "    count_steps = 1    \n",
    "    \n",
    "    ## History\n",
    "    history = {\n",
    "        'train_loss': [],\n",
    "        'train_acc': [],\n",
    "        'val_acc': [],\n",
    "        'val_loss': []\n",
    "    }\n",
    "        \n",
    "    # add model to device\n",
    "    model = model.to(device)\n",
    "    \n",
    "    ############################### Train and Val ##########################################\n",
    "    for epoch in range(1, epochs + 1):\n",
    "\n",
    "        running_loss = 0.\n",
    "        train_correct = 0\n",
    "        train_total = steps_per_epoch*train_data.batch_size\n",
    "        \n",
    "        model.train()\n",
    "        \n",
    "        for step in tqdm(range(steps_per_epoch), desc = f'epoch: {epoch}/{epochs}: ', ncols = 100): \n",
    "            \n",
    "            img_batch, label_batch = next(iterator)\n",
    "            img_batch, label_batch = img_batch.to(device), label_batch.to(device)\n",
    "\n",
    "            optimizer.zero_grad()\n",
    "\n",
    "            output_batch = model(img_batch.reshape([-1, 3, 20, 240, 240]))\n",
    "\n",
    "            loss = loss_fn(output_batch, label_batch.long())\n",
    "            loss.backward()\n",
    "            optimizer.step()\n",
    "\n",
    "            _, predicted_labels = torch.max(output_batch.data, dim = 1)\n",
    "            train_correct += (label_batch == predicted_labels).sum().item()\n",
    "            running_loss += loss.item()\n",
    "                \n",
    "            if count_steps == num_steps:\n",
    "                count_steps = 0\n",
    "                iterator = iter(train_data)\n",
    "            count_steps += 1\n",
    "            \n",
    "        train_loss = running_loss / steps_per_epoch\n",
    "        train_accuracy = train_correct/train_total\n",
    "        \n",
    "        if scheduler:\n",
    "            scheduler.step(train_loss)\n",
    "        \n",
    "        history['train_loss'].append(float(train_loss))\n",
    "        history['train_acc'].append(float(train_accuracy))\n",
    "        \n",
    "        if val_data is not None: \n",
    "            val_loss, val_acc = evaluate(model, val_data, device = device, loss_fn = loss_fn)\n",
    "            print(f'epoch: {epoch}, train_accuracy: {train_accuracy: .2f}, loss: {train_loss: .3f}, val_accuracy: {val_acc: .2f}, val_loss: {val_loss:.3f}')\n",
    "\n",
    "            if save_best_weights_path:\n",
    "                if val_loss < best_loss:\n",
    "                    best_loss = val_loss\n",
    "                    torch.save(model.state_dict(), save_best_weights_path)\n",
    "                    print(f'Saved successfully best weights to:', save_best_weights_path)\n",
    "            history['val_loss'].append(float(val_loss))\n",
    "            history['val_acc'].append(float(val_acc))\n",
    "        else:\n",
    "            print(f'epoch: {epoch}, train_accuracy: {train_accuracy: .2f}, loss: {train_loss: .3f}')\n",
    "    if save_last_weights_path:  \n",
    "        torch.save(model.state_dict(), save_last_weights_path)\n",
    "        print(f'Saved successfully last weights to:', save_last_weights_path)\n",
    "    return model, history\n"
   ]
  },
  {
   "cell_type": "markdown",
   "metadata": {},
   "source": [
    "### Visualize history"
   ]
  },
  {
   "cell_type": "code",
   "execution_count": null,
   "metadata": {},
   "outputs": [],
   "source": [
    "def visualize_history(history, metrics = ['acc', 'loss']):   \n",
    "    \n",
    "    if 'acc' in metrics:\n",
    "        plt.figure(figsize = (10,6))\n",
    "        plt.subplot(121)\n",
    "        plt.plot(range(1, len(history['train_acc']) + 1), history['train_acc'], label = 'train_acc', c = 'r')\n",
    "        plt.plot(range(1, len(history['val_acc']) + 1), history['val_acc'], label = 'val_acc', c = 'g')\n",
    "        plt.title('Accuracy')\n",
    "        plt.xlabel('Epoch')\n",
    "        plt.ylabel('Accuracy')\n",
    "        plt.legend()\n",
    "\n",
    "    if 'loss' in metrics:\n",
    "        plt.subplot(122)\n",
    "        plt.plot(range(1, len(history['train_loss']) + 1), history['train_loss'], label = 'train_loss', c = 'r')\n",
    "        plt.plot(range(1, len(history['val_loss']) + 1), history['val_loss'], label = 'val_loss', c = 'g')\n",
    "        plt.title('Loss')\n",
    "        plt.xlabel('Epoch')\n",
    "        plt.ylabel('Loss')\n",
    "        plt.legend()"
   ]
  },
  {
   "cell_type": "markdown",
   "id": "f054a4c6",
   "metadata": {
    "papermill": {
     "duration": 0.102317,
     "end_time": "2023-10-31T05:09:19.872470",
     "exception": false,
     "start_time": "2023-10-31T05:09:19.770153",
     "status": "completed"
    },
    "tags": []
   },
   "source": [
    "# Model \n",
    "![](https://www.researchgate.net/publication/334729124/figure/fig2/AS:785436423241728@1564274044276/Conv-LSTM-neural-network-structure-is-composed-of-three-main-functional-layers.png)"
   ]
  },
  {
   "cell_type": "code",
   "execution_count": 13,
   "id": "4719058a",
   "metadata": {
    "execution": {
     "iopub.execute_input": "2023-10-31T05:09:20.078930Z",
     "iopub.status.busy": "2023-10-31T05:09:20.078501Z",
     "iopub.status.idle": "2023-10-31T05:09:20.088082Z",
     "shell.execute_reply": "2023-10-31T05:09:20.087280Z"
    },
    "papermill": {
     "duration": 0.116154,
     "end_time": "2023-10-31T05:09:20.089955",
     "exception": false,
     "start_time": "2023-10-31T05:09:19.973801",
     "status": "completed"
    },
    "tags": []
   },
   "outputs": [],
   "source": [
    "class ClassificationModel(nn.Module):\n",
    "    def __init__(self, num_classes, hidden_size, num_lstm_layers = 2, backbone_name = 'resnet101'):\n",
    "        super().__init__()\n",
    "        self.backbone = timm.create_model(backbone_name, pretrained = True, features_only = True)\n",
    "        self.adap = nn.AdaptiveAvgPool2d((2,2))\n",
    "        \n",
    "        self.lstm = nn.LSTM(2048, hidden_size, num_lstm_layers, batch_first = True)\n",
    "        \n",
    "        self.fc = nn.Linear(hidden_size, num_classes)\n",
    "        \n",
    "    def forward(self, x):\n",
    "        'x: batch, num_frames, channels, height, width'\n",
    "        batch, num_frames, channels, height, width = x.shape\n",
    "        \n",
    "        x = torch.reshape(x, (-1, *x.shape[2:]))\n",
    "        \n",
    "        x1,x2,x3,x4,x5 = self.backbone(x)\n",
    "        \n",
    "        x = self.adap(x3)\n",
    "        \n",
    "        x = nn.Flatten()(x)\n",
    "        \n",
    "        x = torch.reshape(x, (batch, num_frames, -1))\n",
    "        \n",
    "        x, (h_n, c_n) = self.lstm(x)\n",
    "        \n",
    "        x = h_n[-1, ...]\n",
    "        \n",
    "        x = self.fc(x)\n",
    "        \n",
    "        return x"
   ]
  },
  {
   "cell_type": "markdown",
   "id": "f679a283",
   "metadata": {
    "papermill": {
     "duration": 0.110201,
     "end_time": "2023-10-31T05:09:20.741701",
     "exception": false,
     "start_time": "2023-10-31T05:09:20.631500",
     "status": "completed"
    },
    "tags": []
   },
   "source": [
    "### Parameters"
   ]
  },
  {
   "cell_type": "code",
   "execution_count": 15,
   "id": "373463ae",
   "metadata": {
    "execution": {
     "iopub.execute_input": "2023-10-31T05:09:20.968519Z",
     "iopub.status.busy": "2023-10-31T05:09:20.968096Z",
     "iopub.status.idle": "2023-10-31T05:09:21.065373Z",
     "shell.execute_reply": "2023-10-31T05:09:21.064347Z"
    },
    "papermill": {
     "duration": 0.215089,
     "end_time": "2023-10-31T05:09:21.067645",
     "exception": false,
     "start_time": "2023-10-31T05:09:20.852556",
     "status": "completed"
    },
    "tags": []
   },
   "outputs": [],
   "source": [
    "mode = 'train'\n",
    "last_weights = 'last_weights.pt'\n",
    "best_weights = 'best_weights.pt'\n",
    "\n",
    "num_classes = 50\n",
    "batch_size = 4\n",
    "num_frames = SEQUENCE_LENGTH\n",
    "device = 'cuda' if torch.cuda.is_available() else 'cpu'\n",
    "num_workers = os.cpu_count()\n",
    "hidden_size = 128\n",
    "num_lstm_layers = 2"
   ]
  },
  {
   "cell_type": "markdown",
   "id": "e25d15dd",
   "metadata": {
    "papermill": {
     "duration": 0.108788,
     "end_time": "2023-10-31T05:09:21.774085",
     "exception": false,
     "start_time": "2023-10-31T05:09:21.665297",
     "status": "completed"
    },
    "tags": []
   },
   "source": [
    "### Create model"
   ]
  },
  {
   "cell_type": "code",
   "execution_count": null,
   "id": "957e1eaf",
   "metadata": {
    "execution": {
     "iopub.execute_input": "2023-10-31T05:09:21.991522Z",
     "iopub.status.busy": "2023-10-31T05:09:21.991104Z",
     "iopub.status.idle": "2023-10-31T05:09:29.211688Z",
     "shell.execute_reply": "2023-10-31T05:09:29.210758Z"
    },
    "papermill": {
     "duration": 7.335375,
     "end_time": "2023-10-31T05:09:29.214172",
     "exception": false,
     "start_time": "2023-10-31T05:09:21.878797",
     "status": "completed"
    },
    "tags": []
   },
   "outputs": [],
   "source": [
    "model = ClassificationModel(num_classes = num_classes, hidden_size = hidden_size, \n",
    "                            num_lstm_layers = num_lstm_layers, backbone_name = 'resnet101')\n",
    "\n",
    "loss_fn = nn.CrossEntropyLoss()\n",
    "optimizer = torch.optim.Adam(model.parameters(), lr = 1e-4)\n",
    "scheduler = torch.optim.lr_scheduler.ReduceLROnPlateau(optimizer, factor = 0.1, mode = 'min', patience = 3, verbose = 1)"
   ]
  },
  {
   "cell_type": "markdown",
   "id": "0e759dae",
   "metadata": {
    "papermill": {
     "duration": 0.110629,
     "end_time": "2023-10-31T05:09:29.427766",
     "exception": false,
     "start_time": "2023-10-31T05:09:29.317137",
     "status": "completed"
    },
    "tags": []
   },
   "source": [
    "## Train model"
   ]
  },
  {
   "cell_type": "code",
   "execution_count": 18,
   "id": "d7a12e4f",
   "metadata": {
    "execution": {
     "iopub.execute_input": "2023-10-31T05:09:29.638071Z",
     "iopub.status.busy": "2023-10-31T05:09:29.637375Z",
     "iopub.status.idle": "2023-10-31T12:03:05.255793Z",
     "shell.execute_reply": "2023-10-31T12:03:05.254427Z"
    },
    "papermill": {
     "duration": 24819.771263,
     "end_time": "2023-10-31T12:03:09.305962",
     "exception": false,
     "start_time": "2023-10-31T05:09:29.534699",
     "status": "completed"
    },
    "tags": []
   },
   "outputs": [
    {
     "name": "stderr",
     "output_type": "stream",
     "text": [
      "Evaluate: 100%|███████████████████████████████████████████████████| 250/250 [01:25<00:00,  2.92it/s]\n",
      "epoch: 1/50: 100%|████████████████████████████████████████████████| 875/875 [06:43<00:00,  2.17it/s]\n"
     ]
    },
    {
     "name": "stdout",
     "output_type": "stream",
     "text": [
      "epoch: 1, train_accuracy:  0.04, loss:  3.878, val_accuracy:  0.07, val_loss: 3.742\n",
      "Saved successfully best weights to: best_weights.pt\n"
     ]
    },
    {
     "name": "stderr",
     "output_type": "stream",
     "text": [
      "epoch: 2/50: 100%|████████████████████████████████████████████████| 875/875 [06:41<00:00,  2.18it/s]\n"
     ]
    },
    {
     "name": "stdout",
     "output_type": "stream",
     "text": [
      "epoch: 2, train_accuracy:  0.09, loss:  3.538, val_accuracy:  0.11, val_loss: 3.316\n",
      "Saved successfully best weights to: best_weights.pt\n"
     ]
    },
    {
     "name": "stderr",
     "output_type": "stream",
     "text": [
      "epoch: 3/50: 100%|████████████████████████████████████████████████| 875/875 [06:42<00:00,  2.18it/s]\n"
     ]
    },
    {
     "name": "stdout",
     "output_type": "stream",
     "text": [
      "epoch: 3, train_accuracy:  0.15, loss:  3.209, val_accuracy:  0.18, val_loss: 3.056\n",
      "Saved successfully best weights to: best_weights.pt\n"
     ]
    },
    {
     "name": "stderr",
     "output_type": "stream",
     "text": [
      "epoch: 4/50: 100%|████████████████████████████████████████████████| 875/875 [06:42<00:00,  2.17it/s]\n"
     ]
    },
    {
     "name": "stdout",
     "output_type": "stream",
     "text": [
      "epoch: 4, train_accuracy:  0.21, loss:  2.952, val_accuracy:  0.23, val_loss: 2.847\n",
      "Saved successfully best weights to: best_weights.pt\n"
     ]
    },
    {
     "name": "stderr",
     "output_type": "stream",
     "text": [
      "epoch: 5/50: 100%|████████████████████████████████████████████████| 875/875 [06:42<00:00,  2.17it/s]\n"
     ]
    },
    {
     "name": "stdout",
     "output_type": "stream",
     "text": [
      "epoch: 5, train_accuracy:  0.26, loss:  2.740, val_accuracy:  0.25, val_loss: 2.799\n",
      "Saved successfully best weights to: best_weights.pt\n"
     ]
    },
    {
     "name": "stderr",
     "output_type": "stream",
     "text": [
      "epoch: 6/50: 100%|████████████████████████████████████████████████| 875/875 [06:42<00:00,  2.17it/s]\n"
     ]
    },
    {
     "name": "stdout",
     "output_type": "stream",
     "text": [
      "epoch: 6, train_accuracy:  0.31, loss:  2.566, val_accuracy:  0.31, val_loss: 2.508\n",
      "Saved successfully best weights to: best_weights.pt\n"
     ]
    },
    {
     "name": "stderr",
     "output_type": "stream",
     "text": [
      "epoch: 7/50: 100%|████████████████████████████████████████████████| 875/875 [06:43<00:00,  2.17it/s]\n"
     ]
    },
    {
     "name": "stdout",
     "output_type": "stream",
     "text": [
      "epoch: 7, train_accuracy:  0.34, loss:  2.410, val_accuracy:  0.33, val_loss: 2.402\n",
      "Saved successfully best weights to: best_weights.pt\n"
     ]
    },
    {
     "name": "stderr",
     "output_type": "stream",
     "text": [
      "epoch: 8/50: 100%|████████████████████████████████████████████████| 875/875 [06:44<00:00,  2.17it/s]\n"
     ]
    },
    {
     "name": "stdout",
     "output_type": "stream",
     "text": [
      "epoch: 8, train_accuracy:  0.37, loss:  2.258, val_accuracy:  0.36, val_loss: 2.386\n",
      "Saved successfully best weights to: best_weights.pt\n"
     ]
    },
    {
     "name": "stderr",
     "output_type": "stream",
     "text": [
      "epoch: 9/50: 100%|████████████████████████████████████████████████| 875/875 [06:44<00:00,  2.16it/s]\n"
     ]
    },
    {
     "name": "stdout",
     "output_type": "stream",
     "text": [
      "epoch: 9, train_accuracy:  0.42, loss:  2.136, val_accuracy:  0.39, val_loss: 2.246\n",
      "Saved successfully best weights to: best_weights.pt\n"
     ]
    },
    {
     "name": "stderr",
     "output_type": "stream",
     "text": [
      "epoch: 10/50: 100%|███████████████████████████████████████████████| 875/875 [06:43<00:00,  2.17it/s]\n"
     ]
    },
    {
     "name": "stdout",
     "output_type": "stream",
     "text": [
      "epoch: 10, train_accuracy:  0.43, loss:  2.046, val_accuracy:  0.43, val_loss: 2.081\n",
      "Saved successfully best weights to: best_weights.pt\n"
     ]
    },
    {
     "name": "stderr",
     "output_type": "stream",
     "text": [
      "epoch: 11/50: 100%|███████████████████████████████████████████████| 875/875 [06:45<00:00,  2.16it/s]\n"
     ]
    },
    {
     "name": "stdout",
     "output_type": "stream",
     "text": [
      "epoch: 11, train_accuracy:  0.47, loss:  1.897, val_accuracy:  0.47, val_loss: 2.007\n",
      "Saved successfully best weights to: best_weights.pt\n"
     ]
    },
    {
     "name": "stderr",
     "output_type": "stream",
     "text": [
      "epoch: 12/50: 100%|███████████████████████████████████████████████| 875/875 [06:44<00:00,  2.16it/s]\n"
     ]
    },
    {
     "name": "stdout",
     "output_type": "stream",
     "text": [
      "epoch: 12, train_accuracy:  0.49, loss:  1.813, val_accuracy:  0.44, val_loss: 2.060\n"
     ]
    },
    {
     "name": "stderr",
     "output_type": "stream",
     "text": [
      "epoch: 13/50: 100%|███████████████████████████████████████████████| 875/875 [06:44<00:00,  2.16it/s]\n"
     ]
    },
    {
     "name": "stdout",
     "output_type": "stream",
     "text": [
      "epoch: 13, train_accuracy:  0.52, loss:  1.703, val_accuracy:  0.49, val_loss: 1.875\n",
      "Saved successfully best weights to: best_weights.pt\n"
     ]
    },
    {
     "name": "stderr",
     "output_type": "stream",
     "text": [
      "epoch: 14/50: 100%|███████████████████████████████████████████████| 875/875 [06:43<00:00,  2.17it/s]\n"
     ]
    },
    {
     "name": "stdout",
     "output_type": "stream",
     "text": [
      "epoch: 14, train_accuracy:  0.54, loss:  1.626, val_accuracy:  0.46, val_loss: 1.882\n"
     ]
    },
    {
     "name": "stderr",
     "output_type": "stream",
     "text": [
      "epoch: 15/50: 100%|███████████████████████████████████████████████| 875/875 [06:44<00:00,  2.16it/s]\n"
     ]
    },
    {
     "name": "stdout",
     "output_type": "stream",
     "text": [
      "epoch: 15, train_accuracy:  0.57, loss:  1.517, val_accuracy:  0.52, val_loss: 1.736\n",
      "Saved successfully best weights to: best_weights.pt\n"
     ]
    },
    {
     "name": "stderr",
     "output_type": "stream",
     "text": [
      "epoch: 16/50: 100%|███████████████████████████████████████████████| 875/875 [06:44<00:00,  2.16it/s]\n"
     ]
    },
    {
     "name": "stdout",
     "output_type": "stream",
     "text": [
      "epoch: 16, train_accuracy:  0.58, loss:  1.455, val_accuracy:  0.54, val_loss: 1.642\n",
      "Saved successfully best weights to: best_weights.pt\n"
     ]
    },
    {
     "name": "stderr",
     "output_type": "stream",
     "text": [
      "epoch: 17/50: 100%|███████████████████████████████████████████████| 875/875 [06:44<00:00,  2.16it/s]\n"
     ]
    },
    {
     "name": "stdout",
     "output_type": "stream",
     "text": [
      "epoch: 17, train_accuracy:  0.61, loss:  1.373, val_accuracy:  0.62, val_loss: 1.435\n",
      "Saved successfully best weights to: best_weights.pt\n"
     ]
    },
    {
     "name": "stderr",
     "output_type": "stream",
     "text": [
      "epoch: 18/50: 100%|███████████████████████████████████████████████| 875/875 [06:43<00:00,  2.17it/s]\n"
     ]
    },
    {
     "name": "stdout",
     "output_type": "stream",
     "text": [
      "epoch: 18, train_accuracy:  0.63, loss:  1.284, val_accuracy:  0.62, val_loss: 1.423\n",
      "Saved successfully best weights to: best_weights.pt\n"
     ]
    },
    {
     "name": "stderr",
     "output_type": "stream",
     "text": [
      "epoch: 19/50: 100%|███████████████████████████████████████████████| 875/875 [06:44<00:00,  2.16it/s]\n"
     ]
    },
    {
     "name": "stdout",
     "output_type": "stream",
     "text": [
      "epoch: 19, train_accuracy:  0.66, loss:  1.206, val_accuracy:  0.57, val_loss: 1.484\n"
     ]
    },
    {
     "name": "stderr",
     "output_type": "stream",
     "text": [
      "epoch: 20/50: 100%|███████████████████████████████████████████████| 875/875 [06:44<00:00,  2.16it/s]\n"
     ]
    },
    {
     "name": "stdout",
     "output_type": "stream",
     "text": [
      "epoch: 20, train_accuracy:  0.68, loss:  1.127, val_accuracy:  0.59, val_loss: 1.469\n"
     ]
    },
    {
     "name": "stderr",
     "output_type": "stream",
     "text": [
      "epoch: 21/50: 100%|███████████████████████████████████████████████| 875/875 [06:44<00:00,  2.16it/s]\n"
     ]
    },
    {
     "name": "stdout",
     "output_type": "stream",
     "text": [
      "epoch: 21, train_accuracy:  0.68, loss:  1.113, val_accuracy:  0.65, val_loss: 1.309\n",
      "Saved successfully best weights to: best_weights.pt\n"
     ]
    },
    {
     "name": "stderr",
     "output_type": "stream",
     "text": [
      "epoch: 22/50: 100%|███████████████████████████████████████████████| 875/875 [06:44<00:00,  2.16it/s]\n"
     ]
    },
    {
     "name": "stdout",
     "output_type": "stream",
     "text": [
      "epoch: 22, train_accuracy:  0.71, loss:  1.025, val_accuracy:  0.64, val_loss: 1.261\n",
      "Saved successfully best weights to: best_weights.pt\n"
     ]
    },
    {
     "name": "stderr",
     "output_type": "stream",
     "text": [
      "epoch: 23/50: 100%|███████████████████████████████████████████████| 875/875 [06:44<00:00,  2.16it/s]\n"
     ]
    },
    {
     "name": "stdout",
     "output_type": "stream",
     "text": [
      "epoch: 23, train_accuracy:  0.71, loss:  1.002, val_accuracy:  0.68, val_loss: 1.178\n",
      "Saved successfully best weights to: best_weights.pt\n"
     ]
    },
    {
     "name": "stderr",
     "output_type": "stream",
     "text": [
      "epoch: 24/50: 100%|███████████████████████████████████████████████| 875/875 [06:44<00:00,  2.16it/s]\n"
     ]
    },
    {
     "name": "stdout",
     "output_type": "stream",
     "text": [
      "epoch: 24, train_accuracy:  0.74, loss:  0.923, val_accuracy:  0.65, val_loss: 1.241\n"
     ]
    },
    {
     "name": "stderr",
     "output_type": "stream",
     "text": [
      "epoch: 25/50: 100%|███████████████████████████████████████████████| 875/875 [06:45<00:00,  2.16it/s]\n"
     ]
    },
    {
     "name": "stdout",
     "output_type": "stream",
     "text": [
      "epoch: 25, train_accuracy:  0.74, loss:  0.903, val_accuracy:  0.70, val_loss: 1.097\n",
      "Saved successfully best weights to: best_weights.pt\n"
     ]
    },
    {
     "name": "stderr",
     "output_type": "stream",
     "text": [
      "epoch: 26/50: 100%|███████████████████████████████████████████████| 875/875 [06:45<00:00,  2.16it/s]\n"
     ]
    },
    {
     "name": "stdout",
     "output_type": "stream",
     "text": [
      "epoch: 26, train_accuracy:  0.76, loss:  0.848, val_accuracy:  0.68, val_loss: 1.117\n"
     ]
    },
    {
     "name": "stderr",
     "output_type": "stream",
     "text": [
      "epoch: 27/50: 100%|███████████████████████████████████████████████| 875/875 [06:45<00:00,  2.16it/s]\n"
     ]
    },
    {
     "name": "stdout",
     "output_type": "stream",
     "text": [
      "epoch: 27, train_accuracy:  0.77, loss:  0.794, val_accuracy:  0.70, val_loss: 1.145\n"
     ]
    },
    {
     "name": "stderr",
     "output_type": "stream",
     "text": [
      "epoch: 28/50: 100%|███████████████████████████████████████████████| 875/875 [06:45<00:00,  2.16it/s]\n"
     ]
    },
    {
     "name": "stdout",
     "output_type": "stream",
     "text": [
      "epoch: 28, train_accuracy:  0.79, loss:  0.743, val_accuracy:  0.73, val_loss: 0.997\n",
      "Saved successfully best weights to: best_weights.pt\n"
     ]
    },
    {
     "name": "stderr",
     "output_type": "stream",
     "text": [
      "epoch: 29/50: 100%|███████████████████████████████████████████████| 875/875 [06:45<00:00,  2.16it/s]\n"
     ]
    },
    {
     "name": "stdout",
     "output_type": "stream",
     "text": [
      "epoch: 29, train_accuracy:  0.79, loss:  0.727, val_accuracy:  0.72, val_loss: 1.080\n"
     ]
    },
    {
     "name": "stderr",
     "output_type": "stream",
     "text": [
      "epoch: 30/50: 100%|███████████████████████████████████████████████| 875/875 [06:45<00:00,  2.16it/s]\n"
     ]
    },
    {
     "name": "stdout",
     "output_type": "stream",
     "text": [
      "epoch: 30, train_accuracy:  0.81, loss:  0.692, val_accuracy:  0.74, val_loss: 0.952\n",
      "Saved successfully best weights to: best_weights.pt\n"
     ]
    },
    {
     "name": "stderr",
     "output_type": "stream",
     "text": [
      "epoch: 31/50: 100%|███████████████████████████████████████████████| 875/875 [06:44<00:00,  2.16it/s]\n"
     ]
    },
    {
     "name": "stdout",
     "output_type": "stream",
     "text": [
      "epoch: 31, train_accuracy:  0.80, loss:  0.690, val_accuracy:  0.75, val_loss: 0.944\n",
      "Saved successfully best weights to: best_weights.pt\n"
     ]
    },
    {
     "name": "stderr",
     "output_type": "stream",
     "text": [
      "epoch: 32/50: 100%|███████████████████████████████████████████████| 875/875 [06:44<00:00,  2.16it/s]\n"
     ]
    },
    {
     "name": "stdout",
     "output_type": "stream",
     "text": [
      "epoch: 32, train_accuracy:  0.82, loss:  0.646, val_accuracy:  0.70, val_loss: 1.109\n"
     ]
    },
    {
     "name": "stderr",
     "output_type": "stream",
     "text": [
      "epoch: 33/50: 100%|███████████████████████████████████████████████| 875/875 [06:45<00:00,  2.16it/s]\n"
     ]
    },
    {
     "name": "stdout",
     "output_type": "stream",
     "text": [
      "epoch: 33, train_accuracy:  0.83, loss:  0.582, val_accuracy:  0.72, val_loss: 1.016\n"
     ]
    },
    {
     "name": "stderr",
     "output_type": "stream",
     "text": [
      "epoch: 34/50: 100%|███████████████████████████████████████████████| 875/875 [06:45<00:00,  2.16it/s]\n"
     ]
    },
    {
     "name": "stdout",
     "output_type": "stream",
     "text": [
      "epoch: 34, train_accuracy:  0.85, loss:  0.545, val_accuracy:  0.75, val_loss: 0.943\n",
      "Saved successfully best weights to: best_weights.pt\n"
     ]
    },
    {
     "name": "stderr",
     "output_type": "stream",
     "text": [
      "epoch: 35/50: 100%|███████████████████████████████████████████████| 875/875 [06:45<00:00,  2.16it/s]\n"
     ]
    },
    {
     "name": "stdout",
     "output_type": "stream",
     "text": [
      "epoch: 35, train_accuracy:  0.85, loss:  0.541, val_accuracy:  0.73, val_loss: 1.026\n"
     ]
    },
    {
     "name": "stderr",
     "output_type": "stream",
     "text": [
      "epoch: 36/50: 100%|███████████████████████████████████████████████| 875/875 [06:45<00:00,  2.16it/s]\n"
     ]
    },
    {
     "name": "stdout",
     "output_type": "stream",
     "text": [
      "epoch: 36, train_accuracy:  0.87, loss:  0.477, val_accuracy:  0.74, val_loss: 1.003\n"
     ]
    },
    {
     "name": "stderr",
     "output_type": "stream",
     "text": [
      "epoch: 37/50: 100%|███████████████████████████████████████████████| 875/875 [06:45<00:00,  2.16it/s]\n"
     ]
    },
    {
     "name": "stdout",
     "output_type": "stream",
     "text": [
      "epoch: 37, train_accuracy:  0.86, loss:  0.491, val_accuracy:  0.71, val_loss: 1.151\n"
     ]
    },
    {
     "name": "stderr",
     "output_type": "stream",
     "text": [
      "epoch: 38/50: 100%|███████████████████████████████████████████████| 875/875 [06:46<00:00,  2.15it/s]\n"
     ]
    },
    {
     "name": "stdout",
     "output_type": "stream",
     "text": [
      "epoch: 38, train_accuracy:  0.86, loss:  0.485, val_accuracy:  0.71, val_loss: 1.107\n"
     ]
    },
    {
     "name": "stderr",
     "output_type": "stream",
     "text": [
      "epoch: 39/50: 100%|███████████████████████████████████████████████| 875/875 [06:46<00:00,  2.15it/s]\n"
     ]
    },
    {
     "name": "stdout",
     "output_type": "stream",
     "text": [
      "epoch: 39, train_accuracy:  0.88, loss:  0.435, val_accuracy:  0.77, val_loss: 0.851\n",
      "Saved successfully best weights to: best_weights.pt\n"
     ]
    },
    {
     "name": "stderr",
     "output_type": "stream",
     "text": [
      "epoch: 40/50: 100%|███████████████████████████████████████████████| 875/875 [06:45<00:00,  2.16it/s]\n"
     ]
    },
    {
     "name": "stdout",
     "output_type": "stream",
     "text": [
      "epoch: 40, train_accuracy:  0.88, loss:  0.427, val_accuracy:  0.78, val_loss: 0.865\n"
     ]
    },
    {
     "name": "stderr",
     "output_type": "stream",
     "text": [
      "epoch: 41/50: 100%|███████████████████████████████████████████████| 875/875 [06:45<00:00,  2.16it/s]\n"
     ]
    },
    {
     "name": "stdout",
     "output_type": "stream",
     "text": [
      "epoch: 41, train_accuracy:  0.88, loss:  0.421, val_accuracy:  0.73, val_loss: 1.009\n"
     ]
    },
    {
     "name": "stderr",
     "output_type": "stream",
     "text": [
      "epoch: 42/50: 100%|███████████████████████████████████████████████| 875/875 [06:44<00:00,  2.16it/s]\n"
     ]
    },
    {
     "name": "stdout",
     "output_type": "stream",
     "text": [
      "epoch: 42, train_accuracy:  0.88, loss:  0.425, val_accuracy:  0.81, val_loss: 0.728\n",
      "Saved successfully best weights to: best_weights.pt\n"
     ]
    },
    {
     "name": "stderr",
     "output_type": "stream",
     "text": [
      "epoch: 43/50: 100%|███████████████████████████████████████████████| 875/875 [06:44<00:00,  2.16it/s]\n"
     ]
    },
    {
     "name": "stdout",
     "output_type": "stream",
     "text": [
      "epoch: 43, train_accuracy:  0.88, loss:  0.423, val_accuracy:  0.78, val_loss: 0.861\n"
     ]
    },
    {
     "name": "stderr",
     "output_type": "stream",
     "text": [
      "epoch: 44/50: 100%|███████████████████████████████████████████████| 875/875 [06:44<00:00,  2.16it/s]\n"
     ]
    },
    {
     "name": "stdout",
     "output_type": "stream",
     "text": [
      "epoch: 44, train_accuracy:  0.89, loss:  0.368, val_accuracy:  0.81, val_loss: 0.754\n"
     ]
    },
    {
     "name": "stderr",
     "output_type": "stream",
     "text": [
      "epoch: 45/50: 100%|███████████████████████████████████████████████| 875/875 [06:44<00:00,  2.16it/s]\n"
     ]
    },
    {
     "name": "stdout",
     "output_type": "stream",
     "text": [
      "epoch: 45, train_accuracy:  0.90, loss:  0.336, val_accuracy:  0.73, val_loss: 0.995\n"
     ]
    },
    {
     "name": "stderr",
     "output_type": "stream",
     "text": [
      "epoch: 46/50: 100%|███████████████████████████████████████████████| 875/875 [06:44<00:00,  2.16it/s]\n"
     ]
    },
    {
     "name": "stdout",
     "output_type": "stream",
     "text": [
      "epoch: 46, train_accuracy:  0.91, loss:  0.347, val_accuracy:  0.81, val_loss: 0.822\n"
     ]
    },
    {
     "name": "stderr",
     "output_type": "stream",
     "text": [
      "epoch: 47/50: 100%|███████████████████████████████████████████████| 875/875 [06:44<00:00,  2.16it/s]\n"
     ]
    },
    {
     "name": "stdout",
     "output_type": "stream",
     "text": [
      "epoch: 47, train_accuracy:  0.90, loss:  0.342, val_accuracy:  0.77, val_loss: 0.913\n"
     ]
    },
    {
     "name": "stderr",
     "output_type": "stream",
     "text": [
      "epoch: 48/50: 100%|███████████████████████████████████████████████| 875/875 [06:44<00:00,  2.16it/s]\n"
     ]
    },
    {
     "name": "stdout",
     "output_type": "stream",
     "text": [
      "epoch: 48, train_accuracy:  0.90, loss:  0.340, val_accuracy:  0.83, val_loss: 0.768\n"
     ]
    },
    {
     "name": "stderr",
     "output_type": "stream",
     "text": [
      "epoch: 49/50: 100%|███████████████████████████████████████████████| 875/875 [06:44<00:00,  2.16it/s]\n"
     ]
    },
    {
     "name": "stdout",
     "output_type": "stream",
     "text": [
      "epoch: 49, train_accuracy:  0.91, loss:  0.302, val_accuracy:  0.81, val_loss: 0.805\n"
     ]
    },
    {
     "name": "stderr",
     "output_type": "stream",
     "text": [
      "epoch: 50/50: 100%|███████████████████████████████████████████████| 875/875 [06:44<00:00,  2.16it/s]\n"
     ]
    },
    {
     "name": "stdout",
     "output_type": "stream",
     "text": [
      "epoch: 50, train_accuracy:  0.91, loss:  0.328, val_accuracy:  0.80, val_loss: 0.807\n",
      "Saved successfully last weights to: last_weights.pt\n"
     ]
    }
   ],
   "source": [
    "model, history = train(model, train_dataloader, val_dataloader, loss_fn, optimizer, epochs = 50,\n",
    "              save_last_weights_path = last_weights, save_best_weights_path = best_weights,\n",
    "              device = device, scheduler = scheduler)\n"
   ]
  },
  {
   "cell_type": "code",
   "execution_count": 19,
   "id": "5d44da8e",
   "metadata": {
    "execution": {
     "iopub.execute_input": "2023-10-31T12:03:17.391303Z",
     "iopub.status.busy": "2023-10-31T12:03:17.390853Z",
     "iopub.status.idle": "2023-10-31T12:03:18.097099Z",
     "shell.execute_reply": "2023-10-31T12:03:18.096049Z"
    },
    "papermill": {
     "duration": 4.744842,
     "end_time": "2023-10-31T12:03:18.099428",
     "exception": false,
     "start_time": "2023-10-31T12:03:13.354586",
     "status": "completed"
    },
    "tags": []
   },
   "outputs": [
    {
     "data": {
      "image/png": "[encoded data removed]",
      "text/plain": [
       "<Figure size 1000x600 with 2 Axes>"
      ]
     },
     "metadata": {},
     "output_type": "display_data"
    }
   ],
   "source": [
    "visualize_history(history)"
   ]
  },
  {
   "cell_type": "markdown",
   "id": "ffe3ab64",
   "metadata": {
    "papermill": {
     "duration": 4.137579,
     "end_time": "2023-10-31T12:03:42.223193",
     "exception": false,
     "start_time": "2023-10-31T12:03:38.085614",
     "status": "completed"
    },
    "tags": []
   },
   "source": [
    "## Test Model"
   ]
  },
  {
   "cell_type": "code",
   "execution_count": 21,
   "id": "aee8277e",
   "metadata": {
    "execution": {
     "iopub.execute_input": "2023-10-31T12:03:50.262578Z",
     "iopub.status.busy": "2023-10-31T12:03:50.261711Z",
     "iopub.status.idle": "2023-10-31T12:04:33.816416Z",
     "shell.execute_reply": "2023-10-31T12:04:33.815126Z"
    },
    "papermill": {
     "duration": 47.601014,
     "end_time": "2023-10-31T12:04:33.818707",
     "exception": false,
     "start_time": "2023-10-31T12:03:46.217693",
     "status": "completed"
    },
    "tags": []
   },
   "outputs": [
    {
     "name": "stderr",
     "output_type": "stream",
     "text": [
      "Evaluate: 100%|███████████████████████████████████████████████████| 125/125 [00:43<00:00,  2.89it/s]"
     ]
    },
    {
     "name": "stdout",
     "output_type": "stream",
     "text": [
      "Loss:  0.849, Acc:  0.806\n"
     ]
    },
    {
     "name": "stderr",
     "output_type": "stream",
     "text": [
      "\n"
     ]
    }
   ],
   "source": [
    "test_loss, test_acc = evaluate(model, weights = last_weights, val_data = test_dataloader, loss_fn = loss_fn, device = 'cuda', verbose = 1)\n",
    "print(f'Loss: {test_loss : .3f}, Acc: {test_acc: .3f}')"
   ]
  },
  {
   "cell_type": "code",
   "execution_count": 22,
   "id": "b10a894a",
   "metadata": {
    "execution": {
     "iopub.execute_input": "2023-10-31T12:04:41.791017Z",
     "iopub.status.busy": "2023-10-31T12:04:41.790595Z",
     "iopub.status.idle": "2023-10-31T12:05:25.917469Z",
     "shell.execute_reply": "2023-10-31T12:05:25.916093Z"
    },
    "papermill": {
     "duration": 48.196949,
     "end_time": "2023-10-31T12:05:25.919765",
     "exception": false,
     "start_time": "2023-10-31T12:04:37.722816",
     "status": "completed"
    },
    "tags": []
   },
   "outputs": [
    {
     "name": "stderr",
     "output_type": "stream",
     "text": [
      "Evaluate: 100%|███████████████████████████████████████████████████| 125/125 [00:43<00:00,  2.85it/s]"
     ]
    },
    {
     "name": "stdout",
     "output_type": "stream",
     "text": [
      "Loss:  0.749, Acc:  0.836\n"
     ]
    },
    {
     "name": "stderr",
     "output_type": "stream",
     "text": [
      "\n"
     ]
    }
   ],
   "source": [
    "test_loss, test_acc = evaluate(model, weights = best_weights, val_data = test_dataloader, loss_fn = loss_fn, device = 'cuda', verbose = 1)\n",
    "print(f'Loss: {test_loss : .3f}, Acc: {test_acc: .3f}')"
   ]
  }
 ],
 "metadata": {
  "kernelspec": {
   "display_name": "Python 3",
   "language": "python",
   "name": "python3"
  },
  "language_info": {
   "codemirror_mode": {
    "name": "ipython",
    "version": 3
   },
   "file_extension": ".py",
   "mimetype": "text/x-python",
   "name": "python",
   "nbconvert_exporter": "python",
   "pygments_lexer": "ipython3",
   "version": "3.10.10"
  },
  "papermill": {
   "default_parameters": {},
   "duration": 25100.839871,
   "end_time": "2023-10-31T12:05:32.867956",
   "environment_variables": {},
   "exception": null,
   "input_path": "__notebook__.ipynb",
   "output_path": "__notebook__.ipynb",
   "parameters": {},
   "start_time": "2023-10-31T05:07:12.028085",
   "version": "2.4.0"
  },
  "widgets": {
   "application/vnd.jupyter.widget-state+json": {
    "state": {
     "0c5acf063b3642639267455d60027ee2": {
      "model_module": "@jupyter-widgets/controls",
      "model_module_version": "1.5.0",
      "model_name": "HTMLModel",
      "state": {
       "_dom_classes": [],
       "_model_module": "@jupyter-widgets/controls",
       "_model_module_version": "1.5.0",
       "_model_name": "HTMLModel",
       "_view_count": null,
       "_view_module": "@jupyter-widgets/controls",
       "_view_module_version": "1.5.0",
       "_view_name": "HTMLView",
       "description": "",
       "description_tooltip": null,
       "layout": "IPY_MODEL_4d8a212781b84d86bf360025b9e0513f",
       "placeholder": "​",
       "style": "IPY_MODEL_2d63c55096f04c558fb23ed93360f511",
       "value": " 179M/179M [00:05&lt;00:00, 21.5MB/s]"
      }
     },
     "2d1fdd0c531148c58b1f55fe6005bbba": {
      "model_module": "@jupyter-widgets/controls",
      "model_module_version": "1.5.0",
      "model_name": "ProgressStyleModel",
      "state": {
       "_model_module": "@jupyter-widgets/controls",
       "_model_module_version": "1.5.0",
       "_model_name": "ProgressStyleModel",
       "_view_count": null,
       "_view_module": "@jupyter-widgets/base",
       "_view_module_version": "1.2.0",
       "_view_name": "StyleView",
       "bar_color": null,
       "description_width": ""
      }
     },
     "2d63c55096f04c558fb23ed93360f511": {
      "model_module": "@jupyter-widgets/controls",
      "model_module_version": "1.5.0",
      "model_name": "DescriptionStyleModel",
      "state": {
       "_model_module": "@jupyter-widgets/controls",
       "_model_module_version": "1.5.0",
       "_model_name": "DescriptionStyleModel",
       "_view_count": null,
       "_view_module": "@jupyter-widgets/base",
       "_view_module_version": "1.2.0",
       "_view_name": "StyleView",
       "description_width": ""
      }
     },
     "4d8a212781b84d86bf360025b9e0513f": {
      "model_module": "@jupyter-widgets/base",
      "model_module_version": "1.2.0",
      "model_name": "LayoutModel",
      "state": {
       "_model_module": "@jupyter-widgets/base",
       "_model_module_version": "1.2.0",
       "_model_name": "LayoutModel",
       "_view_count": null,
       "_view_module": "@jupyter-widgets/base",
       "_view_module_version": "1.2.0",
       "_view_name": "LayoutView",
       "align_content": null,
       "align_items": null,
       "align_self": null,
       "border": null,
       "bottom": null,
       "display": null,
       "flex": null,
       "flex_flow": null,
       "grid_area": null,
       "grid_auto_columns": null,
       "grid_auto_flow": null,
       "grid_auto_rows": null,
       "grid_column": null,
       "grid_gap": null,
       "grid_row": null,
       "grid_template_areas": null,
       "grid_template_columns": null,
       "grid_template_rows": null,
       "height": null,
       "justify_content": null,
       "justify_items": null,
       "left": null,
       "margin": null,
       "max_height": null,
       "max_width": null,
       "min_height": null,
       "min_width": null,
       "object_fit": null,
       "object_position": null,
       "order": null,
       "overflow": null,
       "overflow_x": null,
       "overflow_y": null,
       "padding": null,
       "right": null,
       "top": null,
       "visibility": null,
       "width": null
      }
     },
     "572b1c8cd3b748feb2a8fcddd2b0d600": {
      "model_module": "@jupyter-widgets/base",
      "model_module_version": "1.2.0",
      "model_name": "LayoutModel",
      "state": {
       "_model_module": "@jupyter-widgets/base",
       "_model_module_version": "1.2.0",
       "_model_name": "LayoutModel",
       "_view_count": null,
       "_view_module": "@jupyter-widgets/base",
       "_view_module_version": "1.2.0",
       "_view_name": "LayoutView",
       "align_content": null,
       "align_items": null,
       "align_self": null,
       "border": null,
       "bottom": null,
       "display": null,
       "flex": null,
       "flex_flow": null,
       "grid_area": null,
       "grid_auto_columns": null,
       "grid_auto_flow": null,
       "grid_auto_rows": null,
       "grid_column": null,
       "grid_gap": null,
       "grid_row": null,
       "grid_template_areas": null,
       "grid_template_columns": null,
       "grid_template_rows": null,
       "height": null,
       "justify_content": null,
       "justify_items": null,
       "left": null,
       "margin": null,
       "max_height": null,
       "max_width": null,
       "min_height": null,
       "min_width": null,
       "object_fit": null,
       "object_position": null,
       "order": null,
       "overflow": null,
       "overflow_x": null,
       "overflow_y": null,
       "padding": null,
       "right": null,
       "top": null,
       "visibility": null,
       "width": null
      }
     },
     "5f8267ff01f348a68842f4661fdccda0": {
      "model_module": "@jupyter-widgets/controls",
      "model_module_version": "1.5.0",
      "model_name": "FloatProgressModel",
      "state": {
       "_dom_classes": [],
       "_model_module": "@jupyter-widgets/controls",
       "_model_module_version": "1.5.0",
       "_model_name": "FloatProgressModel",
       "_view_count": null,
       "_view_module": "@jupyter-widgets/controls",
       "_view_module_version": "1.5.0",
       "_view_name": "ProgressView",
       "bar_style": "success",
       "description": "",
       "description_tooltip": null,
       "layout": "IPY_MODEL_572b1c8cd3b748feb2a8fcddd2b0d600",
       "max": 178675806,
       "min": 0,
       "orientation": "horizontal",
       "style": "IPY_MODEL_2d1fdd0c531148c58b1f55fe6005bbba",
       "value": 178675806
      }
     },
     "b9b987bc7ec4431e8d03a4bbae6be447": {
      "model_module": "@jupyter-widgets/controls",
      "model_module_version": "1.5.0",
      "model_name": "HTMLModel",
      "state": {
       "_dom_classes": [],
       "_model_module": "@jupyter-widgets/controls",
       "_model_module_version": "1.5.0",
       "_model_name": "HTMLModel",
       "_view_count": null,
       "_view_module": "@jupyter-widgets/controls",
       "_view_module_version": "1.5.0",
       "_view_name": "HTMLView",
       "description": "",
       "description_tooltip": null,
       "layout": "IPY_MODEL_c730ccaba9654909a0d28275fb5adab1",
       "placeholder": "​",
       "style": "IPY_MODEL_d9202b2634d54bcebcb7883383ac3591",
       "value": "Downloading model.safetensors: 100%"
      }
     },
     "c730ccaba9654909a0d28275fb5adab1": {
      "model_module": "@jupyter-widgets/base",
      "model_module_version": "1.2.0",
      "model_name": "LayoutModel",
      "state": {
       "_model_module": "@jupyter-widgets/base",
       "_model_module_version": "1.2.0",
       "_model_name": "LayoutModel",
       "_view_count": null,
       "_view_module": "@jupyter-widgets/base",
       "_view_module_version": "1.2.0",
       "_view_name": "LayoutView",
       "align_content": null,
       "align_items": null,
       "align_self": null,
       "border": null,
       "bottom": null,
       "display": null,
       "flex": null,
       "flex_flow": null,
       "grid_area": null,
       "grid_auto_columns": null,
       "grid_auto_flow": null,
       "grid_auto_rows": null,
       "grid_column": null,
       "grid_gap": null,
       "grid_row": null,
       "grid_template_areas": null,
       "grid_template_columns": null,
       "grid_template_rows": null,
       "height": null,
       "justify_content": null,
       "justify_items": null,
       "left": null,
       "margin": null,
       "max_height": null,
       "max_width": null,
       "min_height": null,
       "min_width": null,
       "object_fit": null,
       "object_position": null,
       "order": null,
       "overflow": null,
       "overflow_x": null,
       "overflow_y": null,
       "padding": null,
       "right": null,
       "top": null,
       "visibility": null,
       "width": null
      }
     },
     "d5487004eae94116a0e299bb998866b7": {
      "model_module": "@jupyter-widgets/controls",
      "model_module_version": "1.5.0",
      "model_name": "HBoxModel",
      "state": {
       "_dom_classes": [],
       "_model_module": "@jupyter-widgets/controls",
       "_model_module_version": "1.5.0",
       "_model_name": "HBoxModel",
       "_view_count": null,
       "_view_module": "@jupyter-widgets/controls",
       "_view_module_version": "1.5.0",
       "_view_name": "HBoxView",
       "box_style": "",
       "children": [
        "IPY_MODEL_b9b987bc7ec4431e8d03a4bbae6be447",
        "IPY_MODEL_5f8267ff01f348a68842f4661fdccda0",
        "IPY_MODEL_0c5acf063b3642639267455d60027ee2"
       ],
       "layout": "IPY_MODEL_faa665e2b19440279a912a05e94e353b"
      }
     },
     "d9202b2634d54bcebcb7883383ac3591": {
      "model_module": "@jupyter-widgets/controls",
      "model_module_version": "1.5.0",
      "model_name": "DescriptionStyleModel",
      "state": {
       "_model_module": "@jupyter-widgets/controls",
       "_model_module_version": "1.5.0",
       "_model_name": "DescriptionStyleModel",
       "_view_count": null,
       "_view_module": "@jupyter-widgets/base",
       "_view_module_version": "1.2.0",
       "_view_name": "StyleView",
       "description_width": ""
      }
     },
     "faa665e2b19440279a912a05e94e353b": {
      "model_module": "@jupyter-widgets/base",
      "model_module_version": "1.2.0",
      "model_name": "LayoutModel",
      "state": {
       "_model_module": "@jupyter-widgets/base",
       "_model_module_version": "1.2.0",
       "_model_name": "LayoutModel",
       "_view_count": null,
       "_view_module": "@jupyter-widgets/base",
       "_view_module_version": "1.2.0",
       "_view_name": "LayoutView",
       "align_content": null,
       "align_items": null,
       "align_self": null,
       "border": null,
       "bottom": null,
       "display": null,
       "flex": null,
       "flex_flow": null,
       "grid_area": null,
       "grid_auto_columns": null,
       "grid_auto_flow": null,
       "grid_auto_rows": null,
       "grid_column": null,
       "grid_gap": null,
       "grid_row": null,
       "grid_template_areas": null,
       "grid_template_columns": null,
       "grid_template_rows": null,
       "height": null,
       "justify_content": null,
       "justify_items": null,
       "left": null,
       "margin": null,
       "max_height": null,
       "max_width": null,
       "min_height": null,
       "min_width": null,
       "object_fit": null,
       "object_position": null,
       "order": null,
       "overflow": null,
       "overflow_x": null,
       "overflow_y": null,
       "padding": null,
       "right": null,
       "top": null,
       "visibility": null,
       "width": null
      }
     }
    },
    "version_major": 2,
    "version_minor": 0
   }
  }
 },
 "nbformat": 4,
 "nbformat_minor": 5
}
