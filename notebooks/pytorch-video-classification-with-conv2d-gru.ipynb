{
 "cells": [
  {
   "cell_type": "code",
   "execution_count": 1,
   "id": "ba954be1",
   "metadata": {
    "_cell_guid": "b1076dfc-b9ad-4769-8c92-a6c4dae69d19",
    "_uuid": "8f2839f25d086af736a60e9eeb907d3b93b6e0e5",
    "execution": {
     "iopub.execute_input": "2023-11-01T20:35:24.705738Z",
     "iopub.status.busy": "2023-11-01T20:35:24.705441Z",
     "iopub.status.idle": "2023-11-01T20:35:36.805956Z",
     "shell.execute_reply": "2023-11-01T20:35:36.804808Z"
    },
    "papermill": {
     "duration": 12.114478,
     "end_time": "2023-11-01T20:35:36.808365",
     "exception": false,
     "start_time": "2023-11-01T20:35:24.693887",
     "status": "completed"
    },
    "tags": []
   },
   "outputs": [
    {
     "name": "stdout",
     "output_type": "stream",
     "text": [
      "Requirement already satisfied: timm in /opt/conda/lib/python3.10/site-packages (0.9.2)\r\n",
      "Requirement already satisfied: torch>=1.7 in /opt/conda/lib/python3.10/site-packages (from timm) (2.0.0)\r\n",
      "Requirement already satisfied: torchvision in /opt/conda/lib/python3.10/site-packages (from timm) (0.15.1)\r\n",
      "Requirement already satisfied: pyyaml in /opt/conda/lib/python3.10/site-packages (from timm) (5.4.1)\r\n",
      "Requirement already satisfied: huggingface-hub in /opt/conda/lib/python3.10/site-packages (from timm) (0.15.1)\r\n",
      "Requirement already satisfied: safetensors in /opt/conda/lib/python3.10/site-packages (from timm) (0.3.1)\r\n",
      "Requirement already satisfied: filelock in /opt/conda/lib/python3.10/site-packages (from torch>=1.7->timm) (3.12.0)\r\n",
      "Requirement already satisfied: typing-extensions in /opt/conda/lib/python3.10/site-packages (from torch>=1.7->timm) (4.5.0)\r\n",
      "Requirement already satisfied: sympy in /opt/conda/lib/python3.10/site-packages (from torch>=1.7->timm) (1.12)\r\n",
      "Requirement already satisfied: networkx in /opt/conda/lib/python3.10/site-packages (from torch>=1.7->timm) (3.1)\r\n",
      "Requirement already satisfied: jinja2 in /opt/conda/lib/python3.10/site-packages (from torch>=1.7->timm) (3.1.2)\r\n",
      "Requirement already satisfied: fsspec in /opt/conda/lib/python3.10/site-packages (from huggingface-hub->timm) (2023.6.0)\r\n",
      "Requirement already satisfied: requests in /opt/conda/lib/python3.10/site-packages (from huggingface-hub->timm) (2.28.2)\r\n",
      "Requirement already satisfied: tqdm>=4.42.1 in /opt/conda/lib/python3.10/site-packages (from huggingface-hub->timm) (4.64.1)\r\n",
      "Requirement already satisfied: packaging>=20.9 in /opt/conda/lib/python3.10/site-packages (from huggingface-hub->timm) (21.3)\r\n",
      "Requirement already satisfied: numpy in /opt/conda/lib/python3.10/site-packages (from torchvision->timm) (1.23.5)\r\n",
      "Requirement already satisfied: pillow!=8.3.*,>=5.3.0 in /opt/conda/lib/python3.10/site-packages (from torchvision->timm) (9.5.0)\r\n",
      "Requirement already satisfied: pyparsing!=3.0.5,>=2.0.2 in /opt/conda/lib/python3.10/site-packages (from packaging>=20.9->huggingface-hub->timm) (3.0.9)\r\n",
      "Requirement already satisfied: MarkupSafe>=2.0 in /opt/conda/lib/python3.10/site-packages (from jinja2->torch>=1.7->timm) (2.1.2)\r\n",
      "Requirement already satisfied: charset-normalizer<4,>=2 in /opt/conda/lib/python3.10/site-packages (from requests->huggingface-hub->timm) (2.1.1)\r\n",
      "Requirement already satisfied: idna<4,>=2.5 in /opt/conda/lib/python3.10/site-packages (from requests->huggingface-hub->timm) (3.4)\r\n",
      "Requirement already satisfied: urllib3<1.27,>=1.21.1 in /opt/conda/lib/python3.10/site-packages (from requests->huggingface-hub->timm) (1.26.15)\r\n",
      "Requirement already satisfied: certifi>=2017.4.17 in /opt/conda/lib/python3.10/site-packages (from requests->huggingface-hub->timm) (2023.5.7)\r\n",
      "Requirement already satisfied: mpmath>=0.19 in /opt/conda/lib/python3.10/site-packages (from sympy->torch>=1.7->timm) (1.3.0)\r\n",
      "\u001b[33mWARNING: Running pip as the 'root' user can result in broken permissions and conflicting behaviour with the system package manager. It is recommended to use a virtual environment instead: https://pip.pypa.io/warnings/venv\u001b[0m\u001b[33m\r\n",
      "\u001b[0m"
     ]
    }
   ],
   "source": [
    "!pip install timm"
   ]
  },
  {
   "cell_type": "code",
   "execution_count": 2,
   "id": "63bd5663",
   "metadata": {
    "execution": {
     "iopub.execute_input": "2023-11-01T20:35:36.831275Z",
     "iopub.status.busy": "2023-11-01T20:35:36.830892Z",
     "iopub.status.idle": "2023-11-01T20:35:36.835575Z",
     "shell.execute_reply": "2023-11-01T20:35:36.834722Z"
    },
    "papermill": {
     "duration": 0.018434,
     "end_time": "2023-11-01T20:35:36.837596",
     "exception": false,
     "start_time": "2023-11-01T20:35:36.819162",
     "status": "completed"
    },
    "tags": []
   },
   "outputs": [],
   "source": [
    "# !apt-get install unrar\n",
    "# !wget --no-check-certificate https://www.crcv.ucf.edu/data/UCF50.rar\n",
    "# !unrar x UCF50.rar\n",
    "# # !rm -fr UCF50.rar\n",
    "\n",
    "# PATH_DATASET_DIR = \"/kaggle/working/UCF50\""
   ]
  },
  {
   "cell_type": "code",
   "execution_count": 3,
   "id": "4ef42173",
   "metadata": {
    "execution": {
     "iopub.execute_input": "2023-11-01T20:35:36.861064Z",
     "iopub.status.busy": "2023-11-01T20:35:36.860792Z",
     "iopub.status.idle": "2023-11-01T20:35:42.902682Z",
     "shell.execute_reply": "2023-11-01T20:35:42.901832Z"
    },
    "papermill": {
     "duration": 6.055412,
     "end_time": "2023-11-01T20:35:42.905113",
     "exception": false,
     "start_time": "2023-11-01T20:35:36.849701",
     "status": "completed"
    },
    "tags": []
   },
   "outputs": [],
   "source": [
    "import numpy as np\n",
    "import pandas as pd\n",
    "import matplotlib.pyplot as plt\n",
    "import os\n",
    "import torch\n",
    "import torchvision\n",
    "import timm\n",
    "\n",
    "from torch import nn\n",
    "from tqdm import tqdm\n",
    "import random\n",
    "from glob import glob\n",
    "import cv2"
   ]
  },
  {
   "cell_type": "markdown",
   "id": "bb923499",
   "metadata": {
    "papermill": {
     "duration": 0.009927,
     "end_time": "2023-11-01T20:35:42.925672",
     "exception": false,
     "start_time": "2023-11-01T20:35:42.915745",
     "status": "completed"
    },
    "tags": []
   },
   "source": [
    "# Dataset"
   ]
  },
  {
   "cell_type": "code",
   "execution_count": 4,
   "id": "1a333948",
   "metadata": {
    "execution": {
     "iopub.execute_input": "2023-11-01T20:35:42.947233Z",
     "iopub.status.busy": "2023-11-01T20:35:42.946648Z",
     "iopub.status.idle": "2023-11-01T20:35:46.058885Z",
     "shell.execute_reply": "2023-11-01T20:35:46.058107Z"
    },
    "papermill": {
     "duration": 3.125427,
     "end_time": "2023-11-01T20:35:46.061139",
     "exception": false,
     "start_time": "2023-11-01T20:35:42.935712",
     "status": "completed"
    },
    "tags": []
   },
   "outputs": [],
   "source": [
    "#  to use dataset from kaggle\n",
    "PATH_DATASET_DIR = \"/kaggle/input/ucf50-action-recognition-dataset/UCF50\"\n",
    "HEIGHT, WIDTH = 240, 320\n",
    "SEQUENCE_LENGTH = 20\n",
    "\n",
    "videos = glob(f\"{PATH_DATASET_DIR}/**/*.avi\")\n",
    "labels = [path.replace(f\"{PATH_DATASET_DIR}/\", \"\") for path in glob(f\"{PATH_DATASET_DIR}/**\")]"
   ]
  },
  {
   "cell_type": "code",
   "execution_count": 5,
   "id": "3ec4845b",
   "metadata": {
    "execution": {
     "iopub.execute_input": "2023-11-01T20:35:46.083636Z",
     "iopub.status.busy": "2023-11-01T20:35:46.083343Z",
     "iopub.status.idle": "2023-11-01T20:35:46.088735Z",
     "shell.execute_reply": "2023-11-01T20:35:46.087922Z"
    },
    "papermill": {
     "duration": 0.018348,
     "end_time": "2023-11-01T20:35:46.090544",
     "exception": false,
     "start_time": "2023-11-01T20:35:46.072196",
     "status": "completed"
    },
    "tags": []
   },
   "outputs": [],
   "source": [
    "from torchvision import transforms\n",
    "\n",
    "transform = transforms.Compose([\n",
    "    transforms.ToPILImage(),\n",
    "    transforms.Resize((240, 240)),\n",
    "    transforms.ToTensor(),\n",
    "    transforms.Normalize(mean=[0.485, 0.456, 0.406], std=[0.229, 0.224, 0.225]),\n",
    "])"
   ]
  },
  {
   "cell_type": "code",
   "execution_count": 6,
   "id": "f534cd87",
   "metadata": {
    "execution": {
     "iopub.execute_input": "2023-11-01T20:35:46.111844Z",
     "iopub.status.busy": "2023-11-01T20:35:46.111573Z",
     "iopub.status.idle": "2023-11-01T20:35:46.123907Z",
     "shell.execute_reply": "2023-11-01T20:35:46.122953Z"
    },
    "papermill": {
     "duration": 0.025179,
     "end_time": "2023-11-01T20:35:46.125882",
     "exception": false,
     "start_time": "2023-11-01T20:35:46.100703",
     "status": "completed"
    },
    "tags": []
   },
   "outputs": [],
   "source": [
    "import torch\n",
    "from torch.utils.data import Dataset, DataLoader\n",
    "import cv2\n",
    "import numpy as np\n",
    "\n",
    "class VideoDataset(Dataset):\n",
    "    \n",
    "    def __init__(self, video_paths, transform=None, num_videos=None, num_frames=None):\n",
    "        self.video_paths = video_paths\n",
    "        self.transform = transform\n",
    "        self.lab2idx = {}\n",
    "        \n",
    "        if num_videos is not None:\n",
    "            labels = set([path.split(\"/\")[-2] for path in video_paths])\n",
    "            self.lab2idx = { w : i for i, w in enumerate(labels) } \n",
    "            buffer = []\n",
    "            for label in labels:\n",
    "                videos = []\n",
    "                for path in video_paths:\n",
    "                    if label in path:\n",
    "                        videos.append(path)\n",
    "                videos = np.random.choice(videos, num_videos)\n",
    "                buffer.extend(videos)\n",
    "            self.paths = buffer\n",
    "    \n",
    "    def __len__(self):\n",
    "        return len(self.paths)\n",
    "    \n",
    "    def __getitem__(self, idx):\n",
    "        video_path = self.paths[idx]\n",
    "        label = video_path.split(\"/\")[-2]\n",
    "        frames = self.read_video(video_path)\n",
    "        if self.transform:\n",
    "            frames = torch.stack([self.transform(frame) for frame in frames])\n",
    "        else:\n",
    "            frames = torch.stack(frames)\n",
    "        return frames, self.lab2idx[label]\n",
    "    \n",
    "    def read_video(self, video_path):\n",
    "        \n",
    "        cap = cv2.VideoCapture(video_path)\n",
    "        frames = []\n",
    "        frames_count = int(cap.get(cv2.CAP_PROP_FRAME_COUNT))\n",
    "        window = max(int(frames_count/SEQUENCE_LENGTH), 1)\n",
    "        \n",
    "        for i in range(SEQUENCE_LENGTH):\n",
    "            cap.set(cv2.CAP_PROP_POS_FRAMES, i * window)\n",
    "            ret, frame = cap.read()\n",
    "            if not ret:\n",
    "                break\n",
    "            fixed_frame = cv2.cvtColor(frame, cv2.COLOR_BGR2RGB)\n",
    "            frames.append(frame)\n",
    "            \n",
    "        cap.release()\n",
    "        return np.array(frames)"
   ]
  },
  {
   "cell_type": "code",
   "execution_count": 7,
   "id": "c53841c6",
   "metadata": {
    "execution": {
     "iopub.execute_input": "2023-11-01T20:35:46.147004Z",
     "iopub.status.busy": "2023-11-01T20:35:46.146772Z",
     "iopub.status.idle": "2023-11-01T20:35:46.192643Z",
     "shell.execute_reply": "2023-11-01T20:35:46.191836Z"
    },
    "papermill": {
     "duration": 0.058616,
     "end_time": "2023-11-01T20:35:46.194607",
     "exception": false,
     "start_time": "2023-11-01T20:35:46.135991",
     "status": "completed"
    },
    "tags": []
   },
   "outputs": [],
   "source": [
    "dataset = VideoDataset(videos, transform, 100)"
   ]
  },
  {
   "cell_type": "code",
   "execution_count": 8,
   "id": "6d9440e4",
   "metadata": {
    "execution": {
     "iopub.execute_input": "2023-11-01T20:35:46.215799Z",
     "iopub.status.busy": "2023-11-01T20:35:46.215566Z",
     "iopub.status.idle": "2023-11-01T20:35:46.252792Z",
     "shell.execute_reply": "2023-11-01T20:35:46.252106Z"
    },
    "papermill": {
     "duration": 0.04999,
     "end_time": "2023-11-01T20:35:46.254722",
     "exception": false,
     "start_time": "2023-11-01T20:35:46.204732",
     "status": "completed"
    },
    "tags": []
   },
   "outputs": [],
   "source": [
    "train_size = int(0.7 * len(dataset))\n",
    "val_size = int(0.2 * len(dataset))\n",
    "test_size = len(dataset) - train_size - val_size\n",
    "\n",
    "torch.manual_seed(42)\n",
    "\n",
    "train_dataset, val_dataset, test_dataset = torch.utils.data.random_split(dataset, [train_size, val_size, test_size])"
   ]
  },
  {
   "cell_type": "code",
   "execution_count": 9,
   "id": "63425881",
   "metadata": {
    "execution": {
     "iopub.execute_input": "2023-11-01T20:35:46.275917Z",
     "iopub.status.busy": "2023-11-01T20:35:46.275663Z",
     "iopub.status.idle": "2023-11-01T20:35:46.281544Z",
     "shell.execute_reply": "2023-11-01T20:35:46.280749Z"
    },
    "papermill": {
     "duration": 0.018685,
     "end_time": "2023-11-01T20:35:46.283524",
     "exception": false,
     "start_time": "2023-11-01T20:35:46.264839",
     "status": "completed"
    },
    "tags": []
   },
   "outputs": [
    {
     "data": {
      "text/plain": [
       "5000"
      ]
     },
     "execution_count": 9,
     "metadata": {},
     "output_type": "execute_result"
    }
   ],
   "source": [
    "len(dataset)"
   ]
  },
  {
   "cell_type": "code",
   "execution_count": 10,
   "id": "691af4c9",
   "metadata": {
    "execution": {
     "iopub.execute_input": "2023-11-01T20:35:46.305625Z",
     "iopub.status.busy": "2023-11-01T20:35:46.305089Z",
     "iopub.status.idle": "2023-11-01T20:35:46.310544Z",
     "shell.execute_reply": "2023-11-01T20:35:46.309763Z"
    },
    "papermill": {
     "duration": 0.018254,
     "end_time": "2023-11-01T20:35:46.312355",
     "exception": false,
     "start_time": "2023-11-01T20:35:46.294101",
     "status": "completed"
    },
    "tags": []
   },
   "outputs": [
    {
     "data": {
      "text/plain": [
       "3500"
      ]
     },
     "execution_count": 10,
     "metadata": {},
     "output_type": "execute_result"
    }
   ],
   "source": [
    "len(train_dataset)"
   ]
  },
  {
   "cell_type": "code",
   "execution_count": 11,
   "id": "3d1e2cbd",
   "metadata": {
    "execution": {
     "iopub.execute_input": "2023-11-01T20:35:46.334191Z",
     "iopub.status.busy": "2023-11-01T20:35:46.333929Z",
     "iopub.status.idle": "2023-11-01T20:35:46.647070Z",
     "shell.execute_reply": "2023-11-01T20:35:46.646283Z"
    },
    "papermill": {
     "duration": 0.326806,
     "end_time": "2023-11-01T20:35:46.649489",
     "exception": false,
     "start_time": "2023-11-01T20:35:46.322683",
     "status": "completed"
    },
    "tags": []
   },
   "outputs": [
    {
     "data": {
      "text/plain": [
       "torch.Size([20, 3, 240, 240])"
      ]
     },
     "execution_count": 11,
     "metadata": {},
     "output_type": "execute_result"
    }
   ],
   "source": [
    "train_dataset.dataset[0][0].shape"
   ]
  },
  {
   "cell_type": "markdown",
   "id": "5366d0c2",
   "metadata": {
    "papermill": {
     "duration": 0.01022,
     "end_time": "2023-11-01T20:35:46.670884",
     "exception": false,
     "start_time": "2023-11-01T20:35:46.660664",
     "status": "completed"
    },
    "tags": []
   },
   "source": [
    "# Evaluate function"
   ]
  },
  {
   "cell_type": "code",
   "execution_count": 12,
   "id": "90732a80",
   "metadata": {
    "execution": {
     "iopub.execute_input": "2023-11-01T20:35:46.693059Z",
     "iopub.status.busy": "2023-11-01T20:35:46.692760Z",
     "iopub.status.idle": "2023-11-01T20:35:46.702035Z",
     "shell.execute_reply": "2023-11-01T20:35:46.701217Z"
    },
    "papermill": {
     "duration": 0.022452,
     "end_time": "2023-11-01T20:35:46.703921",
     "exception": false,
     "start_time": "2023-11-01T20:35:46.681469",
     "status": "completed"
    },
    "tags": []
   },
   "outputs": [],
   "source": [
    "def evaluate(model, val_data, loss_fn, weights = None, device = 'cpu', verbose = 0):\n",
    "    \n",
    "    if (device == 'gpu' or device == 'cuda') and torch.cuda.is_available():\n",
    "        device = torch.device('cuda')\n",
    "    elif isinstance(device, torch.device): \n",
    "        device = device\n",
    "    else: \n",
    "        device = torch.device('cpu')\n",
    "    \n",
    "    model = model.to(device)\n",
    "\n",
    "    if weights:\n",
    "        model.load_state_dict(torch.load(weights))\n",
    "    \n",
    "    with torch.no_grad():\n",
    "        model.eval()\n",
    "        val_correct = 0\n",
    "        val_total = len(val_data)*val_data.batch_size\n",
    "        running_loss = 0.\n",
    "        if verbose == 1:\n",
    "            val_data = tqdm(val_data, desc = 'Evaluate: ', ncols = 100)\n",
    "        for data_batch, label_batch in val_data:\n",
    "            \n",
    "            data_batch, label_batch = data_batch.to(device), label_batch.to(device)\n",
    "            output_batch = model(data_batch)\n",
    "            loss = loss_fn(output_batch, label_batch.long())\n",
    "            running_loss += loss.item()\n",
    "\n",
    "            _, predicted_labels = torch.max(output_batch.data, dim = 1)\n",
    "\n",
    "            val_correct += (label_batch == predicted_labels).sum().item()\n",
    "        val_loss = running_loss/len(val_data)\n",
    "        val_acc = val_correct/val_total\n",
    "        return val_loss, val_acc\n"
   ]
  },
  {
   "cell_type": "markdown",
   "id": "28be3fba",
   "metadata": {
    "papermill": {
     "duration": 0.010148,
     "end_time": "2023-11-01T20:35:46.724602",
     "exception": false,
     "start_time": "2023-11-01T20:35:46.714454",
     "status": "completed"
    },
    "tags": []
   },
   "source": [
    "# Train function"
   ]
  },
  {
   "cell_type": "code",
   "execution_count": 13,
   "id": "dc370b9b",
   "metadata": {
    "execution": {
     "iopub.execute_input": "2023-11-01T20:35:46.746875Z",
     "iopub.status.busy": "2023-11-01T20:35:46.746638Z",
     "iopub.status.idle": "2023-11-01T20:35:46.761931Z",
     "shell.execute_reply": "2023-11-01T20:35:46.761161Z"
    },
    "papermill": {
     "duration": 0.028759,
     "end_time": "2023-11-01T20:35:46.763766",
     "exception": false,
     "start_time": "2023-11-01T20:35:46.735007",
     "status": "completed"
    },
    "tags": []
   },
   "outputs": [],
   "source": [
    "def train(model, train_data, val_data, loss_fn, optimizer, epochs, save_last_weights_path = None,\n",
    "          save_best_weights_path = None, freeze = False, steps_per_epoch = None,\n",
    "          device = 'cpu', scheduler = None):\n",
    "\n",
    "    if (device == 'gpu' or device == 'cuda') and torch.cuda.is_available():\n",
    "        device = torch.device('cuda')\n",
    "    elif isinstance(device, torch.device): \n",
    "        device = device\n",
    "    else: \n",
    "        device = torch.device('cpu')        \n",
    "\n",
    "    if save_best_weights_path: \n",
    "        best_loss, _ = evaluate(model, val_data, device = device, loss_fn = loss_fn, verbose = 1)  \n",
    "\n",
    "    if steps_per_epoch is None: \n",
    "        steps_per_epoch = len(train_data)\n",
    "\n",
    "    num_steps = len(train_data)\n",
    "    iterator = iter(train_data)\n",
    "    count_steps = 1    \n",
    "    \n",
    "    ## History\n",
    "    history = {\n",
    "        'train_loss': [],\n",
    "        'train_acc': [],\n",
    "        'val_acc': [],\n",
    "        'val_loss': []\n",
    "    }\n",
    "        \n",
    "    # add model to device\n",
    "    model = model.to(device)\n",
    "    \n",
    "    ############################### Train and Val ##########################################\n",
    "    for epoch in range(1, epochs + 1):\n",
    "\n",
    "        running_loss = 0.\n",
    "        train_correct = 0\n",
    "        train_total = steps_per_epoch*train_data.batch_size\n",
    "        \n",
    "\n",
    "        model.train()\n",
    "        \n",
    "        for step in tqdm(range(steps_per_epoch), desc = f'epoch: {epoch}/{epochs}: ', ncols = 100): \n",
    "            \n",
    "            img_batch, label_batch = next(iterator)\n",
    "            img_batch, label_batch = img_batch.to(device), label_batch.to(device)\n",
    "            \n",
    "\n",
    "            optimizer.zero_grad()\n",
    "            \n",
    "\n",
    "            output_batch = model(img_batch)\n",
    "            \n",
    "\n",
    "            loss = loss_fn(output_batch, label_batch.long())\n",
    "            \n",
    "\n",
    "            loss.backward()\n",
    "            \n",
    "\n",
    "            optimizer.step()\n",
    "\n",
    "            _, predicted_labels = torch.max(output_batch.data, dim = 1)\n",
    "\n",
    "            train_correct += (label_batch == predicted_labels).sum().item()\n",
    "                \n",
    "\n",
    "            running_loss += loss.item()\n",
    "                \n",
    "            if count_steps == num_steps:\n",
    "                count_steps = 0\n",
    "                iterator = iter(train_data)\n",
    "            count_steps += 1\n",
    "        torch.cuda.empty_cache()\n",
    "    \n",
    "        train_loss = running_loss / steps_per_epoch\n",
    "        train_accuracy = train_correct/train_total\n",
    "        \n",
    "        if scheduler:\n",
    "            scheduler.step(train_loss)\n",
    "        \n",
    "        history['train_loss'].append(float(train_loss))\n",
    "        history['train_acc'].append(float(train_accuracy))\n",
    "        \n",
    "        if val_data is not None: \n",
    "            val_loss, val_acc = evaluate(model, val_data, device = device, loss_fn = loss_fn)\n",
    "            print(f'epoch: {epoch}, train_accuracy: {train_accuracy: .2f}, loss: {train_loss: .3f}, val_accuracy: {val_acc: .2f}, val_loss: {val_loss:.3f}')\n",
    "\n",
    "            if save_best_weights_path:\n",
    "                if val_loss < best_loss:\n",
    "                    best_loss = val_loss\n",
    "                    torch.save(model.state_dict(), save_best_weights_path)\n",
    "                    print(f'Saved successfully best weights to:', save_best_weights_path)\n",
    "            history['val_loss'].append(float(val_loss))\n",
    "            history['val_acc'].append(float(val_acc))\n",
    "        else:\n",
    "            print(f'epoch: {epoch}, train_accuracy: {train_accuracy: .2f}, loss: {train_loss: .3f}')\n",
    "    if save_last_weights_path:  \n",
    "        torch.save(model.state_dict(), save_last_weights_path)\n",
    "        print(f'Saved successfully last weights to:', save_last_weights_path)\n",
    "    return model, history\n"
   ]
  },
  {
   "cell_type": "markdown",
   "id": "3fdd3b69",
   "metadata": {
    "papermill": {
     "duration": 0.010139,
     "end_time": "2023-11-01T20:35:46.784355",
     "exception": false,
     "start_time": "2023-11-01T20:35:46.774216",
     "status": "completed"
    },
    "tags": []
   },
   "source": [
    "# Conv + LSTM \n",
    "<!-- ![](https://www.researchgate.net/publication/334729124/figure/fig2/AS:785436423241728@1564274044276/Conv-LSTM-neural-network-structure-is-composed-of-three-main-functional-layers.png) -->\n",
    "![](https://www.kaggle.com/code/muayad/ucf101/__results___files/__results___17_0.png)"
   ]
  },
  {
   "cell_type": "code",
   "execution_count": 14,
   "id": "ea9e3d26",
   "metadata": {
    "execution": {
     "iopub.execute_input": "2023-11-01T20:35:46.806186Z",
     "iopub.status.busy": "2023-11-01T20:35:46.805925Z",
     "iopub.status.idle": "2023-11-01T20:35:46.809868Z",
     "shell.execute_reply": "2023-11-01T20:35:46.809078Z"
    },
    "papermill": {
     "duration": 0.016892,
     "end_time": "2023-11-01T20:35:46.811656",
     "exception": false,
     "start_time": "2023-11-01T20:35:46.794764",
     "status": "completed"
    },
    "tags": []
   },
   "outputs": [],
   "source": [
    "def list_to_stack(xs):\n",
    "    xs=torch.stack(xs, dim=1)\n",
    "    return xs"
   ]
  },
  {
   "cell_type": "code",
   "execution_count": 15,
   "id": "360d9cfa",
   "metadata": {
    "execution": {
     "iopub.execute_input": "2023-11-01T20:35:46.833722Z",
     "iopub.status.busy": "2023-11-01T20:35:46.833467Z",
     "iopub.status.idle": "2023-11-01T20:35:46.838000Z",
     "shell.execute_reply": "2023-11-01T20:35:46.837258Z"
    },
    "papermill": {
     "duration": 0.017678,
     "end_time": "2023-11-01T20:35:46.839706",
     "exception": false,
     "start_time": "2023-11-01T20:35:46.822028",
     "status": "completed"
    },
    "tags": []
   },
   "outputs": [],
   "source": [
    "class LambdaLayer(nn.Module):\n",
    "    def __init__(self, lambd):\n",
    "        super(LambdaLayer, self).__init__()\n",
    "        self.lambd = lambd\n",
    "    def forward(self, x):\n",
    "        return self.lambd(x)"
   ]
  },
  {
   "cell_type": "code",
   "execution_count": 16,
   "id": "6b5ea0e2",
   "metadata": {
    "execution": {
     "iopub.execute_input": "2023-11-01T20:35:46.861673Z",
     "iopub.status.busy": "2023-11-01T20:35:46.861412Z",
     "iopub.status.idle": "2023-11-01T20:35:46.867387Z",
     "shell.execute_reply": "2023-11-01T20:35:46.866584Z"
    },
    "papermill": {
     "duration": 0.019044,
     "end_time": "2023-11-01T20:35:46.869156",
     "exception": false,
     "start_time": "2023-11-01T20:35:46.850112",
     "status": "completed"
    },
    "tags": []
   },
   "outputs": [],
   "source": [
    "# class ClassificationModel(nn.Module):\n",
    "#     def __init__(self, num_classes, num_parall_conv = 10, num_lstm_layers = 2):\n",
    "#         super().__init__()\n",
    "        \n",
    "#         self.conv_parall = []\n",
    "#         for slice_indx in range(0, num_parall_conv, 1):\n",
    "#             self.conv_parall.append(self.add_conv_layer(slice_indx))\n",
    "#         self.conv_parall = nn.Sequential(*self.conv_parall)\n",
    "# #         self.backbone = timm.create_model(backbone_name, pretrained = True, features_only = True)\n",
    "        \n",
    "#         target_shape=(10,32*48*50)\n",
    "#         self.target_shape = target_shape\n",
    "#         self.to_serial = nn.Sequential(LambdaLayer(list_to_stack), \n",
    "#                                  nn.Conv3d(in_channels=3, out_channels=30, kernel_size=3, padding='same'),\n",
    "#                                  nn.BatchNorm3d(num_features=30, momentum=0.8))\n",
    "        \n",
    "#         self.out = nn.Sequential(nn.Linear(in_features=100, out_features=50,bias=True), nn.Softmax())\n",
    "#         self.adap = nn.AdaptiveAvgPool2d((2,2))\n",
    "#         self.gru = nn.Sequential(nn.GRU(input_size=25, hidden_size=50, num_layers=2, dropout=0.5))\n",
    "#         self.fc = nn.Sequential(nn.Linear(in_features=300, out_features=100,bias=True), nn.ReLU())\n",
    "#         # self.lstm = nn.LSTM(2048, hidden_size, num_lstm_layers, batch_first = True)\n",
    "        \n",
    "# #         self.fc = nn.Linear(hidden_size, num_classes)\n",
    "    \n",
    "    \n",
    "#     def add_conv_layer(self, slice_indx):\n",
    "#         conv_layer = nn.Sequential(LambdaLayer(lambda x: x[:, slice_indx]), \n",
    "#                                     nn.Conv2d(in_channels=3,out_channels=20, kernel_size=3, padding='same'),\n",
    "#                                     nn.BatchNorm2d(num_features=20, momentum=0.8),\n",
    "#                                     nn.Conv2d(in_channels=20, out_channels=30, kernel_size=3, padding='same'),\n",
    "# #                                     nn.BatchNorm2d(num_features=240*240, momentum=0.8),\n",
    "#                                     nn.MaxPool2d(kernel_size=2),\n",
    "                                    \n",
    "#                                     nn.Conv2d(in_channels=30, out_channels=30, kernel_size=3, padding='same'),\n",
    "#                                     nn.BatchNorm2d(num_features=30, momentum=0.8),\n",
    "#                                     nn.MaxPool2d(kernel_size=2),\n",
    "#                                     nn.Conv2d(in_channels=30, out_channels=30, kernel_size=3, padding='same'),\n",
    "#                                    )\n",
    "#         return conv_layer\n",
    "    \n",
    "    \n",
    "#     def forward(self, x):\n",
    "#         'x: batch, num_frames, channels, height, width'\n",
    "#         batch, num_frames, channels, height, width = x.shape\n",
    "#         print(x.shape)\n",
    "        \n",
    "#         xs = []\n",
    "# #         x = torch.reshape(x, (-1, *x.shape[2:]))\n",
    "#         for i, conv in enumerate(self.conv_parall):\n",
    "#             xs.append(conv(x))\n",
    "#         x = torch.ToTensor(xs)\n",
    "# #         x = self.conv_parall(x)\n",
    "#         x = self.to_serial(x)\n",
    "#         x = torch.reshape(x, self.target_shape)\n",
    "#         x = self.gru(x)\n",
    "#         x = self.fc(x)\n",
    "# #         x1,x2,x3,x4,x5 = self.backbone(x)\n",
    "        \n",
    "# #         x = self.adap(x3)\n",
    "        \n",
    "# #         x = nn.Flatten()(x)\n",
    "        \n",
    "# #         x = torch.reshape(x, (batch, num_frames, -1))\n",
    "        \n",
    "# #         x, (h_n, c_n) = self.lstm(x)\n",
    "        \n",
    "# #         x = h_n[-1, ...]\n",
    "        \n",
    "# #         x = self.fc(x)\n",
    "#         return x"
   ]
  },
  {
   "cell_type": "code",
   "execution_count": 17,
   "id": "79f7f20c",
   "metadata": {
    "execution": {
     "iopub.execute_input": "2023-11-01T20:35:46.890875Z",
     "iopub.status.busy": "2023-11-01T20:35:46.890644Z",
     "iopub.status.idle": "2023-11-01T20:35:46.903211Z",
     "shell.execute_reply": "2023-11-01T20:35:46.902483Z"
    },
    "papermill": {
     "duration": 0.025481,
     "end_time": "2023-11-01T20:35:46.905055",
     "exception": false,
     "start_time": "2023-11-01T20:35:46.879574",
     "status": "completed"
    },
    "tags": []
   },
   "outputs": [],
   "source": [
    "import torch.nn.functional as F\n",
    "\n",
    "class ClassificationModel(nn.Module):\n",
    "    def __init__(self, n_conv=4, num_classes=10):\n",
    "        super(ClassificationModel, self).__init__()\n",
    "        self.conv_layers = nn.ModuleList()\n",
    "        self.n_conv = n_conv\n",
    "        for i in range(n_conv):\n",
    "            conv_layer = nn.Sequential(\n",
    "                LambdaLayer(lambda x: x[:, i]),\n",
    "                nn.Conv2d(3, 20, kernel_size=3, padding=1),\n",
    "                nn.BatchNorm2d(20, momentum=0.8),\n",
    "                nn.ReLU(),\n",
    "                nn.MaxPool2d(2),\n",
    "                nn.Conv2d(20, 30, kernel_size=3, padding=1),\n",
    "                nn.BatchNorm2d(30, momentum=0.8),\n",
    "                nn.ReLU(),\n",
    "                nn.MaxPool2d(2),\n",
    "                nn.Conv2d(30, 30, kernel_size=3, padding=1)\n",
    "            )\n",
    "            self.conv_layers.append(conv_layer)\n",
    "#                         self.conv_layers.append(module=conv_layer, name = f'conv2d {i}')\n",
    "\n",
    "        self.conv3d = nn.Conv3d(n_conv, 30, kernel_size=3, padding=1)\n",
    "        self.batchnorm = nn.BatchNorm3d(30, momentum=0.8)\n",
    "        self.gru1 = nn.GRU(30 * 30 * 60 * 60 , 25, batch_first=True, bidirectional=True)\n",
    "        self.gru2 = nn.GRU(50, 50, batch_first=True, bidirectional=True)\n",
    "        self.fc1 = nn.Linear(100, 100)\n",
    "        self.fc2 = nn.Linear(100, num_classes)\n",
    "    \n",
    "    def forward(self, x):\n",
    "        inp = torch.zeros(x.shape, device=device)\n",
    "        num_frames, batch, channels, height, width = x.shape\n",
    "\n",
    "        xs =[]\n",
    "#         print(num_frames, batch, channels, height, width)\n",
    "#         print(self.conv_layers[5])\n",
    "        for slice_indx in range(0, self.n_conv, 1):\n",
    "#             x_slice = LambdaLayer(lambda x: x[:, slice_indx])(inp)\n",
    "#             x_slice = x[:, slice_indx, :, :, :]\n",
    "            x_slice = self.conv_layers[slice_indx](x)\n",
    "            xs.append(x_slice)\n",
    "        \n",
    "        t = torch.stack(xs, dim=1)\n",
    "        t = self.conv3d(t)\n",
    "        t = self.batchnorm(t)\n",
    "        t = t.view(t.size(0), -1)\n",
    "#         return t\n",
    "        t, _ = self.gru1(t)\n",
    "        t, _ = self.gru2(t)\n",
    "        t = self.fc1(t)\n",
    "        out = self.fc2(t)\n",
    "        out = F.softmax(out, dim=1)\n",
    "        return out"
   ]
  },
  {
   "cell_type": "markdown",
   "id": "71e03719",
   "metadata": {
    "papermill": {
     "duration": 0.010088,
     "end_time": "2023-11-01T20:35:46.925522",
     "exception": false,
     "start_time": "2023-11-01T20:35:46.915434",
     "status": "completed"
    },
    "tags": []
   },
   "source": [
    "# Visualize history"
   ]
  },
  {
   "cell_type": "code",
   "execution_count": 18,
   "id": "cecd7682",
   "metadata": {
    "execution": {
     "iopub.execute_input": "2023-11-01T20:35:46.947639Z",
     "iopub.status.busy": "2023-11-01T20:35:46.947285Z",
     "iopub.status.idle": "2023-11-01T20:35:46.955936Z",
     "shell.execute_reply": "2023-11-01T20:35:46.955114Z"
    },
    "papermill": {
     "duration": 0.021717,
     "end_time": "2023-11-01T20:35:46.957805",
     "exception": false,
     "start_time": "2023-11-01T20:35:46.936088",
     "status": "completed"
    },
    "tags": []
   },
   "outputs": [],
   "source": [
    "def visualize_history(history, metrics = ['acc', 'loss']):   \n",
    "    \n",
    "    if 'acc' in metrics:\n",
    "        plt.figure(figsize = (10,6))\n",
    "        plt.subplot(121)\n",
    "        plt.plot(range(1, len(history['train_acc']) + 1), history['train_acc'], label = 'train_acc', c = 'r')\n",
    "        plt.plot(range(1, len(history['val_acc']) + 1), history['val_acc'], label = 'val_acc', c = 'g')\n",
    "        plt.title('Accuracy')\n",
    "        plt.xlabel('Epoch')\n",
    "        plt.ylabel('Accuracy')\n",
    "        plt.legend()\n",
    "\n",
    "    if 'loss' in metrics:\n",
    "        plt.subplot(122)\n",
    "        plt.plot(range(1, len(history['train_loss']) + 1), history['train_loss'], label = 'train_loss', c = 'r')\n",
    "        plt.plot(range(1, len(history['val_loss']) + 1), history['val_loss'], label = 'val_loss', c = 'g')\n",
    "        plt.title('Loss')\n",
    "        plt.xlabel('Epoch')\n",
    "        plt.ylabel('Loss')\n",
    "        plt.legend()"
   ]
  },
  {
   "cell_type": "markdown",
   "id": "7c3eff1a",
   "metadata": {
    "papermill": {
     "duration": 0.010274,
     "end_time": "2023-11-01T20:35:46.978466",
     "exception": false,
     "start_time": "2023-11-01T20:35:46.968192",
     "status": "completed"
    },
    "tags": []
   },
   "source": [
    "# Parameters"
   ]
  },
  {
   "cell_type": "code",
   "execution_count": 19,
   "id": "dfdfdaf6",
   "metadata": {
    "execution": {
     "iopub.execute_input": "2023-11-01T20:35:47.000464Z",
     "iopub.status.busy": "2023-11-01T20:35:47.000192Z",
     "iopub.status.idle": "2023-11-01T20:35:47.200150Z",
     "shell.execute_reply": "2023-11-01T20:35:47.199139Z"
    },
    "papermill": {
     "duration": 0.213544,
     "end_time": "2023-11-01T20:35:47.202641",
     "exception": false,
     "start_time": "2023-11-01T20:35:46.989097",
     "status": "completed"
    },
    "tags": []
   },
   "outputs": [],
   "source": [
    "# classesIdx = '/kaggle/input/ucf101/UCF101TrainTestSplits-RecognitionTask/ucfTrainTestlist/classInd.txt'\n",
    "# trainTest_dir = '/kaggle/input/ucf101/UCF101TrainTestSplits-RecognitionTask/ucfTrainTestlist'\n",
    "mode = 'train'\n",
    "last_weights = 'last_weights.pt'\n",
    "best_weights = 'best_weights.pt'\n",
    "\n",
    "num_classes = 50\n",
    "batch_size = 4\n",
    "num_frames = SEQUENCE_LENGTH\n",
    "device = 'cuda' if torch.cuda.is_available() else 'cpu'\n",
    "num_workers = os.cpu_count()\n",
    "data_entity_size = train_dataset.dataset[0][0].shape\n",
    "hidden_size = 128\n",
    "num_lstm_layers = 2"
   ]
  },
  {
   "cell_type": "markdown",
   "id": "25dd077e",
   "metadata": {
    "papermill": {
     "duration": 0.01049,
     "end_time": "2023-11-01T20:35:47.225384",
     "exception": false,
     "start_time": "2023-11-01T20:35:47.214894",
     "status": "completed"
    },
    "tags": []
   },
   "source": [
    "# Transform and train dataloader"
   ]
  },
  {
   "cell_type": "code",
   "execution_count": 20,
   "id": "d13ee671",
   "metadata": {
    "execution": {
     "iopub.execute_input": "2023-11-01T20:35:47.247450Z",
     "iopub.status.busy": "2023-11-01T20:35:47.247137Z",
     "iopub.status.idle": "2023-11-01T20:35:47.252242Z",
     "shell.execute_reply": "2023-11-01T20:35:47.251464Z"
    },
    "papermill": {
     "duration": 0.018601,
     "end_time": "2023-11-01T20:35:47.254382",
     "exception": false,
     "start_time": "2023-11-01T20:35:47.235781",
     "status": "completed"
    },
    "tags": []
   },
   "outputs": [],
   "source": [
    "train_dataloader = torch.utils.data.DataLoader(train_dataset, shuffle = True, batch_size = batch_size, drop_last = True, num_workers = num_workers)\n",
    "val_dataloader = torch.utils.data.DataLoader(val_dataset, shuffle = True, batch_size = batch_size, drop_last = True, num_workers = num_workers)"
   ]
  },
  {
   "cell_type": "markdown",
   "id": "dab53363",
   "metadata": {
    "papermill": {
     "duration": 0.010423,
     "end_time": "2023-11-01T20:35:47.275732",
     "exception": false,
     "start_time": "2023-11-01T20:35:47.265309",
     "status": "completed"
    },
    "tags": []
   },
   "source": [
    "# Create model"
   ]
  },
  {
   "cell_type": "code",
   "execution_count": 21,
   "id": "d5f7013b",
   "metadata": {
    "execution": {
     "iopub.execute_input": "2023-11-01T20:35:47.297513Z",
     "iopub.status.busy": "2023-11-01T20:35:47.297235Z",
     "iopub.status.idle": "2023-11-01T20:35:51.226639Z",
     "shell.execute_reply": "2023-11-01T20:35:51.225806Z"
    },
    "papermill": {
     "duration": 3.942937,
     "end_time": "2023-11-01T20:35:51.229092",
     "exception": false,
     "start_time": "2023-11-01T20:35:47.286155",
     "status": "completed"
    },
    "tags": []
   },
   "outputs": [],
   "source": [
    "torch.cuda.empty_cache()\n",
    "\n",
    "model = ClassificationModel(n_conv=4, num_classes=num_classes)"
   ]
  },
  {
   "cell_type": "code",
   "execution_count": 22,
   "id": "9da893ad",
   "metadata": {
    "execution": {
     "iopub.execute_input": "2023-11-01T20:35:51.252681Z",
     "iopub.status.busy": "2023-11-01T20:35:51.252378Z",
     "iopub.status.idle": "2023-11-01T20:35:51.256360Z",
     "shell.execute_reply": "2023-11-01T20:35:51.255470Z"
    },
    "papermill": {
     "duration": 0.017572,
     "end_time": "2023-11-01T20:35:51.258304",
     "exception": false,
     "start_time": "2023-11-01T20:35:51.240732",
     "status": "completed"
    },
    "tags": []
   },
   "outputs": [],
   "source": [
    "# !pip install torch-summary\n",
    "# !pip install torchviz"
   ]
  },
  {
   "cell_type": "code",
   "execution_count": 23,
   "id": "32dfa779",
   "metadata": {
    "execution": {
     "iopub.execute_input": "2023-11-01T20:35:51.281401Z",
     "iopub.status.busy": "2023-11-01T20:35:51.280910Z",
     "iopub.status.idle": "2023-11-01T20:35:51.284637Z",
     "shell.execute_reply": "2023-11-01T20:35:51.283770Z"
    },
    "papermill": {
     "duration": 0.016767,
     "end_time": "2023-11-01T20:35:51.286406",
     "exception": false,
     "start_time": "2023-11-01T20:35:51.269639",
     "status": "completed"
    },
    "tags": []
   },
   "outputs": [],
   "source": [
    "# from torchsummary import summary\n",
    "\n",
    "\n",
    "# torch.cuda.empty_cache()\n",
    "\n",
    "# summary(model, (batch_size, data_entity_size[1], data_entity_size[2], data_entity_size[3]))"
   ]
  },
  {
   "cell_type": "code",
   "execution_count": 24,
   "id": "8a1e08d1",
   "metadata": {
    "execution": {
     "iopub.execute_input": "2023-11-01T20:35:51.309228Z",
     "iopub.status.busy": "2023-11-01T20:35:51.308689Z",
     "iopub.status.idle": "2023-11-01T20:35:51.313833Z",
     "shell.execute_reply": "2023-11-01T20:35:51.313080Z"
    },
    "papermill": {
     "duration": 0.018648,
     "end_time": "2023-11-01T20:35:51.315612",
     "exception": false,
     "start_time": "2023-11-01T20:35:51.296964",
     "status": "completed"
    },
    "tags": []
   },
   "outputs": [],
   "source": [
    "loss_fn = nn.CrossEntropyLoss()\n",
    "optimizer = torch.optim.Adam(model.parameters(), lr = 1e-4)\n",
    "scheduler = torch.optim.lr_scheduler.ReduceLROnPlateau(optimizer, factor = 0.1, mode = 'min', patience = 3, verbose = 1)"
   ]
  },
  {
   "cell_type": "code",
   "execution_count": 25,
   "id": "261e6648",
   "metadata": {
    "execution": {
     "iopub.execute_input": "2023-11-01T20:35:51.337155Z",
     "iopub.status.busy": "2023-11-01T20:35:51.336917Z",
     "iopub.status.idle": "2023-11-01T20:35:51.341312Z",
     "shell.execute_reply": "2023-11-01T20:35:51.340673Z"
    },
    "papermill": {
     "duration": 0.017097,
     "end_time": "2023-11-01T20:35:51.343056",
     "exception": false,
     "start_time": "2023-11-01T20:35:51.325959",
     "status": "completed"
    },
    "tags": []
   },
   "outputs": [],
   "source": [
    "# img_batch, label_batch =  next(iter(train_dataloader))\n",
    "# torch.cuda.empty_cache()\n",
    "\n",
    "# torch.onnx.export(model.to(device), img_batch.to(device), 'iris.onnx', input_names=[\"features\"], output_names=[\"classes\"])"
   ]
  },
  {
   "cell_type": "code",
   "execution_count": 26,
   "id": "c9e0d083",
   "metadata": {
    "execution": {
     "iopub.execute_input": "2023-11-01T20:35:51.365032Z",
     "iopub.status.busy": "2023-11-01T20:35:51.364799Z",
     "iopub.status.idle": "2023-11-01T20:35:51.368639Z",
     "shell.execute_reply": "2023-11-01T20:35:51.367815Z"
    },
    "papermill": {
     "duration": 0.016949,
     "end_time": "2023-11-01T20:35:51.370494",
     "exception": false,
     "start_time": "2023-11-01T20:35:51.353545",
     "status": "completed"
    },
    "tags": []
   },
   "outputs": [],
   "source": [
    "# from torchviz import make_dot\n",
    "\n",
    "# # train_dataloader.\n",
    "# # batch = iter(train_dataloader)\n",
    "# # print(batch)\n",
    "\n",
    "# torch.cuda.empty_cache()\n",
    "\n",
    "# img_batch, label_batch =  next(iter(train_dataloader))\n",
    "# yhat = model(img_batch.to(device)) # Give dummy batch to forward().\n",
    "\n",
    "# # yhat = model(train_dataloader.__getitem__(0).to(device)) # Give dummy batch to forward().\n",
    "\n",
    "# # yhat = model(train_dataset.dataset.to(device)) # Give dummy batch to forward().\n",
    "\n",
    "# make_dot(yhat, params=dict(list(model.named_parameters()))).render(\"rnn_torchviz\", format=\"png\")"
   ]
  },
  {
   "cell_type": "markdown",
   "id": "2cac980b",
   "metadata": {
    "papermill": {
     "duration": 0.01031,
     "end_time": "2023-11-01T20:35:51.391521",
     "exception": false,
     "start_time": "2023-11-01T20:35:51.381211",
     "status": "completed"
    },
    "tags": []
   },
   "source": [
    "# Train model"
   ]
  },
  {
   "cell_type": "code",
   "execution_count": 27,
   "id": "4f2fcdae",
   "metadata": {
    "execution": {
     "iopub.execute_input": "2023-11-01T20:35:51.413979Z",
     "iopub.status.busy": "2023-11-01T20:35:51.413706Z",
     "iopub.status.idle": "2023-11-02T01:34:44.692084Z",
     "shell.execute_reply": "2023-11-02T01:34:44.690942Z"
    },
    "papermill": {
     "duration": 17936.597886,
     "end_time": "2023-11-02T01:34:47.999988",
     "exception": false,
     "start_time": "2023-11-01T20:35:51.402102",
     "status": "completed"
    },
    "tags": []
   },
   "outputs": [
    {
     "name": "stderr",
     "output_type": "stream",
     "text": [
      "Evaluate: 100%|███████████████████████████████████████████████████| 250/250 [01:10<00:00,  3.53it/s]\n",
      "epoch: 1/50: 100%|████████████████████████████████████████████████| 875/875 [04:44<00:00,  3.08it/s]\n"
     ]
    },
    {
     "name": "stdout",
     "output_type": "stream",
     "text": [
      "epoch: 1, train_accuracy:  0.02, loss:  3.912, val_accuracy:  0.03, val_loss: 3.912\n",
      "Saved successfully best weights to: best_weights.pt\n"
     ]
    },
    {
     "name": "stderr",
     "output_type": "stream",
     "text": [
      "epoch: 2/50: 100%|████████████████████████████████████████████████| 875/875 [04:41<00:00,  3.11it/s]\n"
     ]
    },
    {
     "name": "stdout",
     "output_type": "stream",
     "text": [
      "epoch: 2, train_accuracy:  0.03, loss:  3.912, val_accuracy:  0.03, val_loss: 3.912\n",
      "Saved successfully best weights to: best_weights.pt\n"
     ]
    },
    {
     "name": "stderr",
     "output_type": "stream",
     "text": [
      "epoch: 3/50: 100%|████████████████████████████████████████████████| 875/875 [04:41<00:00,  3.11it/s]\n"
     ]
    },
    {
     "name": "stdout",
     "output_type": "stream",
     "text": [
      "epoch: 3, train_accuracy:  0.02, loss:  3.911, val_accuracy:  0.03, val_loss: 3.912\n",
      "Saved successfully best weights to: best_weights.pt\n"
     ]
    },
    {
     "name": "stderr",
     "output_type": "stream",
     "text": [
      "epoch: 4/50: 100%|████████████████████████████████████████████████| 875/875 [04:39<00:00,  3.13it/s]\n"
     ]
    },
    {
     "name": "stdout",
     "output_type": "stream",
     "text": [
      "epoch: 4, train_accuracy:  0.02, loss:  3.911, val_accuracy:  0.03, val_loss: 3.912\n"
     ]
    },
    {
     "name": "stderr",
     "output_type": "stream",
     "text": [
      "epoch: 5/50: 100%|████████████████████████████████████████████████| 875/875 [04:40<00:00,  3.12it/s]\n"
     ]
    },
    {
     "name": "stdout",
     "output_type": "stream",
     "text": [
      "epoch: 5, train_accuracy:  0.03, loss:  3.911, val_accuracy:  0.03, val_loss: 3.911\n",
      "Saved successfully best weights to: best_weights.pt\n"
     ]
    },
    {
     "name": "stderr",
     "output_type": "stream",
     "text": [
      "epoch: 6/50: 100%|████████████████████████████████████████████████| 875/875 [04:38<00:00,  3.14it/s]\n"
     ]
    },
    {
     "name": "stdout",
     "output_type": "stream",
     "text": [
      "epoch: 6, train_accuracy:  0.03, loss:  3.910, val_accuracy:  0.02, val_loss: 3.911\n",
      "Saved successfully best weights to: best_weights.pt\n"
     ]
    },
    {
     "name": "stderr",
     "output_type": "stream",
     "text": [
      "epoch: 7/50: 100%|████████████████████████████████████████████████| 875/875 [04:39<00:00,  3.13it/s]\n"
     ]
    },
    {
     "name": "stdout",
     "output_type": "stream",
     "text": [
      "epoch: 7, train_accuracy:  0.02, loss:  3.910, val_accuracy:  0.03, val_loss: 3.911\n"
     ]
    },
    {
     "name": "stderr",
     "output_type": "stream",
     "text": [
      "epoch: 8/50: 100%|████████████████████████████████████████████████| 875/875 [04:41<00:00,  3.10it/s]\n"
     ]
    },
    {
     "name": "stdout",
     "output_type": "stream",
     "text": [
      "epoch: 8, train_accuracy:  0.02, loss:  3.910, val_accuracy:  0.03, val_loss: 3.911\n"
     ]
    },
    {
     "name": "stderr",
     "output_type": "stream",
     "text": [
      "epoch: 9/50: 100%|████████████████████████████████████████████████| 875/875 [04:40<00:00,  3.12it/s]\n"
     ]
    },
    {
     "name": "stdout",
     "output_type": "stream",
     "text": [
      "epoch: 9, train_accuracy:  0.03, loss:  3.910, val_accuracy:  0.03, val_loss: 3.911\n",
      "Saved successfully best weights to: best_weights.pt\n"
     ]
    },
    {
     "name": "stderr",
     "output_type": "stream",
     "text": [
      "epoch: 10/50: 100%|███████████████████████████████████████████████| 875/875 [04:40<00:00,  3.12it/s]\n"
     ]
    },
    {
     "name": "stdout",
     "output_type": "stream",
     "text": [
      "epoch: 10, train_accuracy:  0.03, loss:  3.910, val_accuracy:  0.03, val_loss: 3.911\n"
     ]
    },
    {
     "name": "stderr",
     "output_type": "stream",
     "text": [
      "epoch: 11/50: 100%|███████████████████████████████████████████████| 875/875 [04:42<00:00,  3.10it/s]"
     ]
    },
    {
     "name": "stdout",
     "output_type": "stream",
     "text": [
      "Epoch 00011: reducing learning rate of group 0 to 1.0000e-05.\n"
     ]
    },
    {
     "name": "stderr",
     "output_type": "stream",
     "text": [
      "\n"
     ]
    },
    {
     "name": "stdout",
     "output_type": "stream",
     "text": [
      "epoch: 11, train_accuracy:  0.03, loss:  3.910, val_accuracy:  0.03, val_loss: 3.912\n"
     ]
    },
    {
     "name": "stderr",
     "output_type": "stream",
     "text": [
      "epoch: 12/50: 100%|███████████████████████████████████████████████| 875/875 [04:40<00:00,  3.12it/s]\n"
     ]
    },
    {
     "name": "stdout",
     "output_type": "stream",
     "text": [
      "epoch: 12, train_accuracy:  0.03, loss:  3.911, val_accuracy:  0.03, val_loss: 3.912\n"
     ]
    },
    {
     "name": "stderr",
     "output_type": "stream",
     "text": [
      "epoch: 13/50: 100%|███████████████████████████████████████████████| 875/875 [04:41<00:00,  3.11it/s]\n"
     ]
    },
    {
     "name": "stdout",
     "output_type": "stream",
     "text": [
      "epoch: 13, train_accuracy:  0.03, loss:  3.911, val_accuracy:  0.03, val_loss: 3.912\n"
     ]
    },
    {
     "name": "stderr",
     "output_type": "stream",
     "text": [
      "epoch: 14/50: 100%|███████████████████████████████████████████████| 875/875 [04:42<00:00,  3.10it/s]\n"
     ]
    },
    {
     "name": "stdout",
     "output_type": "stream",
     "text": [
      "epoch: 14, train_accuracy:  0.03, loss:  3.911, val_accuracy:  0.03, val_loss: 3.912\n"
     ]
    },
    {
     "name": "stderr",
     "output_type": "stream",
     "text": [
      "epoch: 15/50: 100%|███████████████████████████████████████████████| 875/875 [04:44<00:00,  3.07it/s]"
     ]
    },
    {
     "name": "stdout",
     "output_type": "stream",
     "text": [
      "Epoch 00015: reducing learning rate of group 0 to 1.0000e-06.\n"
     ]
    },
    {
     "name": "stderr",
     "output_type": "stream",
     "text": [
      "\n"
     ]
    },
    {
     "name": "stdout",
     "output_type": "stream",
     "text": [
      "epoch: 15, train_accuracy:  0.03, loss:  3.911, val_accuracy:  0.03, val_loss: 3.912\n"
     ]
    },
    {
     "name": "stderr",
     "output_type": "stream",
     "text": [
      "epoch: 16/50: 100%|███████████████████████████████████████████████| 875/875 [04:45<00:00,  3.07it/s]\n"
     ]
    },
    {
     "name": "stdout",
     "output_type": "stream",
     "text": [
      "epoch: 16, train_accuracy:  0.03, loss:  3.911, val_accuracy:  0.03, val_loss: 3.912\n"
     ]
    },
    {
     "name": "stderr",
     "output_type": "stream",
     "text": [
      "epoch: 17/50: 100%|███████████████████████████████████████████████| 875/875 [04:46<00:00,  3.05it/s]\n"
     ]
    },
    {
     "name": "stdout",
     "output_type": "stream",
     "text": [
      "epoch: 17, train_accuracy:  0.03, loss:  3.911, val_accuracy:  0.03, val_loss: 3.912\n"
     ]
    },
    {
     "name": "stderr",
     "output_type": "stream",
     "text": [
      "epoch: 18/50: 100%|███████████████████████████████████████████████| 875/875 [04:44<00:00,  3.08it/s]\n"
     ]
    },
    {
     "name": "stdout",
     "output_type": "stream",
     "text": [
      "epoch: 18, train_accuracy:  0.03, loss:  3.911, val_accuracy:  0.03, val_loss: 3.912\n"
     ]
    },
    {
     "name": "stderr",
     "output_type": "stream",
     "text": [
      "epoch: 19/50: 100%|███████████████████████████████████████████████| 875/875 [04:43<00:00,  3.09it/s]"
     ]
    },
    {
     "name": "stdout",
     "output_type": "stream",
     "text": [
      "Epoch 00019: reducing learning rate of group 0 to 1.0000e-07.\n"
     ]
    },
    {
     "name": "stderr",
     "output_type": "stream",
     "text": [
      "\n"
     ]
    },
    {
     "name": "stdout",
     "output_type": "stream",
     "text": [
      "epoch: 19, train_accuracy:  0.03, loss:  3.911, val_accuracy:  0.03, val_loss: 3.912\n"
     ]
    },
    {
     "name": "stderr",
     "output_type": "stream",
     "text": [
      "epoch: 20/50: 100%|███████████████████████████████████████████████| 875/875 [04:46<00:00,  3.06it/s]\n"
     ]
    },
    {
     "name": "stdout",
     "output_type": "stream",
     "text": [
      "epoch: 20, train_accuracy:  0.03, loss:  3.911, val_accuracy:  0.03, val_loss: 3.912\n"
     ]
    },
    {
     "name": "stderr",
     "output_type": "stream",
     "text": [
      "epoch: 21/50: 100%|███████████████████████████████████████████████| 875/875 [04:44<00:00,  3.08it/s]\n"
     ]
    },
    {
     "name": "stdout",
     "output_type": "stream",
     "text": [
      "epoch: 21, train_accuracy:  0.03, loss:  3.911, val_accuracy:  0.03, val_loss: 3.912\n"
     ]
    },
    {
     "name": "stderr",
     "output_type": "stream",
     "text": [
      "epoch: 22/50: 100%|███████████████████████████████████████████████| 875/875 [04:46<00:00,  3.05it/s]\n"
     ]
    },
    {
     "name": "stdout",
     "output_type": "stream",
     "text": [
      "epoch: 22, train_accuracy:  0.03, loss:  3.911, val_accuracy:  0.03, val_loss: 3.912\n"
     ]
    },
    {
     "name": "stderr",
     "output_type": "stream",
     "text": [
      "epoch: 23/50: 100%|███████████████████████████████████████████████| 875/875 [04:47<00:00,  3.04it/s]"
     ]
    },
    {
     "name": "stdout",
     "output_type": "stream",
     "text": [
      "Epoch 00023: reducing learning rate of group 0 to 1.0000e-08.\n"
     ]
    },
    {
     "name": "stderr",
     "output_type": "stream",
     "text": [
      "\n"
     ]
    },
    {
     "name": "stdout",
     "output_type": "stream",
     "text": [
      "epoch: 23, train_accuracy:  0.03, loss:  3.911, val_accuracy:  0.03, val_loss: 3.912\n"
     ]
    },
    {
     "name": "stderr",
     "output_type": "stream",
     "text": [
      "epoch: 24/50: 100%|███████████████████████████████████████████████| 875/875 [04:47<00:00,  3.04it/s]\n"
     ]
    },
    {
     "name": "stdout",
     "output_type": "stream",
     "text": [
      "epoch: 24, train_accuracy:  0.03, loss:  3.911, val_accuracy:  0.03, val_loss: 3.912\n"
     ]
    },
    {
     "name": "stderr",
     "output_type": "stream",
     "text": [
      "epoch: 25/50: 100%|███████████████████████████████████████████████| 875/875 [04:44<00:00,  3.07it/s]\n"
     ]
    },
    {
     "name": "stdout",
     "output_type": "stream",
     "text": [
      "epoch: 25, train_accuracy:  0.03, loss:  3.911, val_accuracy:  0.03, val_loss: 3.912\n"
     ]
    },
    {
     "name": "stderr",
     "output_type": "stream",
     "text": [
      "epoch: 26/50: 100%|███████████████████████████████████████████████| 875/875 [04:45<00:00,  3.06it/s]\n"
     ]
    },
    {
     "name": "stdout",
     "output_type": "stream",
     "text": [
      "epoch: 26, train_accuracy:  0.03, loss:  3.911, val_accuracy:  0.03, val_loss: 3.912\n"
     ]
    },
    {
     "name": "stderr",
     "output_type": "stream",
     "text": [
      "epoch: 27/50: 100%|███████████████████████████████████████████████| 875/875 [04:45<00:00,  3.06it/s]\n"
     ]
    },
    {
     "name": "stdout",
     "output_type": "stream",
     "text": [
      "epoch: 27, train_accuracy:  0.03, loss:  3.911, val_accuracy:  0.03, val_loss: 3.912\n"
     ]
    },
    {
     "name": "stderr",
     "output_type": "stream",
     "text": [
      "epoch: 28/50: 100%|███████████████████████████████████████████████| 875/875 [04:45<00:00,  3.06it/s]\n"
     ]
    },
    {
     "name": "stdout",
     "output_type": "stream",
     "text": [
      "epoch: 28, train_accuracy:  0.03, loss:  3.911, val_accuracy:  0.03, val_loss: 3.912\n"
     ]
    },
    {
     "name": "stderr",
     "output_type": "stream",
     "text": [
      "epoch: 29/50: 100%|███████████████████████████████████████████████| 875/875 [04:47<00:00,  3.05it/s]\n"
     ]
    },
    {
     "name": "stdout",
     "output_type": "stream",
     "text": [
      "epoch: 29, train_accuracy:  0.03, loss:  3.911, val_accuracy:  0.03, val_loss: 3.912\n"
     ]
    },
    {
     "name": "stderr",
     "output_type": "stream",
     "text": [
      "epoch: 30/50: 100%|███████████████████████████████████████████████| 875/875 [04:45<00:00,  3.07it/s]\n"
     ]
    },
    {
     "name": "stdout",
     "output_type": "stream",
     "text": [
      "epoch: 30, train_accuracy:  0.03, loss:  3.911, val_accuracy:  0.03, val_loss: 3.912\n"
     ]
    },
    {
     "name": "stderr",
     "output_type": "stream",
     "text": [
      "epoch: 31/50: 100%|███████████████████████████████████████████████| 875/875 [04:44<00:00,  3.07it/s]\n"
     ]
    },
    {
     "name": "stdout",
     "output_type": "stream",
     "text": [
      "epoch: 31, train_accuracy:  0.03, loss:  3.911, val_accuracy:  0.03, val_loss: 3.912\n"
     ]
    },
    {
     "name": "stderr",
     "output_type": "stream",
     "text": [
      "epoch: 32/50: 100%|███████████████████████████████████████████████| 875/875 [04:45<00:00,  3.07it/s]\n"
     ]
    },
    {
     "name": "stdout",
     "output_type": "stream",
     "text": [
      "epoch: 32, train_accuracy:  0.03, loss:  3.911, val_accuracy:  0.03, val_loss: 3.912\n"
     ]
    },
    {
     "name": "stderr",
     "output_type": "stream",
     "text": [
      "epoch: 33/50: 100%|███████████████████████████████████████████████| 875/875 [04:44<00:00,  3.07it/s]\n"
     ]
    },
    {
     "name": "stdout",
     "output_type": "stream",
     "text": [
      "epoch: 33, train_accuracy:  0.03, loss:  3.911, val_accuracy:  0.03, val_loss: 3.912\n"
     ]
    },
    {
     "name": "stderr",
     "output_type": "stream",
     "text": [
      "epoch: 34/50: 100%|███████████████████████████████████████████████| 875/875 [04:47<00:00,  3.05it/s]\n"
     ]
    },
    {
     "name": "stdout",
     "output_type": "stream",
     "text": [
      "epoch: 34, train_accuracy:  0.03, loss:  3.911, val_accuracy:  0.03, val_loss: 3.912\n"
     ]
    },
    {
     "name": "stderr",
     "output_type": "stream",
     "text": [
      "epoch: 35/50: 100%|███████████████████████████████████████████████| 875/875 [04:44<00:00,  3.07it/s]\n"
     ]
    },
    {
     "name": "stdout",
     "output_type": "stream",
     "text": [
      "epoch: 35, train_accuracy:  0.03, loss:  3.911, val_accuracy:  0.03, val_loss: 3.912\n"
     ]
    },
    {
     "name": "stderr",
     "output_type": "stream",
     "text": [
      "epoch: 36/50: 100%|███████████████████████████████████████████████| 875/875 [04:45<00:00,  3.07it/s]\n"
     ]
    },
    {
     "name": "stdout",
     "output_type": "stream",
     "text": [
      "epoch: 36, train_accuracy:  0.03, loss:  3.911, val_accuracy:  0.03, val_loss: 3.912\n"
     ]
    },
    {
     "name": "stderr",
     "output_type": "stream",
     "text": [
      "epoch: 37/50: 100%|███████████████████████████████████████████████| 875/875 [04:45<00:00,  3.07it/s]\n"
     ]
    },
    {
     "name": "stdout",
     "output_type": "stream",
     "text": [
      "epoch: 37, train_accuracy:  0.03, loss:  3.911, val_accuracy:  0.03, val_loss: 3.912\n"
     ]
    },
    {
     "name": "stderr",
     "output_type": "stream",
     "text": [
      "epoch: 38/50: 100%|███████████████████████████████████████████████| 875/875 [04:46<00:00,  3.05it/s]\n"
     ]
    },
    {
     "name": "stdout",
     "output_type": "stream",
     "text": [
      "epoch: 38, train_accuracy:  0.03, loss:  3.911, val_accuracy:  0.03, val_loss: 3.912\n"
     ]
    },
    {
     "name": "stderr",
     "output_type": "stream",
     "text": [
      "epoch: 39/50: 100%|███████████████████████████████████████████████| 875/875 [04:47<00:00,  3.05it/s]\n"
     ]
    },
    {
     "name": "stdout",
     "output_type": "stream",
     "text": [
      "epoch: 39, train_accuracy:  0.03, loss:  3.911, val_accuracy:  0.03, val_loss: 3.912\n"
     ]
    },
    {
     "name": "stderr",
     "output_type": "stream",
     "text": [
      "epoch: 40/50: 100%|███████████████████████████████████████████████| 875/875 [04:45<00:00,  3.06it/s]\n"
     ]
    },
    {
     "name": "stdout",
     "output_type": "stream",
     "text": [
      "epoch: 40, train_accuracy:  0.03, loss:  3.911, val_accuracy:  0.03, val_loss: 3.912\n"
     ]
    },
    {
     "name": "stderr",
     "output_type": "stream",
     "text": [
      "epoch: 41/50: 100%|███████████████████████████████████████████████| 875/875 [04:44<00:00,  3.07it/s]\n"
     ]
    },
    {
     "name": "stdout",
     "output_type": "stream",
     "text": [
      "epoch: 41, train_accuracy:  0.03, loss:  3.911, val_accuracy:  0.03, val_loss: 3.912\n"
     ]
    },
    {
     "name": "stderr",
     "output_type": "stream",
     "text": [
      "epoch: 42/50: 100%|███████████████████████████████████████████████| 875/875 [04:44<00:00,  3.07it/s]\n"
     ]
    },
    {
     "name": "stdout",
     "output_type": "stream",
     "text": [
      "epoch: 42, train_accuracy:  0.03, loss:  3.911, val_accuracy:  0.03, val_loss: 3.912\n"
     ]
    },
    {
     "name": "stderr",
     "output_type": "stream",
     "text": [
      "epoch: 43/50: 100%|███████████████████████████████████████████████| 875/875 [04:43<00:00,  3.09it/s]\n"
     ]
    },
    {
     "name": "stdout",
     "output_type": "stream",
     "text": [
      "epoch: 43, train_accuracy:  0.03, loss:  3.911, val_accuracy:  0.03, val_loss: 3.912\n"
     ]
    },
    {
     "name": "stderr",
     "output_type": "stream",
     "text": [
      "epoch: 44/50: 100%|███████████████████████████████████████████████| 875/875 [04:49<00:00,  3.03it/s]\n"
     ]
    },
    {
     "name": "stdout",
     "output_type": "stream",
     "text": [
      "epoch: 44, train_accuracy:  0.03, loss:  3.911, val_accuracy:  0.03, val_loss: 3.912\n"
     ]
    },
    {
     "name": "stderr",
     "output_type": "stream",
     "text": [
      "epoch: 45/50: 100%|███████████████████████████████████████████████| 875/875 [04:46<00:00,  3.06it/s]\n"
     ]
    },
    {
     "name": "stdout",
     "output_type": "stream",
     "text": [
      "epoch: 45, train_accuracy:  0.03, loss:  3.911, val_accuracy:  0.03, val_loss: 3.912\n"
     ]
    },
    {
     "name": "stderr",
     "output_type": "stream",
     "text": [
      "epoch: 46/50: 100%|███████████████████████████████████████████████| 875/875 [04:45<00:00,  3.07it/s]\n"
     ]
    },
    {
     "name": "stdout",
     "output_type": "stream",
     "text": [
      "epoch: 46, train_accuracy:  0.03, loss:  3.911, val_accuracy:  0.03, val_loss: 3.912\n"
     ]
    },
    {
     "name": "stderr",
     "output_type": "stream",
     "text": [
      "epoch: 47/50: 100%|███████████████████████████████████████████████| 875/875 [04:44<00:00,  3.08it/s]\n"
     ]
    },
    {
     "name": "stdout",
     "output_type": "stream",
     "text": [
      "epoch: 47, train_accuracy:  0.03, loss:  3.911, val_accuracy:  0.03, val_loss: 3.912\n"
     ]
    },
    {
     "name": "stderr",
     "output_type": "stream",
     "text": [
      "epoch: 48/50: 100%|███████████████████████████████████████████████| 875/875 [04:45<00:00,  3.07it/s]\n"
     ]
    },
    {
     "name": "stdout",
     "output_type": "stream",
     "text": [
      "epoch: 48, train_accuracy:  0.03, loss:  3.911, val_accuracy:  0.03, val_loss: 3.912\n"
     ]
    },
    {
     "name": "stderr",
     "output_type": "stream",
     "text": [
      "epoch: 49/50: 100%|███████████████████████████████████████████████| 875/875 [04:43<00:00,  3.09it/s]\n"
     ]
    },
    {
     "name": "stdout",
     "output_type": "stream",
     "text": [
      "epoch: 49, train_accuracy:  0.03, loss:  3.911, val_accuracy:  0.03, val_loss: 3.912\n"
     ]
    },
    {
     "name": "stderr",
     "output_type": "stream",
     "text": [
      "epoch: 50/50: 100%|███████████████████████████████████████████████| 875/875 [04:43<00:00,  3.08it/s]\n"
     ]
    },
    {
     "name": "stdout",
     "output_type": "stream",
     "text": [
      "epoch: 50, train_accuracy:  0.03, loss:  3.911, val_accuracy:  0.03, val_loss: 3.912\n",
      "Saved successfully last weights to: last_weights.pt\n"
     ]
    }
   ],
   "source": [
    "torch.cuda.empty_cache()\n",
    "\n",
    "model, history = train(model, train_dataloader, val_dataloader, loss_fn, optimizer, epochs = 50,\n",
    "              save_last_weights_path = last_weights, save_best_weights_path = best_weights,\n",
    "              device = device, scheduler = scheduler)"
   ]
  },
  {
   "cell_type": "code",
   "execution_count": 28,
   "id": "47c7a3a2",
   "metadata": {
    "execution": {
     "iopub.execute_input": "2023-11-02T01:34:55.008423Z",
     "iopub.status.busy": "2023-11-02T01:34:55.007476Z",
     "iopub.status.idle": "2023-11-02T01:34:55.612267Z",
     "shell.execute_reply": "2023-11-02T01:34:55.611389Z"
    },
    "papermill": {
     "duration": 3.972251,
     "end_time": "2023-11-02T01:34:55.614725",
     "exception": false,
     "start_time": "2023-11-02T01:34:51.642474",
     "status": "completed"
    },
    "tags": []
   },
   "outputs": [
    {
     "data": {
      "image/png": "[encoded data removed]",
      "text/plain": [
       "<Figure size 1000x600 with 2 Axes>"
      ]
     },
     "metadata": {},
     "output_type": "display_data"
    }
   ],
   "source": [
    "visualize_history(history)"
   ]
  },
  {
   "cell_type": "markdown",
   "id": "6dafac9f",
   "metadata": {
    "papermill": {
     "duration": 3.815485,
     "end_time": "2023-11-02T01:35:02.958104",
     "exception": false,
     "start_time": "2023-11-02T01:34:59.142619",
     "status": "completed"
    },
    "tags": []
   },
   "source": [
    "# Transform and test data loader"
   ]
  },
  {
   "cell_type": "code",
   "execution_count": 29,
   "id": "131ebb6f",
   "metadata": {
    "execution": {
     "iopub.execute_input": "2023-11-02T01:35:09.943048Z",
     "iopub.status.busy": "2023-11-02T01:35:09.942699Z",
     "iopub.status.idle": "2023-11-02T01:35:09.947484Z",
     "shell.execute_reply": "2023-11-02T01:35:09.946573Z"
    },
    "papermill": {
     "duration": 3.535048,
     "end_time": "2023-11-02T01:35:09.949587",
     "exception": false,
     "start_time": "2023-11-02T01:35:06.414539",
     "status": "completed"
    },
    "tags": []
   },
   "outputs": [],
   "source": [
    "test_dataloader = torch.utils.data.DataLoader(test_dataset, batch_size = batch_size, drop_last = True, num_workers = num_workers)"
   ]
  },
  {
   "cell_type": "markdown",
   "id": "e5ba3616",
   "metadata": {
    "papermill": {
     "duration": 3.421058,
     "end_time": "2023-11-02T01:35:16.981290",
     "exception": false,
     "start_time": "2023-11-02T01:35:13.560232",
     "status": "completed"
    },
    "tags": []
   },
   "source": [
    "# Test Model"
   ]
  },
  {
   "cell_type": "code",
   "execution_count": 30,
   "id": "72e5c036",
   "metadata": {
    "execution": {
     "iopub.execute_input": "2023-11-02T01:35:24.049405Z",
     "iopub.status.busy": "2023-11-02T01:35:24.049036Z",
     "iopub.status.idle": "2023-11-02T01:36:02.025716Z",
     "shell.execute_reply": "2023-11-02T01:36:02.024485Z"
    },
    "papermill": {
     "duration": 41.557613,
     "end_time": "2023-11-02T01:36:02.027922",
     "exception": false,
     "start_time": "2023-11-02T01:35:20.470309",
     "status": "completed"
    },
    "tags": []
   },
   "outputs": [
    {
     "name": "stderr",
     "output_type": "stream",
     "text": [
      "Evaluate: 100%|███████████████████████████████████████████████████| 125/125 [00:36<00:00,  3.44it/s]"
     ]
    },
    {
     "name": "stdout",
     "output_type": "stream",
     "text": [
      "Loss:  3.913, Acc:  0.020\n"
     ]
    },
    {
     "name": "stderr",
     "output_type": "stream",
     "text": [
      "\n"
     ]
    }
   ],
   "source": [
    "test_loss, test_acc = evaluate(model, weights = last_weights, val_data = test_dataloader, loss_fn = loss_fn, device = 'cuda', verbose = 1)\n",
    "print(f'Loss: {test_loss : .3f}, Acc: {test_acc: .3f}')"
   ]
  },
  {
   "cell_type": "code",
   "execution_count": 31,
   "id": "d1f6d930",
   "metadata": {
    "execution": {
     "iopub.execute_input": "2023-11-02T01:36:09.030157Z",
     "iopub.status.busy": "2023-11-02T01:36:09.029231Z",
     "iopub.status.idle": "2023-11-02T01:36:46.647765Z",
     "shell.execute_reply": "2023-11-02T01:36:46.646563Z"
    },
    "papermill": {
     "duration": 41.252973,
     "end_time": "2023-11-02T01:36:46.649937",
     "exception": false,
     "start_time": "2023-11-02T01:36:05.396964",
     "status": "completed"
    },
    "tags": []
   },
   "outputs": [
    {
     "name": "stderr",
     "output_type": "stream",
     "text": [
      "Evaluate: 100%|███████████████████████████████████████████████████| 125/125 [00:35<00:00,  3.47it/s]"
     ]
    },
    {
     "name": "stdout",
     "output_type": "stream",
     "text": [
      "Loss:  3.914, Acc:  0.022\n"
     ]
    },
    {
     "name": "stderr",
     "output_type": "stream",
     "text": [
      "\n"
     ]
    }
   ],
   "source": [
    "test_loss, test_acc = evaluate(model, weights = best_weights, val_data = test_dataloader, loss_fn = loss_fn, device = 'cuda', verbose = 1)\n",
    "print(f'Loss: {test_loss : .3f}, Acc: {test_acc: .3f}')"
   ]
  }
 ],
 "metadata": {
  "kernelspec": {
   "display_name": "Python 3",
   "language": "python",
   "name": "python3"
  },
  "language_info": {
   "codemirror_mode": {
    "name": "ipython",
    "version": 3
   },
   "file_extension": ".py",
   "mimetype": "text/x-python",
   "name": "python",
   "nbconvert_exporter": "python",
   "pygments_lexer": "ipython3",
   "version": "3.10.10"
  },
  "papermill": {
   "default_parameters": {},
   "duration": 18100.203913,
   "end_time": "2023-11-02T01:36:53.500250",
   "environment_variables": {},
   "exception": null,
   "input_path": "__notebook__.ipynb",
   "output_path": "__notebook__.ipynb",
   "parameters": {},
   "start_time": "2023-11-01T20:35:13.296337",
   "version": "2.4.0"
  }
 },
 "nbformat": 4,
 "nbformat_minor": 5
}
