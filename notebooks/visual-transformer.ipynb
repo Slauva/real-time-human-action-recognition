{
 "cells": [
  {
   "cell_type": "code",
   "execution_count": null,
   "metadata": {},
   "outputs": [],
   "source": [
    "# Discard the output of this cell.\n",
    "%%capture\n",
    "\n",
    "!pip install vit-pytorch"
   ]
  },
  {
   "cell_type": "code",
   "execution_count": 2,
   "id": "72612492",
   "metadata": {
    "execution": {
     "iopub.execute_input": "2023-11-19T05:35:38.458117Z",
     "iopub.status.busy": "2023-11-19T05:35:38.457798Z",
     "iopub.status.idle": "2023-11-19T05:35:43.698248Z",
     "shell.execute_reply": "2023-11-19T05:35:43.697312Z"
    },
    "papermill": {
     "duration": 5.251397,
     "end_time": "2023-11-19T05:35:43.700596",
     "exception": false,
     "start_time": "2023-11-19T05:35:38.449199",
     "status": "completed"
    },
    "tags": []
   },
   "outputs": [],
   "source": [
    "import matplotlib.pyplot as plt\n",
    "import os\n",
    "import torch\n",
    "import numpy as np\n",
    "from torch import nn\n",
    "from tqdm import tqdm\n",
    "from glob import glob"
   ]
  },
  {
   "cell_type": "markdown",
   "metadata": {},
   "source": [
    "Reproducibility"
   ]
  },
  {
   "cell_type": "code",
   "execution_count": null,
   "metadata": {},
   "outputs": [],
   "source": [
    "torch.manual_seed(42)\n",
    "np.random.seed(42)"
   ]
  },
  {
   "cell_type": "markdown",
   "id": "dcee7225",
   "metadata": {
    "papermill": {
     "duration": 0.007845,
     "end_time": "2023-11-19T05:35:43.716870",
     "exception": false,
     "start_time": "2023-11-19T05:35:43.709025",
     "status": "completed"
    },
    "tags": []
   },
   "source": [
    "## Dataset"
   ]
  },
  {
   "cell_type": "code",
   "execution_count": 3,
   "id": "777a5559",
   "metadata": {
    "execution": {
     "iopub.execute_input": "2023-11-19T05:35:43.734279Z",
     "iopub.status.busy": "2023-11-19T05:35:43.733905Z",
     "iopub.status.idle": "2023-11-19T05:35:47.216344Z",
     "shell.execute_reply": "2023-11-19T05:35:47.215363Z"
    },
    "papermill": {
     "duration": 3.494006,
     "end_time": "2023-11-19T05:35:47.218913",
     "exception": false,
     "start_time": "2023-11-19T05:35:43.724907",
     "status": "completed"
    },
    "tags": []
   },
   "outputs": [],
   "source": [
    "PATH_DATASET_DIR = \"/kaggle/input/ucf50-action-recognition-dataset/UCF50\"\n",
    "HEIGHT, WIDTH = 240, 320\n",
    "SEQUENCE_LENGTH = 20\n",
    "\n",
    "videos = glob(f\"{PATH_DATASET_DIR}/**/*.avi\")\n",
    "labels = [path.replace(f\"{PATH_DATASET_DIR}/\", \"\") for path in glob(f\"{PATH_DATASET_DIR}/**\")]"
   ]
  },
  {
   "cell_type": "code",
   "execution_count": 4,
   "id": "e0d520b6",
   "metadata": {
    "execution": {
     "iopub.execute_input": "2023-11-19T05:35:47.236759Z",
     "iopub.status.busy": "2023-11-19T05:35:47.236126Z",
     "iopub.status.idle": "2023-11-19T05:35:47.241964Z",
     "shell.execute_reply": "2023-11-19T05:35:47.241082Z"
    },
    "papermill": {
     "duration": 0.01666,
     "end_time": "2023-11-19T05:35:47.243804",
     "exception": false,
     "start_time": "2023-11-19T05:35:47.227144",
     "status": "completed"
    },
    "tags": []
   },
   "outputs": [],
   "source": [
    "from torchvision import transforms\n",
    "\n",
    "transform = transforms.Compose([\n",
    "    transforms.ToPILImage(),\n",
    "    transforms.Resize((240, 240)),\n",
    "    transforms.ToTensor(),\n",
    "    transforms.Normalize(mean=[0.485, 0.456, 0.406], std=[0.229, 0.224, 0.225]),\n",
    "])"
   ]
  },
  {
   "cell_type": "code",
   "execution_count": 5,
   "id": "a0b3739d",
   "metadata": {
    "execution": {
     "iopub.execute_input": "2023-11-19T05:35:47.261867Z",
     "iopub.status.busy": "2023-11-19T05:35:47.261071Z",
     "iopub.status.idle": "2023-11-19T05:35:47.273684Z",
     "shell.execute_reply": "2023-11-19T05:35:47.272953Z"
    },
    "papermill": {
     "duration": 0.023732,
     "end_time": "2023-11-19T05:35:47.275549",
     "exception": false,
     "start_time": "2023-11-19T05:35:47.251817",
     "status": "completed"
    },
    "tags": []
   },
   "outputs": [],
   "source": [
    "from torch.utils.data import Dataset\n",
    "import cv2\n",
    "\n",
    "class VideoDataset(Dataset):\n",
    "    \n",
    "    def __init__(self, video_paths, transform=None, num_videos=None, num_frames=None):\n",
    "        self.video_paths = video_paths\n",
    "        self.transform = transform\n",
    "        self.lab2idx = {}\n",
    "        \n",
    "        if num_videos is not None:\n",
    "            labels = set([path.split(\"/\")[-2] for path in video_paths])\n",
    "            self.lab2idx = { w : i for i, w in enumerate(labels) } \n",
    "            buffer = []\n",
    "            for label in labels:\n",
    "                videos = []\n",
    "                for path in video_paths:\n",
    "                    if label in path:\n",
    "                        videos.append(path)\n",
    "                videos = np.random.choice(videos, num_videos)\n",
    "                buffer.extend(videos)\n",
    "            self.paths = buffer\n",
    "    \n",
    "    def __len__(self):\n",
    "        return len(self.paths)\n",
    "    \n",
    "    def __getitem__(self, idx):\n",
    "        video_path = self.paths[idx]\n",
    "        label = video_path.split(\"/\")[-2]\n",
    "        frames = self.read_video(video_path)\n",
    "        if self.transform:\n",
    "            frames = torch.stack([self.transform(frame) for frame in frames])\n",
    "        else:\n",
    "            frames = torch.stack(frames)\n",
    "        return frames, self.lab2idx[label]\n",
    "    \n",
    "    def read_video(self, video_path):\n",
    "        \n",
    "        cap = cv2.VideoCapture(video_path)\n",
    "        frames = []\n",
    "        frames_count = int(cap.get(cv2.CAP_PROP_FRAME_COUNT))\n",
    "        window = max(int(frames_count/SEQUENCE_LENGTH), 1)\n",
    "        \n",
    "        for i in range(SEQUENCE_LENGTH):\n",
    "            cap.set(cv2.CAP_PROP_POS_FRAMES, i * window)\n",
    "            ret, frame = cap.read()\n",
    "            if not ret:\n",
    "                break\n",
    "            fixed_frame = cv2.cvtColor(frame, cv2.COLOR_BGR2RGB)\n",
    "            frames.append(frame)\n",
    "            \n",
    "        cap.release()\n",
    "        return np.array(frames)"
   ]
  },
  {
   "cell_type": "code",
   "execution_count": 6,
   "id": "58fd24fe",
   "metadata": {
    "execution": {
     "iopub.execute_input": "2023-11-19T05:35:47.293363Z",
     "iopub.status.busy": "2023-11-19T05:35:47.292648Z",
     "iopub.status.idle": "2023-11-19T05:35:47.337470Z",
     "shell.execute_reply": "2023-11-19T05:35:47.336572Z"
    },
    "papermill": {
     "duration": 0.05603,
     "end_time": "2023-11-19T05:35:47.339793",
     "exception": false,
     "start_time": "2023-11-19T05:35:47.283763",
     "status": "completed"
    },
    "tags": []
   },
   "outputs": [],
   "source": [
    "dataset = VideoDataset(videos, transform, 100)"
   ]
  },
  {
   "cell_type": "markdown",
   "metadata": {},
   "source": [
    "### Train and test split"
   ]
  },
  {
   "cell_type": "code",
   "execution_count": 7,
   "id": "fffac282",
   "metadata": {
    "execution": {
     "iopub.execute_input": "2023-11-19T05:35:47.358241Z",
     "iopub.status.busy": "2023-11-19T05:35:47.357637Z",
     "iopub.status.idle": "2023-11-19T05:35:47.387401Z",
     "shell.execute_reply": "2023-11-19T05:35:47.386549Z"
    },
    "papermill": {
     "duration": 0.041279,
     "end_time": "2023-11-19T05:35:47.389877",
     "exception": false,
     "start_time": "2023-11-19T05:35:47.348598",
     "status": "completed"
    },
    "tags": []
   },
   "outputs": [],
   "source": [
    "train_size = int(0.7 * len(dataset))\n",
    "val_size = int(0.2 * len(dataset))\n",
    "test_size = len(dataset) - train_size - val_size\n",
    "\n",
    "train_dataset, val_dataset, test_dataset = torch.utils.data.random_split(dataset, [train_size, val_size, test_size])"
   ]
  },
  {
   "cell_type": "markdown",
   "id": "ac433a3e",
   "metadata": {
    "papermill": {
     "duration": 0.008498,
     "end_time": "2023-11-19T05:36:00.658922",
     "exception": false,
     "start_time": "2023-11-19T05:36:00.650424",
     "status": "completed"
    },
    "tags": []
   },
   "source": [
    "### Transform and train dataloader"
   ]
  },
  {
   "cell_type": "code",
   "execution_count": 15,
   "id": "c484b7a7",
   "metadata": {
    "execution": {
     "iopub.execute_input": "2023-11-19T05:36:00.677704Z",
     "iopub.status.busy": "2023-11-19T05:36:00.677356Z",
     "iopub.status.idle": "2023-11-19T05:36:00.683624Z",
     "shell.execute_reply": "2023-11-19T05:36:00.682726Z"
    },
    "papermill": {
     "duration": 0.017904,
     "end_time": "2023-11-19T05:36:00.685477",
     "exception": false,
     "start_time": "2023-11-19T05:36:00.667573",
     "status": "completed"
    },
    "tags": []
   },
   "outputs": [],
   "source": [
    "batch_size = 4\n",
    "num_workers = os.cpu_count()\n",
    "train_dataloader = torch.utils.data.DataLoader(train_dataset, shuffle = True, batch_size = batch_size, drop_last = True, num_workers = num_workers)\n",
    "val_dataloader = torch.utils.data.DataLoader(val_dataset, shuffle = True, batch_size = batch_size, drop_last = True, num_workers = num_workers)"
   ]
  },
  {
   "cell_type": "markdown",
   "metadata": {},
   "source": [
    "### Transform and test data loader"
   ]
  },
  {
   "cell_type": "code",
   "execution_count": null,
   "metadata": {},
   "outputs": [],
   "source": [
    "test_dataloader = torch.utils.data.DataLoader(test_dataset, batch_size = batch_size, drop_last = True, num_workers = num_workers)"
   ]
  },
  {
   "cell_type": "markdown",
   "metadata": {},
   "source": [
    "## Necessary functions"
   ]
  },
  {
   "cell_type": "markdown",
   "id": "52579007",
   "metadata": {
    "papermill": {
     "duration": 0.007976,
     "end_time": "2023-11-19T05:35:47.458812",
     "exception": false,
     "start_time": "2023-11-19T05:35:47.450836",
     "status": "completed"
    },
    "tags": []
   },
   "source": [
    "### Evaluate function"
   ]
  },
  {
   "cell_type": "code",
   "execution_count": 10,
   "id": "03461326",
   "metadata": {
    "execution": {
     "iopub.execute_input": "2023-11-19T05:35:47.477322Z",
     "iopub.status.busy": "2023-11-19T05:35:47.476419Z",
     "iopub.status.idle": "2023-11-19T05:35:47.486401Z",
     "shell.execute_reply": "2023-11-19T05:35:47.485328Z"
    },
    "papermill": {
     "duration": 0.020992,
     "end_time": "2023-11-19T05:35:47.488209",
     "exception": false,
     "start_time": "2023-11-19T05:35:47.467217",
     "status": "completed"
    },
    "tags": []
   },
   "outputs": [],
   "source": [
    "def evaluate(model, val_data, loss_fn, weights = None, device = 'cpu', verbose = 0):\n",
    "    \n",
    "    if (device == 'gpu' or device == 'cuda') and torch.cuda.is_available():\n",
    "        device = torch.device('cuda')\n",
    "    elif isinstance(device, torch.device): \n",
    "        device = device\n",
    "    else: \n",
    "        device = torch.device('cpu')\n",
    "    \n",
    "    model = model.to(device)\n",
    "\n",
    "    if weights:\n",
    "        model.load_state_dict(torch.load(weights))\n",
    "    \n",
    "    with torch.no_grad():\n",
    "        model.eval()\n",
    "        val_correct = 0\n",
    "        val_total = len(val_data)*val_data.batch_size\n",
    "        running_loss = 0.\n",
    "        if verbose == 1:\n",
    "            val_data = tqdm(val_data, desc = 'Evaluate: ', ncols = 100)\n",
    "        for data_batch, label_batch in val_data:\n",
    "            \n",
    "            data_batch, label_batch = data_batch.to(device), label_batch.to(device)\n",
    "            output_batch = model(data_batch.reshape([-1, 3, 20, 240, 240]))\n",
    "            loss = loss_fn(output_batch, label_batch.long())\n",
    "            running_loss += loss.item()\n",
    "\n",
    "            _, predicted_labels = torch.max(output_batch.data, dim = 1)\n",
    "\n",
    "            val_correct += (label_batch == predicted_labels).sum().item()\n",
    "        val_loss = running_loss/len(val_data)\n",
    "        val_acc = val_correct/val_total\n",
    "        return val_loss, val_acc\n"
   ]
  },
  {
   "cell_type": "markdown",
   "id": "75409337",
   "metadata": {
    "papermill": {
     "duration": 0.008363,
     "end_time": "2023-11-19T05:35:47.504765",
     "exception": false,
     "start_time": "2023-11-19T05:35:47.496402",
     "status": "completed"
    },
    "tags": []
   },
   "source": [
    "### Train function"
   ]
  },
  {
   "cell_type": "code",
   "execution_count": 11,
   "id": "31317e3b",
   "metadata": {
    "execution": {
     "iopub.execute_input": "2023-11-19T05:35:47.522903Z",
     "iopub.status.busy": "2023-11-19T05:35:47.522291Z",
     "iopub.status.idle": "2023-11-19T05:35:47.539123Z",
     "shell.execute_reply": "2023-11-19T05:35:47.538214Z"
    },
    "papermill": {
     "duration": 0.028228,
     "end_time": "2023-11-19T05:35:47.541011",
     "exception": false,
     "start_time": "2023-11-19T05:35:47.512783",
     "status": "completed"
    },
    "tags": []
   },
   "outputs": [],
   "source": [
    "def train(model, train_data, val_data, loss_fn, optimizer, epochs, save_last_weights_path = None,\n",
    "          save_best_weights_path = None, freeze = False, steps_per_epoch = None,\n",
    "          device = 'cpu', scheduler = None):\n",
    "\n",
    "    if (device == 'gpu' or device == 'cuda') and torch.cuda.is_available():\n",
    "        device = torch.device('cuda')\n",
    "    elif isinstance(device, torch.device): \n",
    "        device = device\n",
    "    else: \n",
    "        device = torch.device('cpu')        \n",
    "\n",
    "    if save_best_weights_path: \n",
    "        best_loss, _ = evaluate(model, val_data, device = device, loss_fn = loss_fn, verbose = 1)  \n",
    "\n",
    "    if steps_per_epoch is None: \n",
    "        steps_per_epoch = len(train_data)\n",
    "\n",
    "    num_steps = len(train_data)\n",
    "    iterator = iter(train_data)\n",
    "    count_steps = 1    \n",
    "    \n",
    "    ## History\n",
    "    history = {\n",
    "        'train_loss': [],\n",
    "        'train_acc': [],\n",
    "        'val_acc': [],\n",
    "        'val_loss': []\n",
    "    }\n",
    "        \n",
    "    # add model to device\n",
    "    model = model.to(device)\n",
    "    \n",
    "    ############################### Train and Val ##########################################\n",
    "    for epoch in range(1, epochs + 1):\n",
    "\n",
    "        running_loss = 0.\n",
    "        train_correct = 0\n",
    "        train_total = steps_per_epoch*train_data.batch_size\n",
    "        \n",
    "        model.train()\n",
    "        \n",
    "        for step in tqdm(range(steps_per_epoch), desc = f'epoch: {epoch}/{epochs}: ', ncols = 100): \n",
    "            \n",
    "            img_batch, label_batch = next(iterator)\n",
    "            img_batch, label_batch = img_batch.to(device), label_batch.to(device)\n",
    "\n",
    "            optimizer.zero_grad()\n",
    "\n",
    "            output_batch = model(img_batch.reshape([-1, 3, 20, 240, 240]))\n",
    "\n",
    "            loss = loss_fn(output_batch, label_batch.long())\n",
    "            loss.backward()\n",
    "            optimizer.step()\n",
    "\n",
    "            _, predicted_labels = torch.max(output_batch.data, dim = 1)\n",
    "            train_correct += (label_batch == predicted_labels).sum().item()\n",
    "            running_loss += loss.item()\n",
    "                \n",
    "            if count_steps == num_steps:\n",
    "                count_steps = 0\n",
    "                iterator = iter(train_data)\n",
    "            count_steps += 1\n",
    "            \n",
    "        train_loss = running_loss / steps_per_epoch\n",
    "        train_accuracy = train_correct/train_total\n",
    "        \n",
    "        if scheduler:\n",
    "            scheduler.step(train_loss)\n",
    "        \n",
    "        history['train_loss'].append(float(train_loss))\n",
    "        history['train_acc'].append(float(train_accuracy))\n",
    "        \n",
    "        if val_data is not None: \n",
    "            val_loss, val_acc = evaluate(model, val_data, device = device, loss_fn = loss_fn)\n",
    "            print(f'epoch: {epoch}, train_accuracy: {train_accuracy: .2f}, loss: {train_loss: .3f}, val_accuracy: {val_acc: .2f}, val_loss: {val_loss:.3f}')\n",
    "\n",
    "            if save_best_weights_path:\n",
    "                if val_loss < best_loss:\n",
    "                    best_loss = val_loss\n",
    "                    torch.save(model.state_dict(), save_best_weights_path)\n",
    "                    print(f'Saved successfully best weights to:', save_best_weights_path)\n",
    "            history['val_loss'].append(float(val_loss))\n",
    "            history['val_acc'].append(float(val_acc))\n",
    "        else:\n",
    "            print(f'epoch: {epoch}, train_accuracy: {train_accuracy: .2f}, loss: {train_loss: .3f}')\n",
    "    if save_last_weights_path:  \n",
    "        torch.save(model.state_dict(), save_last_weights_path)\n",
    "        print(f'Saved successfully last weights to:', save_last_weights_path)\n",
    "    return model, history\n"
   ]
  },
  {
   "cell_type": "markdown",
   "id": "15d5ef80",
   "metadata": {
    "papermill": {
     "duration": 0.008799,
     "end_time": "2023-11-19T05:36:00.512912",
     "exception": false,
     "start_time": "2023-11-19T05:36:00.504113",
     "status": "completed"
    },
    "tags": []
   },
   "source": [
    "### Visualize history"
   ]
  },
  {
   "cell_type": "code",
   "execution_count": 13,
   "id": "364c1eac",
   "metadata": {
    "execution": {
     "iopub.execute_input": "2023-11-19T05:36:00.532499Z",
     "iopub.status.busy": "2023-11-19T05:36:00.532123Z",
     "iopub.status.idle": "2023-11-19T05:36:00.541051Z",
     "shell.execute_reply": "2023-11-19T05:36:00.540194Z"
    },
    "papermill": {
     "duration": 0.021268,
     "end_time": "2023-11-19T05:36:00.542967",
     "exception": false,
     "start_time": "2023-11-19T05:36:00.521699",
     "status": "completed"
    },
    "tags": []
   },
   "outputs": [],
   "source": [
    "def visualize_history(history, metrics = ['acc', 'loss']):   \n",
    "    \n",
    "    if 'acc' in metrics:\n",
    "        plt.figure(figsize = (10,6))\n",
    "        plt.subplot(121)\n",
    "        plt.plot(range(1, len(history['train_acc']) + 1), history['train_acc'], label = 'train_acc', c = 'r')\n",
    "        plt.plot(range(1, len(history['val_acc']) + 1), history['val_acc'], label = 'val_acc', c = 'g')\n",
    "        plt.title('Accuracy')\n",
    "        plt.xlabel('Epoch')\n",
    "        plt.ylabel('Accuracy')\n",
    "        plt.legend()\n",
    "\n",
    "    if 'loss' in metrics:\n",
    "        plt.subplot(122)\n",
    "        plt.plot(range(1, len(history['train_loss']) + 1), history['train_loss'], label = 'train_loss', c = 'r')\n",
    "        plt.plot(range(1, len(history['val_loss']) + 1), history['val_loss'], label = 'val_loss', c = 'g')\n",
    "        plt.title('Loss')\n",
    "        plt.xlabel('Epoch')\n",
    "        plt.ylabel('Loss')\n",
    "        plt.legend()"
   ]
  },
  {
   "cell_type": "markdown",
   "id": "02edb39e",
   "metadata": {
    "papermill": {
     "duration": 0.007963,
     "end_time": "2023-11-19T05:35:47.557373",
     "exception": false,
     "start_time": "2023-11-19T05:35:47.549410",
     "status": "completed"
    },
    "tags": []
   },
   "source": [
    "## Model"
   ]
  },
  {
   "cell_type": "markdown",
   "id": "a712f913",
   "metadata": {
    "papermill": {
     "duration": 0.008521,
     "end_time": "2023-11-19T05:36:00.560277",
     "exception": false,
     "start_time": "2023-11-19T05:36:00.551756",
     "status": "completed"
    },
    "tags": []
   },
   "source": [
    "### Parameters"
   ]
  },
  {
   "cell_type": "code",
   "execution_count": 14,
   "id": "13a56729",
   "metadata": {
    "execution": {
     "iopub.execute_input": "2023-11-19T05:36:00.579355Z",
     "iopub.status.busy": "2023-11-19T05:36:00.579019Z",
     "iopub.status.idle": "2023-11-19T05:36:00.639179Z",
     "shell.execute_reply": "2023-11-19T05:36:00.638156Z"
    },
    "papermill": {
     "duration": 0.072138,
     "end_time": "2023-11-19T05:36:00.641275",
     "exception": false,
     "start_time": "2023-11-19T05:36:00.569137",
     "status": "completed"
    },
    "tags": []
   },
   "outputs": [],
   "source": [
    "mode = 'train'\n",
    "last_weights = 'last_weights.pt'\n",
    "best_weights = 'best_weights.pt'\n",
    "\n",
    "num_classes = 50\n",
    "num_frames = SEQUENCE_LENGTH\n",
    "device = 'cuda' if torch.cuda.is_available() else 'cpu'\n",
    "hidden_size = 128\n",
    "num_lstm_layers = 2"
   ]
  },
  {
   "cell_type": "markdown",
   "id": "38b3936e",
   "metadata": {
    "papermill": {
     "duration": 0.008768,
     "end_time": "2023-11-19T05:36:00.703030",
     "exception": false,
     "start_time": "2023-11-19T05:36:00.694262",
     "status": "completed"
    },
    "tags": []
   },
   "source": [
    "### Create model"
   ]
  },
  {
   "cell_type": "code",
   "execution_count": 16,
   "id": "cc224d54",
   "metadata": {
    "execution": {
     "iopub.execute_input": "2023-11-19T05:36:00.722138Z",
     "iopub.status.busy": "2023-11-19T05:36:00.721722Z",
     "iopub.status.idle": "2023-11-19T05:36:05.722743Z",
     "shell.execute_reply": "2023-11-19T05:36:05.721710Z"
    },
    "papermill": {
     "duration": 5.013437,
     "end_time": "2023-11-19T05:36:05.725151",
     "exception": false,
     "start_time": "2023-11-19T05:36:00.711714",
     "status": "completed"
    },
    "tags": []
   },
   "outputs": [],
   "source": [
    "from vit_pytorch.vit_3d import ViT\n",
    "\n",
    "model = ViT(\n",
    "    image_size = 240,          # image size\n",
    "    frames = 20,               # number of frames\n",
    "    image_patch_size = 16,     # image patch size\n",
    "    frame_patch_size = 2,      # frame patch size\n",
    "    num_classes = 50,\n",
    "    dim = 1024,\n",
    "    depth = 6,\n",
    "    heads = 8,\n",
    "    mlp_dim = 2048,\n",
    "    dropout = 0.1,\n",
    "    emb_dropout = 0.1\n",
    ").to(device)\n",
    "\n",
    "loss_fn = nn.CrossEntropyLoss()\n",
    "optimizer = torch.optim.Adam(model.parameters(), lr = 1e-4)\n",
    "scheduler = torch.optim.lr_scheduler.ReduceLROnPlateau(optimizer, factor = 0.1, mode = 'min', patience = 3, verbose = 1)"
   ]
  },
  {
   "cell_type": "markdown",
   "id": "92afa277",
   "metadata": {
    "papermill": {
     "duration": 0.008951,
     "end_time": "2023-11-19T05:36:05.743336",
     "exception": false,
     "start_time": "2023-11-19T05:36:05.734385",
     "status": "completed"
    },
    "tags": []
   },
   "source": [
    "## Train model"
   ]
  },
  {
   "cell_type": "code",
   "execution_count": 17,
   "id": "f798931b",
   "metadata": {
    "execution": {
     "iopub.execute_input": "2023-11-19T05:36:05.763036Z",
     "iopub.status.busy": "2023-11-19T05:36:05.762194Z",
     "iopub.status.idle": "2023-11-19T14:39:59.469197Z",
     "shell.execute_reply": "2023-11-19T14:39:59.467838Z"
    },
    "papermill": {
     "duration": 32637.144577,
     "end_time": "2023-11-19T14:40:02.896833",
     "exception": false,
     "start_time": "2023-11-19T05:36:05.752256",
     "status": "completed"
    },
    "tags": []
   },
   "outputs": [
    {
     "name": "stderr",
     "output_type": "stream",
     "text": [
      "Evaluate: 100%|███████████████████████████████████████████████████| 250/250 [01:18<00:00,  3.18it/s]\n",
      "epoch: 1/50: 100%|████████████████████████████████████████████████| 875/875 [09:31<00:00,  1.53it/s]\n"
     ]
    },
    {
     "name": "stdout",
     "output_type": "stream",
     "text": [
      "epoch: 1, train_accuracy:  0.09, loss:  3.595, val_accuracy:  0.13, val_loss: 3.235\n",
      "Saved successfully best weights to: best_weights.pt\n"
     ]
    },
    {
     "name": "stderr",
     "output_type": "stream",
     "text": [
      "epoch: 2/50: 100%|████████████████████████████████████████████████| 875/875 [09:31<00:00,  1.53it/s]\n"
     ]
    },
    {
     "name": "stdout",
     "output_type": "stream",
     "text": [
      "epoch: 2, train_accuracy:  0.21, loss:  2.905, val_accuracy:  0.27, val_loss: 2.750\n",
      "Saved successfully best weights to: best_weights.pt\n"
     ]
    },
    {
     "name": "stderr",
     "output_type": "stream",
     "text": [
      "epoch: 3/50: 100%|████████████████████████████████████████████████| 875/875 [09:31<00:00,  1.53it/s]\n"
     ]
    },
    {
     "name": "stdout",
     "output_type": "stream",
     "text": [
      "epoch: 3, train_accuracy:  0.33, loss:  2.403, val_accuracy:  0.36, val_loss: 2.433\n",
      "Saved successfully best weights to: best_weights.pt\n"
     ]
    },
    {
     "name": "stderr",
     "output_type": "stream",
     "text": [
      "epoch: 4/50: 100%|████████████████████████████████████████████████| 875/875 [09:31<00:00,  1.53it/s]\n"
     ]
    },
    {
     "name": "stdout",
     "output_type": "stream",
     "text": [
      "epoch: 4, train_accuracy:  0.44, loss:  1.956, val_accuracy:  0.46, val_loss: 2.045\n",
      "Saved successfully best weights to: best_weights.pt\n"
     ]
    },
    {
     "name": "stderr",
     "output_type": "stream",
     "text": [
      "epoch: 5/50: 100%|████████████████████████████████████████████████| 875/875 [09:32<00:00,  1.53it/s]\n"
     ]
    },
    {
     "name": "stdout",
     "output_type": "stream",
     "text": [
      "epoch: 5, train_accuracy:  0.57, loss:  1.513, val_accuracy:  0.52, val_loss: 1.886\n",
      "Saved successfully best weights to: best_weights.pt\n"
     ]
    },
    {
     "name": "stderr",
     "output_type": "stream",
     "text": [
      "epoch: 6/50: 100%|████████████████████████████████████████████████| 875/875 [09:32<00:00,  1.53it/s]\n"
     ]
    },
    {
     "name": "stdout",
     "output_type": "stream",
     "text": [
      "epoch: 6, train_accuracy:  0.66, loss:  1.173, val_accuracy:  0.55, val_loss: 1.738\n",
      "Saved successfully best weights to: best_weights.pt\n"
     ]
    },
    {
     "name": "stderr",
     "output_type": "stream",
     "text": [
      "epoch: 7/50: 100%|████████████████████████████████████████████████| 875/875 [09:32<00:00,  1.53it/s]\n"
     ]
    },
    {
     "name": "stdout",
     "output_type": "stream",
     "text": [
      "epoch: 7, train_accuracy:  0.74, loss:  0.885, val_accuracy:  0.62, val_loss: 1.557\n",
      "Saved successfully best weights to: best_weights.pt\n"
     ]
    },
    {
     "name": "stderr",
     "output_type": "stream",
     "text": [
      "epoch: 8/50: 100%|████████████████████████████████████████████████| 875/875 [09:32<00:00,  1.53it/s]\n"
     ]
    },
    {
     "name": "stdout",
     "output_type": "stream",
     "text": [
      "epoch: 8, train_accuracy:  0.81, loss:  0.648, val_accuracy:  0.63, val_loss: 1.551\n",
      "Saved successfully best weights to: best_weights.pt\n"
     ]
    },
    {
     "name": "stderr",
     "output_type": "stream",
     "text": [
      "epoch: 9/50: 100%|████████████████████████████████████████████████| 875/875 [09:32<00:00,  1.53it/s]\n"
     ]
    },
    {
     "name": "stdout",
     "output_type": "stream",
     "text": [
      "epoch: 9, train_accuracy:  0.84, loss:  0.521, val_accuracy:  0.64, val_loss: 1.553\n"
     ]
    },
    {
     "name": "stderr",
     "output_type": "stream",
     "text": [
      "epoch: 10/50: 100%|███████████████████████████████████████████████| 875/875 [09:32<00:00,  1.53it/s]\n"
     ]
    },
    {
     "name": "stdout",
     "output_type": "stream",
     "text": [
      "epoch: 10, train_accuracy:  0.87, loss:  0.429, val_accuracy:  0.62, val_loss: 1.766\n"
     ]
    },
    {
     "name": "stderr",
     "output_type": "stream",
     "text": [
      "epoch: 11/50: 100%|███████████████████████████████████████████████| 875/875 [09:33<00:00,  1.53it/s]\n"
     ]
    },
    {
     "name": "stdout",
     "output_type": "stream",
     "text": [
      "epoch: 11, train_accuracy:  0.87, loss:  0.431, val_accuracy:  0.65, val_loss: 1.596\n"
     ]
    },
    {
     "name": "stderr",
     "output_type": "stream",
     "text": [
      "epoch: 12/50: 100%|███████████████████████████████████████████████| 875/875 [09:32<00:00,  1.53it/s]\n"
     ]
    },
    {
     "name": "stdout",
     "output_type": "stream",
     "text": [
      "epoch: 12, train_accuracy:  0.91, loss:  0.315, val_accuracy:  0.62, val_loss: 1.925\n"
     ]
    },
    {
     "name": "stderr",
     "output_type": "stream",
     "text": [
      "epoch: 13/50: 100%|███████████████████████████████████████████████| 875/875 [09:32<00:00,  1.53it/s]\n"
     ]
    },
    {
     "name": "stdout",
     "output_type": "stream",
     "text": [
      "epoch: 13, train_accuracy:  0.91, loss:  0.310, val_accuracy:  0.65, val_loss: 1.645\n"
     ]
    },
    {
     "name": "stderr",
     "output_type": "stream",
     "text": [
      "epoch: 14/50: 100%|███████████████████████████████████████████████| 875/875 [09:32<00:00,  1.53it/s]\n"
     ]
    },
    {
     "name": "stdout",
     "output_type": "stream",
     "text": [
      "epoch: 14, train_accuracy:  0.90, loss:  0.317, val_accuracy:  0.63, val_loss: 1.702\n"
     ]
    },
    {
     "name": "stderr",
     "output_type": "stream",
     "text": [
      "epoch: 15/50: 100%|███████████████████████████████████████████████| 875/875 [09:33<00:00,  1.53it/s]\n"
     ]
    },
    {
     "name": "stdout",
     "output_type": "stream",
     "text": [
      "epoch: 15, train_accuracy:  0.93, loss:  0.237, val_accuracy:  0.68, val_loss: 1.523\n",
      "Saved successfully best weights to: best_weights.pt\n"
     ]
    },
    {
     "name": "stderr",
     "output_type": "stream",
     "text": [
      "epoch: 16/50: 100%|███████████████████████████████████████████████| 875/875 [09:33<00:00,  1.53it/s]\n"
     ]
    },
    {
     "name": "stdout",
     "output_type": "stream",
     "text": [
      "epoch: 16, train_accuracy:  0.91, loss:  0.279, val_accuracy:  0.64, val_loss: 1.871\n"
     ]
    },
    {
     "name": "stderr",
     "output_type": "stream",
     "text": [
      "epoch: 17/50: 100%|███████████████████████████████████████████████| 875/875 [09:33<00:00,  1.53it/s]\n"
     ]
    },
    {
     "name": "stdout",
     "output_type": "stream",
     "text": [
      "epoch: 17, train_accuracy:  0.90, loss:  0.294, val_accuracy:  0.66, val_loss: 1.750\n"
     ]
    },
    {
     "name": "stderr",
     "output_type": "stream",
     "text": [
      "epoch: 18/50: 100%|███████████████████████████████████████████████| 875/875 [09:33<00:00,  1.52it/s]\n"
     ]
    },
    {
     "name": "stdout",
     "output_type": "stream",
     "text": [
      "epoch: 18, train_accuracy:  0.93, loss:  0.246, val_accuracy:  0.68, val_loss: 1.649\n"
     ]
    },
    {
     "name": "stderr",
     "output_type": "stream",
     "text": [
      "epoch: 19/50: 100%|███████████████████████████████████████████████| 875/875 [09:33<00:00,  1.53it/s]\n"
     ]
    },
    {
     "name": "stdout",
     "output_type": "stream",
     "text": [
      "epoch: 19, train_accuracy:  0.93, loss:  0.235, val_accuracy:  0.61, val_loss: 1.937\n"
     ]
    },
    {
     "name": "stderr",
     "output_type": "stream",
     "text": [
      "epoch: 20/50: 100%|███████████████████████████████████████████████| 875/875 [09:33<00:00,  1.53it/s]\n"
     ]
    },
    {
     "name": "stdout",
     "output_type": "stream",
     "text": [
      "epoch: 20, train_accuracy:  0.91, loss:  0.265, val_accuracy:  0.66, val_loss: 1.753\n"
     ]
    },
    {
     "name": "stderr",
     "output_type": "stream",
     "text": [
      "epoch: 21/50: 100%|███████████████████████████████████████████████| 875/875 [09:33<00:00,  1.52it/s]\n"
     ]
    },
    {
     "name": "stdout",
     "output_type": "stream",
     "text": [
      "epoch: 21, train_accuracy:  0.90, loss:  0.316, val_accuracy:  0.68, val_loss: 1.746\n"
     ]
    },
    {
     "name": "stderr",
     "output_type": "stream",
     "text": [
      "epoch: 22/50: 100%|███████████████████████████████████████████████| 875/875 [09:33<00:00,  1.52it/s]\n"
     ]
    },
    {
     "name": "stdout",
     "output_type": "stream",
     "text": [
      "epoch: 22, train_accuracy:  0.92, loss:  0.265, val_accuracy:  0.66, val_loss: 1.818\n"
     ]
    },
    {
     "name": "stderr",
     "output_type": "stream",
     "text": [
      "epoch: 23/50: 100%|███████████████████████████████████████████████| 875/875 [09:33<00:00,  1.52it/s]"
     ]
    },
    {
     "name": "stdout",
     "output_type": "stream",
     "text": [
      "Epoch 00023: reducing learning rate of group 0 to 1.0000e-05.\n"
     ]
    },
    {
     "name": "stderr",
     "output_type": "stream",
     "text": [
      "\n"
     ]
    },
    {
     "name": "stdout",
     "output_type": "stream",
     "text": [
      "epoch: 23, train_accuracy:  0.93, loss:  0.244, val_accuracy:  0.69, val_loss: 1.719\n"
     ]
    },
    {
     "name": "stderr",
     "output_type": "stream",
     "text": [
      "epoch: 24/50: 100%|███████████████████████████████████████████████| 875/875 [09:33<00:00,  1.52it/s]\n"
     ]
    },
    {
     "name": "stdout",
     "output_type": "stream",
     "text": [
      "epoch: 24, train_accuracy:  0.98, loss:  0.088, val_accuracy:  0.71, val_loss: 1.486\n",
      "Saved successfully best weights to: best_weights.pt\n"
     ]
    },
    {
     "name": "stderr",
     "output_type": "stream",
     "text": [
      "epoch: 25/50: 100%|███████████████████████████████████████████████| 875/875 [09:33<00:00,  1.53it/s]\n"
     ]
    },
    {
     "name": "stdout",
     "output_type": "stream",
     "text": [
      "epoch: 25, train_accuracy:  0.99, loss:  0.047, val_accuracy:  0.71, val_loss: 1.509\n"
     ]
    },
    {
     "name": "stderr",
     "output_type": "stream",
     "text": [
      "epoch: 26/50: 100%|███████████████████████████████████████████████| 875/875 [09:33<00:00,  1.53it/s]\n"
     ]
    },
    {
     "name": "stdout",
     "output_type": "stream",
     "text": [
      "epoch: 26, train_accuracy:  0.99, loss:  0.031, val_accuracy:  0.72, val_loss: 1.500\n"
     ]
    },
    {
     "name": "stderr",
     "output_type": "stream",
     "text": [
      "epoch: 27/50: 100%|███████████████████████████████████████████████| 875/875 [09:33<00:00,  1.53it/s]\n"
     ]
    },
    {
     "name": "stdout",
     "output_type": "stream",
     "text": [
      "epoch: 27, train_accuracy:  1.00, loss:  0.021, val_accuracy:  0.73, val_loss: 1.518\n"
     ]
    },
    {
     "name": "stderr",
     "output_type": "stream",
     "text": [
      "epoch: 28/50: 100%|███████████████████████████████████████████████| 875/875 [09:33<00:00,  1.53it/s]\n"
     ]
    },
    {
     "name": "stdout",
     "output_type": "stream",
     "text": [
      "epoch: 28, train_accuracy:  1.00, loss:  0.014, val_accuracy:  0.73, val_loss: 1.493\n"
     ]
    },
    {
     "name": "stderr",
     "output_type": "stream",
     "text": [
      "epoch: 29/50: 100%|███████████████████████████████████████████████| 875/875 [09:33<00:00,  1.53it/s]\n"
     ]
    },
    {
     "name": "stdout",
     "output_type": "stream",
     "text": [
      "epoch: 29, train_accuracy:  1.00, loss:  0.015, val_accuracy:  0.72, val_loss: 1.502\n"
     ]
    },
    {
     "name": "stderr",
     "output_type": "stream",
     "text": [
      "epoch: 30/50: 100%|███████████████████████████████████████████████| 875/875 [09:33<00:00,  1.53it/s]\n"
     ]
    },
    {
     "name": "stdout",
     "output_type": "stream",
     "text": [
      "epoch: 30, train_accuracy:  1.00, loss:  0.012, val_accuracy:  0.73, val_loss: 1.534\n"
     ]
    },
    {
     "name": "stderr",
     "output_type": "stream",
     "text": [
      "epoch: 31/50: 100%|███████████████████████████████████████████████| 875/875 [09:33<00:00,  1.53it/s]\n"
     ]
    },
    {
     "name": "stdout",
     "output_type": "stream",
     "text": [
      "epoch: 31, train_accuracy:  1.00, loss:  0.012, val_accuracy:  0.72, val_loss: 1.534\n"
     ]
    },
    {
     "name": "stderr",
     "output_type": "stream",
     "text": [
      "epoch: 32/50: 100%|███████████████████████████████████████████████| 875/875 [09:33<00:00,  1.52it/s]\n"
     ]
    },
    {
     "name": "stdout",
     "output_type": "stream",
     "text": [
      "epoch: 32, train_accuracy:  1.00, loss:  0.011, val_accuracy:  0.73, val_loss: 1.536\n"
     ]
    },
    {
     "name": "stderr",
     "output_type": "stream",
     "text": [
      "epoch: 33/50: 100%|███████████████████████████████████████████████| 875/875 [09:34<00:00,  1.52it/s]\n"
     ]
    },
    {
     "name": "stdout",
     "output_type": "stream",
     "text": [
      "epoch: 33, train_accuracy:  1.00, loss:  0.007, val_accuracy:  0.74, val_loss: 1.582\n"
     ]
    },
    {
     "name": "stderr",
     "output_type": "stream",
     "text": [
      "epoch: 34/50: 100%|███████████████████████████████████████████████| 875/875 [09:34<00:00,  1.52it/s]\n"
     ]
    },
    {
     "name": "stdout",
     "output_type": "stream",
     "text": [
      "epoch: 34, train_accuracy:  1.00, loss:  0.007, val_accuracy:  0.73, val_loss: 1.602\n"
     ]
    },
    {
     "name": "stderr",
     "output_type": "stream",
     "text": [
      "epoch: 35/50: 100%|███████████████████████████████████████████████| 875/875 [09:33<00:00,  1.52it/s]\n"
     ]
    },
    {
     "name": "stdout",
     "output_type": "stream",
     "text": [
      "epoch: 35, train_accuracy:  1.00, loss:  0.005, val_accuracy:  0.74, val_loss: 1.584\n"
     ]
    },
    {
     "name": "stderr",
     "output_type": "stream",
     "text": [
      "epoch: 36/50: 100%|███████████████████████████████████████████████| 875/875 [09:33<00:00,  1.52it/s]\n"
     ]
    },
    {
     "name": "stdout",
     "output_type": "stream",
     "text": [
      "epoch: 36, train_accuracy:  1.00, loss:  0.007, val_accuracy:  0.73, val_loss: 1.550\n"
     ]
    },
    {
     "name": "stderr",
     "output_type": "stream",
     "text": [
      "epoch: 37/50: 100%|███████████████████████████████████████████████| 875/875 [09:33<00:00,  1.53it/s]\n"
     ]
    },
    {
     "name": "stdout",
     "output_type": "stream",
     "text": [
      "epoch: 37, train_accuracy:  1.00, loss:  0.005, val_accuracy:  0.73, val_loss: 1.556\n"
     ]
    },
    {
     "name": "stderr",
     "output_type": "stream",
     "text": [
      "epoch: 38/50: 100%|███████████████████████████████████████████████| 875/875 [09:33<00:00,  1.52it/s]\n"
     ]
    },
    {
     "name": "stdout",
     "output_type": "stream",
     "text": [
      "epoch: 38, train_accuracy:  1.00, loss:  0.004, val_accuracy:  0.73, val_loss: 1.580\n"
     ]
    },
    {
     "name": "stderr",
     "output_type": "stream",
     "text": [
      "epoch: 39/50: 100%|███████████████████████████████████████████████| 875/875 [09:33<00:00,  1.52it/s]\n"
     ]
    },
    {
     "name": "stdout",
     "output_type": "stream",
     "text": [
      "epoch: 39, train_accuracy:  1.00, loss:  0.005, val_accuracy:  0.73, val_loss: 1.589\n"
     ]
    },
    {
     "name": "stderr",
     "output_type": "stream",
     "text": [
      "epoch: 40/50: 100%|███████████████████████████████████████████████| 875/875 [09:33<00:00,  1.53it/s]\n"
     ]
    },
    {
     "name": "stdout",
     "output_type": "stream",
     "text": [
      "epoch: 40, train_accuracy:  1.00, loss:  0.003, val_accuracy:  0.74, val_loss: 1.612\n"
     ]
    },
    {
     "name": "stderr",
     "output_type": "stream",
     "text": [
      "epoch: 41/50: 100%|███████████████████████████████████████████████| 875/875 [09:33<00:00,  1.52it/s]\n"
     ]
    },
    {
     "name": "stdout",
     "output_type": "stream",
     "text": [
      "epoch: 41, train_accuracy:  1.00, loss:  0.003, val_accuracy:  0.74, val_loss: 1.610\n"
     ]
    },
    {
     "name": "stderr",
     "output_type": "stream",
     "text": [
      "epoch: 42/50: 100%|███████████████████████████████████████████████| 875/875 [09:33<00:00,  1.52it/s]\n"
     ]
    },
    {
     "name": "stdout",
     "output_type": "stream",
     "text": [
      "epoch: 42, train_accuracy:  1.00, loss:  0.003, val_accuracy:  0.74, val_loss: 1.653\n"
     ]
    },
    {
     "name": "stderr",
     "output_type": "stream",
     "text": [
      "epoch: 43/50: 100%|███████████████████████████████████████████████| 875/875 [09:33<00:00,  1.53it/s]\n"
     ]
    },
    {
     "name": "stdout",
     "output_type": "stream",
     "text": [
      "epoch: 43, train_accuracy:  1.00, loss:  0.003, val_accuracy:  0.74, val_loss: 1.684\n"
     ]
    },
    {
     "name": "stderr",
     "output_type": "stream",
     "text": [
      "epoch: 44/50: 100%|███████████████████████████████████████████████| 875/875 [09:33<00:00,  1.52it/s]\n"
     ]
    },
    {
     "name": "stdout",
     "output_type": "stream",
     "text": [
      "epoch: 44, train_accuracy:  1.00, loss:  0.002, val_accuracy:  0.74, val_loss: 1.708\n"
     ]
    },
    {
     "name": "stderr",
     "output_type": "stream",
     "text": [
      "epoch: 45/50: 100%|███████████████████████████████████████████████| 875/875 [09:33<00:00,  1.53it/s]\n"
     ]
    },
    {
     "name": "stdout",
     "output_type": "stream",
     "text": [
      "epoch: 45, train_accuracy:  1.00, loss:  0.004, val_accuracy:  0.74, val_loss: 1.702\n"
     ]
    },
    {
     "name": "stderr",
     "output_type": "stream",
     "text": [
      "epoch: 46/50: 100%|███████████████████████████████████████████████| 875/875 [09:33<00:00,  1.53it/s]\n"
     ]
    },
    {
     "name": "stdout",
     "output_type": "stream",
     "text": [
      "epoch: 46, train_accuracy:  1.00, loss:  0.002, val_accuracy:  0.73, val_loss: 1.669\n"
     ]
    },
    {
     "name": "stderr",
     "output_type": "stream",
     "text": [
      "epoch: 47/50: 100%|███████████████████████████████████████████████| 875/875 [09:33<00:00,  1.53it/s]\n"
     ]
    },
    {
     "name": "stdout",
     "output_type": "stream",
     "text": [
      "epoch: 47, train_accuracy:  1.00, loss:  0.002, val_accuracy:  0.73, val_loss: 1.674\n"
     ]
    },
    {
     "name": "stderr",
     "output_type": "stream",
     "text": [
      "epoch: 48/50: 100%|███████████████████████████████████████████████| 875/875 [09:33<00:00,  1.53it/s]\n"
     ]
    },
    {
     "name": "stdout",
     "output_type": "stream",
     "text": [
      "epoch: 48, train_accuracy:  1.00, loss:  0.003, val_accuracy:  0.73, val_loss: 1.696\n"
     ]
    },
    {
     "name": "stderr",
     "output_type": "stream",
     "text": [
      "epoch: 49/50: 100%|███████████████████████████████████████████████| 875/875 [09:33<00:00,  1.53it/s]\n"
     ]
    },
    {
     "name": "stdout",
     "output_type": "stream",
     "text": [
      "epoch: 49, train_accuracy:  1.00, loss:  0.002, val_accuracy:  0.73, val_loss: 1.722\n"
     ]
    },
    {
     "name": "stderr",
     "output_type": "stream",
     "text": [
      "epoch: 50/50: 100%|███████████████████████████████████████████████| 875/875 [09:33<00:00,  1.53it/s]\n"
     ]
    },
    {
     "name": "stdout",
     "output_type": "stream",
     "text": [
      "epoch: 50, train_accuracy:  1.00, loss:  0.002, val_accuracy:  0.74, val_loss: 1.714\n",
      "Saved successfully last weights to: last_weights.pt\n"
     ]
    }
   ],
   "source": [
    "model, history = train(model, train_dataloader, val_dataloader, loss_fn, optimizer, epochs = 50,\n",
    "              save_last_weights_path = last_weights, save_best_weights_path = best_weights,\n",
    "              device = device, scheduler = scheduler)\n"
   ]
  },
  {
   "cell_type": "code",
   "execution_count": 18,
   "id": "5f57fb10",
   "metadata": {
    "execution": {
     "iopub.execute_input": "2023-11-19T14:40:09.960671Z",
     "iopub.status.busy": "2023-11-19T14:40:09.960182Z",
     "iopub.status.idle": "2023-11-19T14:40:10.531052Z",
     "shell.execute_reply": "2023-11-19T14:40:10.530162Z"
    },
    "papermill": {
     "duration": 4.060032,
     "end_time": "2023-11-19T14:40:10.532985",
     "exception": false,
     "start_time": "2023-11-19T14:40:06.472953",
     "status": "completed"
    },
    "tags": []
   },
   "outputs": [
    {
     "data": {
      "image/png": "[encoded data removed]",
      "text/plain": [
       "<Figure size 1000x600 with 2 Axes>"
      ]
     },
     "metadata": {},
     "output_type": "display_data"
    }
   ],
   "source": [
    "visualize_history(history)"
   ]
  },
  {
   "cell_type": "markdown",
   "id": "395dc233",
   "metadata": {
    "papermill": {
     "duration": 3.497412,
     "end_time": "2023-11-19T14:40:31.128387",
     "exception": false,
     "start_time": "2023-11-19T14:40:27.630975",
     "status": "completed"
    },
    "tags": []
   },
   "source": [
    "## Test Model"
   ]
  },
  {
   "cell_type": "code",
   "execution_count": 20,
   "id": "de54dec2",
   "metadata": {
    "execution": {
     "iopub.execute_input": "2023-11-19T14:40:38.138269Z",
     "iopub.status.busy": "2023-11-19T14:40:38.137870Z",
     "iopub.status.idle": "2023-11-19T14:41:17.364356Z",
     "shell.execute_reply": "2023-11-19T14:41:17.363130Z"
    },
    "papermill": {
     "duration": 42.676836,
     "end_time": "2023-11-19T14:41:17.366519",
     "exception": false,
     "start_time": "2023-11-19T14:40:34.689683",
     "status": "completed"
    },
    "tags": []
   },
   "outputs": [
    {
     "name": "stderr",
     "output_type": "stream",
     "text": [
      "Evaluate: 100%|███████████████████████████████████████████████████| 125/125 [00:39<00:00,  3.20it/s]"
     ]
    },
    {
     "name": "stdout",
     "output_type": "stream",
     "text": [
      "Loss:  1.506, Acc:  0.742\n"
     ]
    },
    {
     "name": "stderr",
     "output_type": "stream",
     "text": [
      "\n"
     ]
    }
   ],
   "source": [
    "test_loss, test_acc = evaluate(model, weights = last_weights, val_data = test_dataloader, loss_fn = loss_fn, device = 'cuda', verbose = 1)\n",
    "print(f'Loss: {test_loss : .3f}, Acc: {test_acc: .3f}')"
   ]
  },
  {
   "cell_type": "code",
   "execution_count": 21,
   "id": "437bc24b",
   "metadata": {
    "execution": {
     "iopub.execute_input": "2023-11-19T14:41:24.304305Z",
     "iopub.status.busy": "2023-11-19T14:41:24.303907Z",
     "iopub.status.idle": "2023-11-19T14:42:01.955375Z",
     "shell.execute_reply": "2023-11-19T14:42:01.954231Z"
    },
    "papermill": {
     "duration": 41.133228,
     "end_time": "2023-11-19T14:42:01.957540",
     "exception": false,
     "start_time": "2023-11-19T14:41:20.824312",
     "status": "completed"
    },
    "tags": []
   },
   "outputs": [
    {
     "name": "stderr",
     "output_type": "stream",
     "text": [
      "Evaluate: 100%|███████████████████████████████████████████████████| 125/125 [00:37<00:00,  3.33it/s]"
     ]
    },
    {
     "name": "stdout",
     "output_type": "stream",
     "text": [
      "Loss:  1.339, Acc:  0.730\n"
     ]
    },
    {
     "name": "stderr",
     "output_type": "stream",
     "text": [
      "\n"
     ]
    }
   ],
   "source": [
    "test_loss, test_acc = evaluate(model, weights = best_weights, val_data = test_dataloader, loss_fn = loss_fn, device = 'cuda', verbose = 1)\n",
    "print(f'Loss: {test_loss : .3f}, Acc: {test_acc: .3f}')"
   ]
  }
 ],
 "metadata": {
  "kaggle": {
   "accelerator": "gpu",
   "dataSources": [
    {
     "datasetId": 2048320,
     "sourceId": 3397795,
     "sourceType": "datasetVersion"
    }
   ],
   "dockerImageVersionId": 30512,
   "isGpuEnabled": true,
   "isInternetEnabled": true,
   "language": "python",
   "sourceType": "notebook"
  },
  "kernelspec": {
   "display_name": "Python 3",
   "language": "python",
   "name": "python3"
  },
  "language_info": {
   "codemirror_mode": {
    "name": "ipython",
    "version": 3
   },
   "file_extension": ".py",
   "mimetype": "text/x-python",
   "name": "python",
   "nbconvert_exporter": "python",
   "pygments_lexer": "ipython3",
   "version": "3.10.10"
  },
  "papermill": {
   "default_parameters": {},
   "duration": 32800.606436,
   "end_time": "2023-11-19T14:42:08.125259",
   "environment_variables": {},
   "exception": null,
   "input_path": "__notebook__.ipynb",
   "output_path": "__notebook__.ipynb",
   "parameters": {},
   "start_time": "2023-11-19T05:35:27.518823",
   "version": "2.4.0"
  }
 },
 "nbformat": 4,
 "nbformat_minor": 5
}
